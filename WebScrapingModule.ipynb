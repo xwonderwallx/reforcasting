{
 "cells": [
  {
   "cell_type": "code",
   "outputs": [
    {
     "name": "stdout",
     "output_type": "stream",
     "text": [
      "Current working directory:  E:\\_programming\\python\\reforecast_model\n",
      "average_sentiment: 0.03341182499691524\n",
      "Общий настрой рынка: Позитивный\n"
     ]
    }
   ],
   "source": [
    "from src.classes.WebScraper import WebScraper\n",
    "from textblob import TextBlob\n",
    "import numpy as np\n",
    "\n",
    "sentiments = []\n",
    "\n",
    "scraper = WebScraper()\n",
    "news = scraper.search_and_scrape('bitcoin 23.02.2022')\n",
    "\n",
    "for article in news:\n",
    "    for paragraph in article:\n",
    "        blob = TextBlob(paragraph)\n",
    "        sentiments.append(blob.sentiment.polarity)\n",
    "\n",
    "average_sentiment = np.mean(sentiments)\n",
    "\n",
    "print(f\"average_sentiment: {average_sentiment}\")\n",
    "\n",
    "if average_sentiment > 0:\n",
    "    print(\"Общий настрой рынка: Позитивный\")\n",
    "elif average_sentiment < 0:\n",
    "    print(\"Общий настрой рынка: Негативный\")\n",
    "else:\n",
    "    print(\"Общий настрой рынка: Нейтральный\")\n"
   ],
   "metadata": {
    "collapsed": false,
    "ExecuteTime": {
     "end_time": "2024-01-15T20:47:13.943828600Z",
     "start_time": "2024-01-15T20:46:53.741663700Z"
    }
   },
   "id": "df0e430e62c419c5",
   "execution_count": 11
  },
  {
   "cell_type": "code",
   "outputs": [
    {
     "name": "stdout",
     "output_type": "stream",
     "text": [
      "Current working directory:  E:\\_programming\\python\\reforecast_model\n",
      "Positive: 0.9758\n",
      "Positive: 0.9977\n",
      "Positive: 0.9325\n",
      "Positive: 0.9937\n",
      "Positive: 0.9993\n",
      "Positive: 0.8718\n",
      "Positive: 0.999\n",
      "Positive: 0.9987\n",
      "Positive: 0.986\n",
      "Negative: -0.9705\n",
      "Total Positive: 8.7545\n",
      "Total Negative: 0.9705\n",
      "Total Neutral: 0\n"
     ]
    }
   ],
   "source": [
    "from statsmodels.tsa.statespace import news\n",
    "from vaderSentiment.vaderSentiment import SentimentIntensityAnalyzer\n",
    "\n",
    "scraper = WebScraper()\n",
    "web_scrapper_news = scraper.search_and_scrape('bitcoin 23.02.2022')\n",
    "\n",
    "analyzer = SentimentIntensityAnalyzer()\n",
    "# \n",
    "positive = 0\n",
    "negative = 0\n",
    "neutral = 0\n",
    "\n",
    "for text in web_scrapper_news:\n",
    "    sentiment = analyzer.polarity_scores(text)\n",
    "\n",
    "    if sentiment['compound'] >= 0.05:\n",
    "        positive += sentiment['compound']\n",
    "        print(f\"Positive: {sentiment['compound']}\")\n",
    "    elif sentiment['compound'] <= -0.05:\n",
    "        negative -= sentiment['compound']\n",
    "        print(f\"Negative: {sentiment['compound']}\")\n",
    "    else:\n",
    "        neutral += sentiment['compound']\n",
    "        print(f\"Neutral: {sentiment['compound']}\")\n",
    "\n",
    "print(f'Total Positive: {positive}')\n",
    "print(f'Total Negative: {negative}')\n",
    "print(f'Total Neutral: {neutral}')\n"
   ],
   "metadata": {
    "collapsed": false,
    "ExecuteTime": {
     "end_time": "2024-01-15T20:47:30.366148200Z",
     "start_time": "2024-01-15T20:47:13.945831500Z"
    }
   },
   "id": "281f16740985ed90",
   "execution_count": 12
  },
  {
   "cell_type": "code",
   "outputs": [
    {
     "name": "stderr",
     "output_type": "stream",
     "text": [
      "[nltk_data] Downloading package wordnet to\n",
      "[nltk_data]     C:\\Users\\ACER\\AppData\\Roaming\\nltk_data...\n",
      "[nltk_data]   Package wordnet is already up-to-date!\n",
      "[nltk_data] Downloading package stopwords to\n",
      "[nltk_data]     C:\\Users\\ACER\\AppData\\Roaming\\nltk_data...\n",
      "[nltk_data]   Package stopwords is already up-to-date!\n"
     ]
    },
    {
     "name": "stdout",
     "output_type": "stream",
     "text": [
      "Current working directory:  E:\\_programming\\python\\reforecast_model\n"
     ]
    },
    {
     "ename": "TypeError",
     "evalue": "expected string or bytes-like object, got 'list'",
     "output_type": "error",
     "traceback": [
      "\u001B[1;31m---------------------------------------------------------------------------\u001B[0m",
      "\u001B[1;31mTypeError\u001B[0m                                 Traceback (most recent call last)",
      "Cell \u001B[1;32mIn[13], line 5\u001B[0m\n\u001B[0;32m      1\u001B[0m \u001B[38;5;28;01mfrom\u001B[39;00m \u001B[38;5;21;01msrc\u001B[39;00m\u001B[38;5;21;01m.\u001B[39;00m\u001B[38;5;21;01mhandlers\u001B[39;00m\u001B[38;5;21;01m.\u001B[39;00m\u001B[38;5;21;01mNewsHandler\u001B[39;00m \u001B[38;5;28;01mimport\u001B[39;00m NewsHandler\n\u001B[0;32m      4\u001B[0m news_handler \u001B[38;5;241m=\u001B[39m NewsHandler(\u001B[38;5;124m\"\u001B[39m\u001B[38;5;124mBTC\u001B[39m\u001B[38;5;124m\"\u001B[39m, \u001B[38;5;124m\"\u001B[39m\u001B[38;5;124m22.02.2022\u001B[39m\u001B[38;5;124m\"\u001B[39m)\n\u001B[1;32m----> 5\u001B[0m result \u001B[38;5;241m=\u001B[39m \u001B[43mnews_handler\u001B[49m\u001B[38;5;241;43m.\u001B[39;49m\u001B[43mhandle\u001B[49m\u001B[43m(\u001B[49m\u001B[43m)\u001B[49m\n\u001B[0;32m      6\u001B[0m \u001B[38;5;28mprint\u001B[39m(result)\n",
      "File \u001B[1;32mE:\\_programming\\python\\reforecast_model\\src\\handlers\\NewsHandler.py:24\u001B[0m, in \u001B[0;36mNewsHandler.handle\u001B[1;34m(self)\u001B[0m\n\u001B[0;32m     22\u001B[0m \u001B[38;5;28;01mdef\u001B[39;00m \u001B[38;5;21mhandle\u001B[39m(\u001B[38;5;28mself\u001B[39m):\n\u001B[0;32m     23\u001B[0m     news_analyzer \u001B[38;5;241m=\u001B[39m NewsAnalyzer(\u001B[38;5;28mself\u001B[39m\u001B[38;5;241m.\u001B[39mget_financial_news())\n\u001B[1;32m---> 24\u001B[0m     analysis \u001B[38;5;241m=\u001B[39m \u001B[43mnews_analyzer\u001B[49m\u001B[38;5;241;43m.\u001B[39;49m\u001B[43manalyze\u001B[49m\u001B[43m(\u001B[49m\u001B[43m)\u001B[49m\n\u001B[0;32m     25\u001B[0m     results_str \u001B[38;5;241m=\u001B[39m [\u001B[38;5;28mstr\u001B[39m(mood_state) \u001B[38;5;28;01mfor\u001B[39;00m mood_state \u001B[38;5;129;01min\u001B[39;00m analysis]\n\u001B[0;32m     26\u001B[0m     results_joined \u001B[38;5;241m=\u001B[39m \u001B[38;5;124m'\u001B[39m\u001B[38;5;124m, \u001B[39m\u001B[38;5;124m'\u001B[39m\u001B[38;5;241m.\u001B[39mjoin(results_str)\n",
      "File \u001B[1;32mE:\\_programming\\python\\reforecast_model\\src\\classes\\NewsAnalyzer.py:20\u001B[0m, in \u001B[0;36mNewsAnalyzer.analyze\u001B[1;34m(self)\u001B[0m\n\u001B[0;32m     17\u001B[0m results \u001B[38;5;241m=\u001B[39m []\n\u001B[0;32m     19\u001B[0m \u001B[38;5;28;01mfor\u001B[39;00m article \u001B[38;5;129;01min\u001B[39;00m \u001B[38;5;28mself\u001B[39m\u001B[38;5;241m.\u001B[39mnews:\n\u001B[1;32m---> 20\u001B[0m     preprocessed_text \u001B[38;5;241m=\u001B[39m \u001B[38;5;28;43mself\u001B[39;49m\u001B[38;5;241;43m.\u001B[39;49m\u001B[43mpreprocess_text\u001B[49m\u001B[43m(\u001B[49m\u001B[43marticle\u001B[49m\u001B[43m)\u001B[49m\n\u001B[0;32m     21\u001B[0m     sentiment_vader \u001B[38;5;241m=\u001B[39m analyzer\u001B[38;5;241m.\u001B[39mpolarity_scores(preprocessed_text)\n\u001B[0;32m     22\u001B[0m     sentiment_textblob \u001B[38;5;241m=\u001B[39m TextBlob(preprocessed_text)\u001B[38;5;241m.\u001B[39msentiment\u001B[38;5;241m.\u001B[39mpolarity\n",
      "File \u001B[1;32mE:\\_programming\\python\\reforecast_model\\src\\classes\\NewsAnalyzer.py:37\u001B[0m, in \u001B[0;36mNewsAnalyzer.preprocess_text\u001B[1;34m(self, text)\u001B[0m\n\u001B[0;32m     36\u001B[0m \u001B[38;5;28;01mdef\u001B[39;00m \u001B[38;5;21mpreprocess_text\u001B[39m(\u001B[38;5;28mself\u001B[39m, text):\n\u001B[1;32m---> 37\u001B[0m     soup \u001B[38;5;241m=\u001B[39m \u001B[43mBeautifulSoup\u001B[49m\u001B[43m(\u001B[49m\u001B[43mtext\u001B[49m\u001B[43m,\u001B[49m\u001B[43m \u001B[49m\u001B[38;5;124;43m\"\u001B[39;49m\u001B[38;5;124;43mhtml.parser\u001B[39;49m\u001B[38;5;124;43m\"\u001B[39;49m\u001B[43m)\u001B[49m\n\u001B[0;32m     38\u001B[0m     text \u001B[38;5;241m=\u001B[39m soup\u001B[38;5;241m.\u001B[39mget_text(separator\u001B[38;5;241m=\u001B[39m\u001B[38;5;124m\"\u001B[39m\u001B[38;5;124m \u001B[39m\u001B[38;5;124m\"\u001B[39m)\n\u001B[0;32m     40\u001B[0m     text \u001B[38;5;241m=\u001B[39m text\u001B[38;5;241m.\u001B[39mlower()\n",
      "File \u001B[1;32m~\\AppData\\Local\\Packages\\PythonSoftwareFoundation.Python.3.11_qbz5n2kfra8p0\\LocalCache\\local-packages\\Python311\\site-packages\\bs4\\__init__.py:328\u001B[0m, in \u001B[0;36mBeautifulSoup.__init__\u001B[1;34m(self, markup, features, builder, parse_only, from_encoding, exclude_encodings, element_classes, **kwargs)\u001B[0m\n\u001B[0;32m    326\u001B[0m rejections \u001B[38;5;241m=\u001B[39m []\n\u001B[0;32m    327\u001B[0m success \u001B[38;5;241m=\u001B[39m \u001B[38;5;28;01mFalse\u001B[39;00m\n\u001B[1;32m--> 328\u001B[0m \u001B[43m\u001B[49m\u001B[38;5;28;43;01mfor\u001B[39;49;00m\u001B[43m \u001B[49m\u001B[43m(\u001B[49m\u001B[38;5;28;43mself\u001B[39;49m\u001B[38;5;241;43m.\u001B[39;49m\u001B[43mmarkup\u001B[49m\u001B[43m,\u001B[49m\u001B[43m \u001B[49m\u001B[38;5;28;43mself\u001B[39;49m\u001B[38;5;241;43m.\u001B[39;49m\u001B[43moriginal_encoding\u001B[49m\u001B[43m,\u001B[49m\u001B[43m \u001B[49m\u001B[38;5;28;43mself\u001B[39;49m\u001B[38;5;241;43m.\u001B[39;49m\u001B[43mdeclared_html_encoding\u001B[49m\u001B[43m,\u001B[49m\n\u001B[0;32m    329\u001B[0m \u001B[43m \u001B[49m\u001B[38;5;28;43mself\u001B[39;49m\u001B[38;5;241;43m.\u001B[39;49m\u001B[43mcontains_replacement_characters\u001B[49m\u001B[43m)\u001B[49m\u001B[43m \u001B[49m\u001B[38;5;129;43;01min\u001B[39;49;00m\u001B[43m \u001B[49m\u001B[43m(\u001B[49m\n\u001B[0;32m    330\u001B[0m \u001B[43m     \u001B[49m\u001B[38;5;28;43mself\u001B[39;49m\u001B[38;5;241;43m.\u001B[39;49m\u001B[43mbuilder\u001B[49m\u001B[38;5;241;43m.\u001B[39;49m\u001B[43mprepare_markup\u001B[49m\u001B[43m(\u001B[49m\n\u001B[0;32m    331\u001B[0m \u001B[43m         \u001B[49m\u001B[43mmarkup\u001B[49m\u001B[43m,\u001B[49m\u001B[43m \u001B[49m\u001B[43mfrom_encoding\u001B[49m\u001B[43m,\u001B[49m\u001B[43m \u001B[49m\u001B[43mexclude_encodings\u001B[49m\u001B[38;5;241;43m=\u001B[39;49m\u001B[43mexclude_encodings\u001B[49m\u001B[43m)\u001B[49m\u001B[43m)\u001B[49m\u001B[43m:\u001B[49m\n\u001B[0;32m    332\u001B[0m \u001B[43m    \u001B[49m\u001B[38;5;28;43mself\u001B[39;49m\u001B[38;5;241;43m.\u001B[39;49m\u001B[43mreset\u001B[49m\u001B[43m(\u001B[49m\u001B[43m)\u001B[49m\n\u001B[0;32m    333\u001B[0m \u001B[43m    \u001B[49m\u001B[38;5;28;43mself\u001B[39;49m\u001B[38;5;241;43m.\u001B[39;49m\u001B[43mbuilder\u001B[49m\u001B[38;5;241;43m.\u001B[39;49m\u001B[43minitialize_soup\u001B[49m\u001B[43m(\u001B[49m\u001B[38;5;28;43mself\u001B[39;49m\u001B[43m)\u001B[49m\n",
      "File \u001B[1;32m~\\AppData\\Local\\Packages\\PythonSoftwareFoundation.Python.3.11_qbz5n2kfra8p0\\LocalCache\\local-packages\\Python311\\site-packages\\bs4\\builder\\_htmlparser.py:361\u001B[0m, in \u001B[0;36mHTMLParserTreeBuilder.prepare_markup\u001B[1;34m(self, markup, user_specified_encoding, document_declared_encoding, exclude_encodings)\u001B[0m\n\u001B[0;32m    358\u001B[0m user_encodings \u001B[38;5;241m=\u001B[39m [document_declared_encoding]\n\u001B[0;32m    360\u001B[0m try_encodings \u001B[38;5;241m=\u001B[39m [user_specified_encoding, document_declared_encoding]\n\u001B[1;32m--> 361\u001B[0m dammit \u001B[38;5;241m=\u001B[39m \u001B[43mUnicodeDammit\u001B[49m\u001B[43m(\u001B[49m\n\u001B[0;32m    362\u001B[0m \u001B[43m    \u001B[49m\u001B[43mmarkup\u001B[49m\u001B[43m,\u001B[49m\n\u001B[0;32m    363\u001B[0m \u001B[43m    \u001B[49m\u001B[43mknown_definite_encodings\u001B[49m\u001B[38;5;241;43m=\u001B[39;49m\u001B[43mknown_definite_encodings\u001B[49m\u001B[43m,\u001B[49m\n\u001B[0;32m    364\u001B[0m \u001B[43m    \u001B[49m\u001B[43muser_encodings\u001B[49m\u001B[38;5;241;43m=\u001B[39;49m\u001B[43muser_encodings\u001B[49m\u001B[43m,\u001B[49m\n\u001B[0;32m    365\u001B[0m \u001B[43m    \u001B[49m\u001B[43mis_html\u001B[49m\u001B[38;5;241;43m=\u001B[39;49m\u001B[38;5;28;43;01mTrue\u001B[39;49;00m\u001B[43m,\u001B[49m\n\u001B[0;32m    366\u001B[0m \u001B[43m    \u001B[49m\u001B[43mexclude_encodings\u001B[49m\u001B[38;5;241;43m=\u001B[39;49m\u001B[43mexclude_encodings\u001B[49m\n\u001B[0;32m    367\u001B[0m \u001B[43m\u001B[49m\u001B[43m)\u001B[49m\n\u001B[0;32m    368\u001B[0m \u001B[38;5;28;01myield\u001B[39;00m (dammit\u001B[38;5;241m.\u001B[39mmarkup, dammit\u001B[38;5;241m.\u001B[39moriginal_encoding,\n\u001B[0;32m    369\u001B[0m        dammit\u001B[38;5;241m.\u001B[39mdeclared_html_encoding,\n\u001B[0;32m    370\u001B[0m        dammit\u001B[38;5;241m.\u001B[39mcontains_replacement_characters)\n",
      "File \u001B[1;32m~\\AppData\\Local\\Packages\\PythonSoftwareFoundation.Python.3.11_qbz5n2kfra8p0\\LocalCache\\local-packages\\Python311\\site-packages\\bs4\\dammit.py:601\u001B[0m, in \u001B[0;36mUnicodeDammit.__init__\u001B[1;34m(self, markup, known_definite_encodings, smart_quotes_to, is_html, exclude_encodings, user_encodings, override_encodings)\u001B[0m\n\u001B[0;32m    598\u001B[0m \u001B[38;5;28mself\u001B[39m\u001B[38;5;241m.\u001B[39mmarkup \u001B[38;5;241m=\u001B[39m \u001B[38;5;28mself\u001B[39m\u001B[38;5;241m.\u001B[39mdetector\u001B[38;5;241m.\u001B[39mmarkup\n\u001B[0;32m    600\u001B[0m u \u001B[38;5;241m=\u001B[39m \u001B[38;5;28;01mNone\u001B[39;00m\n\u001B[1;32m--> 601\u001B[0m \u001B[43m\u001B[49m\u001B[38;5;28;43;01mfor\u001B[39;49;00m\u001B[43m \u001B[49m\u001B[43mencoding\u001B[49m\u001B[43m \u001B[49m\u001B[38;5;129;43;01min\u001B[39;49;00m\u001B[43m \u001B[49m\u001B[38;5;28;43mself\u001B[39;49m\u001B[38;5;241;43m.\u001B[39;49m\u001B[43mdetector\u001B[49m\u001B[38;5;241;43m.\u001B[39;49m\u001B[43mencodings\u001B[49m\u001B[43m:\u001B[49m\n\u001B[0;32m    602\u001B[0m \u001B[43m    \u001B[49m\u001B[43mmarkup\u001B[49m\u001B[43m \u001B[49m\u001B[38;5;241;43m=\u001B[39;49m\u001B[43m \u001B[49m\u001B[38;5;28;43mself\u001B[39;49m\u001B[38;5;241;43m.\u001B[39;49m\u001B[43mdetector\u001B[49m\u001B[38;5;241;43m.\u001B[39;49m\u001B[43mmarkup\u001B[49m\n\u001B[0;32m    603\u001B[0m \u001B[43m    \u001B[49m\u001B[43mu\u001B[49m\u001B[43m \u001B[49m\u001B[38;5;241;43m=\u001B[39;49m\u001B[43m \u001B[49m\u001B[38;5;28;43mself\u001B[39;49m\u001B[38;5;241;43m.\u001B[39;49m\u001B[43m_convert_from\u001B[49m\u001B[43m(\u001B[49m\u001B[43mencoding\u001B[49m\u001B[43m)\u001B[49m\n",
      "File \u001B[1;32m~\\AppData\\Local\\Packages\\PythonSoftwareFoundation.Python.3.11_qbz5n2kfra8p0\\LocalCache\\local-packages\\Python311\\site-packages\\bs4\\dammit.py:434\u001B[0m, in \u001B[0;36mEncodingDetector.encodings\u001B[1;34m(self)\u001B[0m\n\u001B[0;32m    431\u001B[0m \u001B[38;5;66;03m# Look within the document for an XML or HTML encoding\u001B[39;00m\n\u001B[0;32m    432\u001B[0m \u001B[38;5;66;03m# declaration.\u001B[39;00m\n\u001B[0;32m    433\u001B[0m \u001B[38;5;28;01mif\u001B[39;00m \u001B[38;5;28mself\u001B[39m\u001B[38;5;241m.\u001B[39mdeclared_encoding \u001B[38;5;129;01mis\u001B[39;00m \u001B[38;5;28;01mNone\u001B[39;00m:\n\u001B[1;32m--> 434\u001B[0m     \u001B[38;5;28mself\u001B[39m\u001B[38;5;241m.\u001B[39mdeclared_encoding \u001B[38;5;241m=\u001B[39m \u001B[38;5;28;43mself\u001B[39;49m\u001B[38;5;241;43m.\u001B[39;49m\u001B[43mfind_declared_encoding\u001B[49m\u001B[43m(\u001B[49m\n\u001B[0;32m    435\u001B[0m \u001B[43m        \u001B[49m\u001B[38;5;28;43mself\u001B[39;49m\u001B[38;5;241;43m.\u001B[39;49m\u001B[43mmarkup\u001B[49m\u001B[43m,\u001B[49m\u001B[43m \u001B[49m\u001B[38;5;28;43mself\u001B[39;49m\u001B[38;5;241;43m.\u001B[39;49m\u001B[43mis_html\u001B[49m\u001B[43m)\u001B[49m\n\u001B[0;32m    436\u001B[0m \u001B[38;5;28;01mif\u001B[39;00m \u001B[38;5;28mself\u001B[39m\u001B[38;5;241m.\u001B[39m_usable(\u001B[38;5;28mself\u001B[39m\u001B[38;5;241m.\u001B[39mdeclared_encoding, tried):\n\u001B[0;32m    437\u001B[0m     \u001B[38;5;28;01myield\u001B[39;00m \u001B[38;5;28mself\u001B[39m\u001B[38;5;241m.\u001B[39mdeclared_encoding\n",
      "File \u001B[1;32m~\\AppData\\Local\\Packages\\PythonSoftwareFoundation.Python.3.11_qbz5n2kfra8p0\\LocalCache\\local-packages\\Python311\\site-packages\\bs4\\dammit.py:511\u001B[0m, in \u001B[0;36mEncodingDetector.find_declared_encoding\u001B[1;34m(cls, markup, is_html, search_entire_document)\u001B[0m\n\u001B[0;32m    509\u001B[0m html_re \u001B[38;5;241m=\u001B[39m res[\u001B[38;5;124m'\u001B[39m\u001B[38;5;124mhtml\u001B[39m\u001B[38;5;124m'\u001B[39m]\n\u001B[0;32m    510\u001B[0m declared_encoding \u001B[38;5;241m=\u001B[39m \u001B[38;5;28;01mNone\u001B[39;00m\n\u001B[1;32m--> 511\u001B[0m declared_encoding_match \u001B[38;5;241m=\u001B[39m \u001B[43mxml_re\u001B[49m\u001B[38;5;241;43m.\u001B[39;49m\u001B[43msearch\u001B[49m\u001B[43m(\u001B[49m\u001B[43mmarkup\u001B[49m\u001B[43m,\u001B[49m\u001B[43m \u001B[49m\u001B[43mendpos\u001B[49m\u001B[38;5;241;43m=\u001B[39;49m\u001B[43mxml_endpos\u001B[49m\u001B[43m)\u001B[49m\n\u001B[0;32m    512\u001B[0m \u001B[38;5;28;01mif\u001B[39;00m \u001B[38;5;129;01mnot\u001B[39;00m declared_encoding_match \u001B[38;5;129;01mand\u001B[39;00m is_html:\n\u001B[0;32m    513\u001B[0m     declared_encoding_match \u001B[38;5;241m=\u001B[39m html_re\u001B[38;5;241m.\u001B[39msearch(markup, endpos\u001B[38;5;241m=\u001B[39mhtml_endpos)\n",
      "\u001B[1;31mTypeError\u001B[0m: expected string or bytes-like object, got 'list'"
     ]
    }
   ],
   "source": [
    "from src.handlers.NewsHandler import NewsHandler\n",
    "\n",
    "\n",
    "news_handler = NewsHandler(\"BTC\", \"22.02.2022\")\n",
    "result = news_handler.handle()\n",
    "print(result)"
   ],
   "metadata": {
    "collapsed": false,
    "ExecuteTime": {
     "end_time": "2024-01-15T20:47:53.351836200Z",
     "start_time": "2024-01-15T20:47:30.365151400Z"
    }
   },
   "id": "18d321afa9bb4d2a",
   "execution_count": 13
  },
  {
   "cell_type": "code",
   "outputs": [],
   "source": [
    "web_scrapper_news"
   ],
   "metadata": {
    "collapsed": false,
    "ExecuteTime": {
     "end_time": "2024-01-15T20:47:53.359835600Z",
     "start_time": "2024-01-15T20:47:53.356835900Z"
    }
   },
   "id": "4cebf163547bc8aa",
   "execution_count": null
  },
  {
   "cell_type": "markdown",
   "source": [],
   "metadata": {
    "collapsed": false
   },
   "id": "7fb119fa61a9856b"
  },
  {
   "cell_type": "code",
   "outputs": [],
   "source": [],
   "metadata": {
    "collapsed": false,
    "ExecuteTime": {
     "start_time": "2024-01-15T20:47:53.359835600Z"
    }
   },
   "id": "b5aae1028e519f96",
   "execution_count": null
  },
  {
   "cell_type": "code",
   "outputs": [],
   "source": [
    "\n",
    "from src.services.Config import Config\n",
    "\n",
    "config = Config()"
   ],
   "metadata": {
    "collapsed": false,
    "ExecuteTime": {
     "start_time": "2024-01-15T20:47:53.363842700Z"
    }
   },
   "id": "f79be872b3d10df5",
   "execution_count": null
  },
  {
   "cell_type": "code",
   "outputs": [],
   "source": [],
   "metadata": {
    "collapsed": false,
    "ExecuteTime": {
     "start_time": "2024-01-15T20:47:53.365841600Z"
    }
   },
   "id": "f6809ac14f73ef95"
  },
  {
   "cell_type": "code",
   "outputs": [],
   "source": [
    "from src.services.Logger import Logger\n",
    "\n",
    "Logger().add_log(log=\"TEST\")"
   ],
   "metadata": {
    "collapsed": false,
    "ExecuteTime": {
     "end_time": "2024-01-15T21:03:29.163580900Z",
     "start_time": "2024-01-15T21:03:29.128599200Z"
    }
   },
   "id": "d192249bdc5838fe",
   "execution_count": 14
  }
 ],
 "metadata": {
  "kernelspec": {
   "display_name": "Python 3",
   "language": "python",
   "name": "python3"
  },
  "language_info": {
   "codemirror_mode": {
    "name": "ipython",
    "version": 2
   },
   "file_extension": ".py",
   "mimetype": "text/x-python",
   "name": "python",
   "nbconvert_exporter": "python",
   "pygments_lexer": "ipython2",
   "version": "2.7.6"
  }
 },
 "nbformat": 4,
 "nbformat_minor": 5
}
