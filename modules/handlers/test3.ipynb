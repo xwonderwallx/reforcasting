{
 "cells": [
  {
   "cell_type": "code",
   "execution_count": 1,
   "id": "initial_id",
   "metadata": {
    "collapsed": true,
    "ExecuteTime": {
     "end_time": "2024-01-15T19:25:51.223898800Z",
     "start_time": "2024-01-15T19:25:08.674662100Z"
    }
   },
   "outputs": [
    {
     "name": "stdout",
     "output_type": "stream",
     "text": [
      "WARNING:tensorflow:From C:\\Users\\ACER\\AppData\\Local\\Packages\\PythonSoftwareFoundation.Python.3.11_qbz5n2kfra8p0\\LocalCache\\local-packages\\Python311\\site-packages\\keras\\src\\losses.py:2976: The name tf.losses.sparse_softmax_cross_entropy is deprecated. Please use tf.compat.v1.losses.sparse_softmax_cross_entropy instead.\n",
      "WARNING:tensorflow:From E:\\SystemWin\\TEMP\\ipykernel_16476\\815744750.py:6: The name tf.logging.set_verbosity is deprecated. Please use tf.compat.v1.logging.set_verbosity instead.\n"
     ]
    }
   ],
   "source": [
    "from src.classes.handlers.crypto_data.BinanceHandler import BinanceHandler\n",
    "import pandas as pd\n",
    "from tensorflow.keras.callbacks import TensorBoard\n",
    "import time\n",
    "import tensorflow as tf\n",
    "tf.compat.v1.logging.set_verbosity(tf.compat.v1.logging.ERROR)\n",
    "from sklearn.preprocessing import MinMaxScaler\n",
    "import numpy as np"
   ]
  },
  {
   "cell_type": "code",
   "outputs": [],
   "source": [
    "log_dir = \"logs/fit/\" + time.strftime(\"%Y%m%d-%H%M%S\")\n",
    "tensorboard_callback = TensorBoard(log_dir=log_dir, histogram_freq=1)"
   ],
   "metadata": {
    "collapsed": false,
    "ExecuteTime": {
     "end_time": "2024-01-15T19:25:51.286104800Z",
     "start_time": "2024-01-15T19:25:51.226895200Z"
    }
   },
   "id": "ed44cda29e54647e",
   "execution_count": 2
  },
  {
   "cell_type": "code",
   "outputs": [
    {
     "data": {
      "text/plain": "          Timestamp      Open      High       Low     Close        Volume\n0     1502928000000   4261.48   4485.39   4200.74   4285.08    795.150377\n1     1503014400000   4285.08   4371.52   3938.77   4108.37   1199.888264\n2     1503100800000   4108.37   4184.69   3850.00   4139.98    381.309763\n3     1503187200000   4120.98   4211.08   4032.62   4086.29    467.083022\n4     1503273600000   4069.13   4119.62   3911.79   4016.00    691.743060\n...             ...       ...       ...       ...       ...           ...\n2338  1704931200000  46654.00  48969.48  45606.06  46339.16  87470.329600\n2339  1705017600000  46339.16  46515.53  41500.00  42782.73  86327.937070\n2340  1705104000000  42782.74  43257.00  42436.12  42847.99  36118.474640\n2341  1705190400000  42847.99  43079.00  41720.00  41732.35  28228.408940\n2342  1705276800000  41732.35  43400.43  41718.05  43012.21  33892.938430\n\n[2343 rows x 6 columns]",
      "text/html": "<div>\n<style scoped>\n    .dataframe tbody tr th:only-of-type {\n        vertical-align: middle;\n    }\n\n    .dataframe tbody tr th {\n        vertical-align: top;\n    }\n\n    .dataframe thead th {\n        text-align: right;\n    }\n</style>\n<table border=\"1\" class=\"dataframe\">\n  <thead>\n    <tr style=\"text-align: right;\">\n      <th></th>\n      <th>Timestamp</th>\n      <th>Open</th>\n      <th>High</th>\n      <th>Low</th>\n      <th>Close</th>\n      <th>Volume</th>\n    </tr>\n  </thead>\n  <tbody>\n    <tr>\n      <th>0</th>\n      <td>1502928000000</td>\n      <td>4261.48</td>\n      <td>4485.39</td>\n      <td>4200.74</td>\n      <td>4285.08</td>\n      <td>795.150377</td>\n    </tr>\n    <tr>\n      <th>1</th>\n      <td>1503014400000</td>\n      <td>4285.08</td>\n      <td>4371.52</td>\n      <td>3938.77</td>\n      <td>4108.37</td>\n      <td>1199.888264</td>\n    </tr>\n    <tr>\n      <th>2</th>\n      <td>1503100800000</td>\n      <td>4108.37</td>\n      <td>4184.69</td>\n      <td>3850.00</td>\n      <td>4139.98</td>\n      <td>381.309763</td>\n    </tr>\n    <tr>\n      <th>3</th>\n      <td>1503187200000</td>\n      <td>4120.98</td>\n      <td>4211.08</td>\n      <td>4032.62</td>\n      <td>4086.29</td>\n      <td>467.083022</td>\n    </tr>\n    <tr>\n      <th>4</th>\n      <td>1503273600000</td>\n      <td>4069.13</td>\n      <td>4119.62</td>\n      <td>3911.79</td>\n      <td>4016.00</td>\n      <td>691.743060</td>\n    </tr>\n    <tr>\n      <th>...</th>\n      <td>...</td>\n      <td>...</td>\n      <td>...</td>\n      <td>...</td>\n      <td>...</td>\n      <td>...</td>\n    </tr>\n    <tr>\n      <th>2338</th>\n      <td>1704931200000</td>\n      <td>46654.00</td>\n      <td>48969.48</td>\n      <td>45606.06</td>\n      <td>46339.16</td>\n      <td>87470.329600</td>\n    </tr>\n    <tr>\n      <th>2339</th>\n      <td>1705017600000</td>\n      <td>46339.16</td>\n      <td>46515.53</td>\n      <td>41500.00</td>\n      <td>42782.73</td>\n      <td>86327.937070</td>\n    </tr>\n    <tr>\n      <th>2340</th>\n      <td>1705104000000</td>\n      <td>42782.74</td>\n      <td>43257.00</td>\n      <td>42436.12</td>\n      <td>42847.99</td>\n      <td>36118.474640</td>\n    </tr>\n    <tr>\n      <th>2341</th>\n      <td>1705190400000</td>\n      <td>42847.99</td>\n      <td>43079.00</td>\n      <td>41720.00</td>\n      <td>41732.35</td>\n      <td>28228.408940</td>\n    </tr>\n    <tr>\n      <th>2342</th>\n      <td>1705276800000</td>\n      <td>41732.35</td>\n      <td>43400.43</td>\n      <td>41718.05</td>\n      <td>43012.21</td>\n      <td>33892.938430</td>\n    </tr>\n  </tbody>\n</table>\n<p>2343 rows × 6 columns</p>\n</div>"
     },
     "execution_count": 3,
     "metadata": {},
     "output_type": "execute_result"
    }
   ],
   "source": [
    "file_path = 'btc_data.csv'\n",
    "params = {\n",
    "    'symbol': 'BTCUSDT',\n",
    "    'timeframe': '1d',\n",
    "    'file_name': file_path\n",
    "}\n",
    "data_handler = BinanceHandler(params)\n",
    "data_handler.handle()\n",
    "crypto_data = pd.read_csv(file_path)\n",
    "crypto_data"
   ],
   "metadata": {
    "collapsed": false,
    "ExecuteTime": {
     "end_time": "2024-01-15T19:26:01.085768800Z",
     "start_time": "2024-01-15T19:25:51.275067600Z"
    }
   },
   "id": "949a3cac37d139a0",
   "execution_count": 3
  },
  {
   "cell_type": "code",
   "outputs": [
    {
     "data": {
      "text/plain": "      Actual_Close  Target       Date\n0          4285.08     NaN 2017-08-17\n1          4108.37     0.0 2017-08-18\n2          4139.98     1.0 2017-08-19\n3          4086.29     0.0 2017-08-20\n4          4016.00     0.0 2017-08-21\n...            ...     ...        ...\n2338      46339.16     0.0 2024-01-11\n2339      42782.73     0.0 2024-01-12\n2340      42847.99     1.0 2024-01-13\n2341      41732.35     0.0 2024-01-14\n2342      43012.21     1.0 2024-01-15\n\n[2343 rows x 3 columns]",
      "text/html": "<div>\n<style scoped>\n    .dataframe tbody tr th:only-of-type {\n        vertical-align: middle;\n    }\n\n    .dataframe tbody tr th {\n        vertical-align: top;\n    }\n\n    .dataframe thead th {\n        text-align: right;\n    }\n</style>\n<table border=\"1\" class=\"dataframe\">\n  <thead>\n    <tr style=\"text-align: right;\">\n      <th></th>\n      <th>Actual_Close</th>\n      <th>Target</th>\n      <th>Date</th>\n    </tr>\n  </thead>\n  <tbody>\n    <tr>\n      <th>0</th>\n      <td>4285.08</td>\n      <td>NaN</td>\n      <td>2017-08-17</td>\n    </tr>\n    <tr>\n      <th>1</th>\n      <td>4108.37</td>\n      <td>0.0</td>\n      <td>2017-08-18</td>\n    </tr>\n    <tr>\n      <th>2</th>\n      <td>4139.98</td>\n      <td>1.0</td>\n      <td>2017-08-19</td>\n    </tr>\n    <tr>\n      <th>3</th>\n      <td>4086.29</td>\n      <td>0.0</td>\n      <td>2017-08-20</td>\n    </tr>\n    <tr>\n      <th>4</th>\n      <td>4016.00</td>\n      <td>0.0</td>\n      <td>2017-08-21</td>\n    </tr>\n    <tr>\n      <th>...</th>\n      <td>...</td>\n      <td>...</td>\n      <td>...</td>\n    </tr>\n    <tr>\n      <th>2338</th>\n      <td>46339.16</td>\n      <td>0.0</td>\n      <td>2024-01-11</td>\n    </tr>\n    <tr>\n      <th>2339</th>\n      <td>42782.73</td>\n      <td>0.0</td>\n      <td>2024-01-12</td>\n    </tr>\n    <tr>\n      <th>2340</th>\n      <td>42847.99</td>\n      <td>1.0</td>\n      <td>2024-01-13</td>\n    </tr>\n    <tr>\n      <th>2341</th>\n      <td>41732.35</td>\n      <td>0.0</td>\n      <td>2024-01-14</td>\n    </tr>\n    <tr>\n      <th>2342</th>\n      <td>43012.21</td>\n      <td>1.0</td>\n      <td>2024-01-15</td>\n    </tr>\n  </tbody>\n</table>\n<p>2343 rows × 3 columns</p>\n</div>"
     },
     "execution_count": 4,
     "metadata": {},
     "output_type": "execute_result"
    },
    {
     "data": {
      "text/plain": "<Figure size 1000x1000 with 1 Axes>",
      "image/png": "[encoded data removed]"
     },
     "metadata": {},
     "output_type": "display_data"
    }
   ],
   "source": [
    "df = pd.DataFrame(crypto_data)\n",
    "df.rename(columns={'Timestamp': 'Date'}, inplace=True)\n",
    "df['Date'] = pd.to_datetime(df['Date'] / 1000, unit='s')\n",
    "\n",
    "df.plot.line(y='Close', x='Date', figsize=(10, 10))\n",
    "\n",
    "data = df[['Close']]\n",
    "data = data.rename(columns={'Close': 'Actual_Close'})\n",
    "data['Target'] = df['Close'].rolling(2).apply(lambda x: x.iloc[1] > x.iloc[0])\n",
    "data['Date'] = df['Date']\n",
    "data"
   ],
   "metadata": {
    "collapsed": false,
    "ExecuteTime": {
     "end_time": "2024-01-15T19:26:06.037245100Z",
     "start_time": "2024-01-15T19:26:01.083767400Z"
    }
   },
   "id": "210fe90ad3038e3c",
   "execution_count": 4
  },
  {
   "cell_type": "code",
   "outputs": [
    {
     "name": "stdout",
     "output_type": "stream",
     "text": [
      "        Date     Open     High      Low    Close       Volume\n",
      "0 2017-08-17  4261.48  4485.39  4200.74  4285.08   795.150377\n",
      "1 2017-08-18  4285.08  4371.52  3938.77  4108.37  1199.888264\n",
      "2 2017-08-19  4108.37  4184.69  3850.00  4139.98   381.309763\n",
      "3 2017-08-20  4120.98  4211.08  4032.62  4086.29   467.083022\n",
      "4 2017-08-21  4069.13  4119.62  3911.79  4016.00   691.743060\n",
      "(2343, 6)\n",
      "Index(['Date', 'Open', 'High', 'Low', 'Close', 'Volume'], dtype='object')\n"
     ]
    }
   ],
   "source": [
    "print(df.head())\n",
    "print(df.shape)\n",
    "print(df.columns)"
   ],
   "metadata": {
    "collapsed": false,
    "ExecuteTime": {
     "end_time": "2024-01-15T19:26:06.060369100Z",
     "start_time": "2024-01-15T19:26:06.037245100Z"
    }
   },
   "id": "b93efefd74ad2155",
   "execution_count": 5
  },
  {
   "cell_type": "code",
   "outputs": [],
   "source": [
    "def calculate_rsi(data, window):\n",
    "    delta = data.diff()\n",
    "    gain = ((delta.where(delta > 0, 0)).rolling(window=window).mean())\n",
    "    loss = ((-delta.where(delta < 0, 0)).rolling(window=window).mean())\n",
    "    RS = gain / loss\n",
    "    return 100 - (100 / (1 + RS))"
   ],
   "metadata": {
    "collapsed": false,
    "ExecuteTime": {
     "end_time": "2024-01-15T19:26:06.289373700Z",
     "start_time": "2024-01-15T19:26:06.053844500Z"
    }
   },
   "id": "c8c92de321913372",
   "execution_count": 6
  },
  {
   "cell_type": "code",
   "outputs": [
    {
     "data": {
      "text/plain": "           Date      Open      High       Low     Close        Volume  \\\n0    2017-08-17   4261.48   4485.39   4200.74   4285.08    795.150377   \n1    2017-08-18   4285.08   4371.52   3938.77   4108.37   1199.888264   \n2    2017-08-19   4108.37   4184.69   3850.00   4139.98    381.309763   \n3    2017-08-20   4120.98   4211.08   4032.62   4086.29    467.083022   \n4    2017-08-21   4069.13   4119.62   3911.79   4016.00    691.743060   \n...         ...       ...       ...       ...       ...           ...   \n2338 2024-01-11  46654.00  48969.48  45606.06  46339.16  87470.329600   \n2339 2024-01-12  46339.16  46515.53  41500.00  42782.73  86327.937070   \n2340 2024-01-13  42782.74  43257.00  42436.12  42847.99  36118.474640   \n2341 2024-01-14  42847.99  43079.00  41720.00  41732.35  28228.408940   \n2342 2024-01-15  41732.35  43400.43  41718.05  43012.21  33892.938430   \n\n            RSI         MACD  Signal_Line  MACD_Histogram  \n0           NaN     0.000000     0.000000        0.000000  \n1           NaN   -14.096524    -2.819305      -11.277219  \n2           NaN   -22.458570    -6.747158      -15.711412  \n3           NaN   -33.037055   -12.005137      -21.031918  \n4           NaN   -46.555731   -18.915256      -27.640475  \n...         ...          ...          ...             ...  \n2338  66.095284  1129.523320   902.685914      226.837407  \n2339  52.420154   869.211761   895.991083      -26.779322  \n2340  52.394175   660.564337   848.905734     -188.341397  \n2341  48.250305   400.569411   759.238469     -358.669058  \n2342  46.143845   294.401883   666.271152     -371.869269  \n\n[2343 rows x 10 columns]",
      "text/html": "<div>\n<style scoped>\n    .dataframe tbody tr th:only-of-type {\n        vertical-align: middle;\n    }\n\n    .dataframe tbody tr th {\n        vertical-align: top;\n    }\n\n    .dataframe thead th {\n        text-align: right;\n    }\n</style>\n<table border=\"1\" class=\"dataframe\">\n  <thead>\n    <tr style=\"text-align: right;\">\n      <th></th>\n      <th>Date</th>\n      <th>Open</th>\n      <th>High</th>\n      <th>Low</th>\n      <th>Close</th>\n      <th>Volume</th>\n      <th>RSI</th>\n      <th>MACD</th>\n      <th>Signal_Line</th>\n      <th>MACD_Histogram</th>\n    </tr>\n  </thead>\n  <tbody>\n    <tr>\n      <th>0</th>\n      <td>2017-08-17</td>\n      <td>4261.48</td>\n      <td>4485.39</td>\n      <td>4200.74</td>\n      <td>4285.08</td>\n      <td>795.150377</td>\n      <td>NaN</td>\n      <td>0.000000</td>\n      <td>0.000000</td>\n      <td>0.000000</td>\n    </tr>\n    <tr>\n      <th>1</th>\n      <td>2017-08-18</td>\n      <td>4285.08</td>\n      <td>4371.52</td>\n      <td>3938.77</td>\n      <td>4108.37</td>\n      <td>1199.888264</td>\n      <td>NaN</td>\n      <td>-14.096524</td>\n      <td>-2.819305</td>\n      <td>-11.277219</td>\n    </tr>\n    <tr>\n      <th>2</th>\n      <td>2017-08-19</td>\n      <td>4108.37</td>\n      <td>4184.69</td>\n      <td>3850.00</td>\n      <td>4139.98</td>\n      <td>381.309763</td>\n      <td>NaN</td>\n      <td>-22.458570</td>\n      <td>-6.747158</td>\n      <td>-15.711412</td>\n    </tr>\n    <tr>\n      <th>3</th>\n      <td>2017-08-20</td>\n      <td>4120.98</td>\n      <td>4211.08</td>\n      <td>4032.62</td>\n      <td>4086.29</td>\n      <td>467.083022</td>\n      <td>NaN</td>\n      <td>-33.037055</td>\n      <td>-12.005137</td>\n      <td>-21.031918</td>\n    </tr>\n    <tr>\n      <th>4</th>\n      <td>2017-08-21</td>\n      <td>4069.13</td>\n      <td>4119.62</td>\n      <td>3911.79</td>\n      <td>4016.00</td>\n      <td>691.743060</td>\n      <td>NaN</td>\n      <td>-46.555731</td>\n      <td>-18.915256</td>\n      <td>-27.640475</td>\n    </tr>\n    <tr>\n      <th>...</th>\n      <td>...</td>\n      <td>...</td>\n      <td>...</td>\n      <td>...</td>\n      <td>...</td>\n      <td>...</td>\n      <td>...</td>\n      <td>...</td>\n      <td>...</td>\n      <td>...</td>\n    </tr>\n    <tr>\n      <th>2338</th>\n      <td>2024-01-11</td>\n      <td>46654.00</td>\n      <td>48969.48</td>\n      <td>45606.06</td>\n      <td>46339.16</td>\n      <td>87470.329600</td>\n      <td>66.095284</td>\n      <td>1129.523320</td>\n      <td>902.685914</td>\n      <td>226.837407</td>\n    </tr>\n    <tr>\n      <th>2339</th>\n      <td>2024-01-12</td>\n      <td>46339.16</td>\n      <td>46515.53</td>\n      <td>41500.00</td>\n      <td>42782.73</td>\n      <td>86327.937070</td>\n      <td>52.420154</td>\n      <td>869.211761</td>\n      <td>895.991083</td>\n      <td>-26.779322</td>\n    </tr>\n    <tr>\n      <th>2340</th>\n      <td>2024-01-13</td>\n      <td>42782.74</td>\n      <td>43257.00</td>\n      <td>42436.12</td>\n      <td>42847.99</td>\n      <td>36118.474640</td>\n      <td>52.394175</td>\n      <td>660.564337</td>\n      <td>848.905734</td>\n      <td>-188.341397</td>\n    </tr>\n    <tr>\n      <th>2341</th>\n      <td>2024-01-14</td>\n      <td>42847.99</td>\n      <td>43079.00</td>\n      <td>41720.00</td>\n      <td>41732.35</td>\n      <td>28228.408940</td>\n      <td>48.250305</td>\n      <td>400.569411</td>\n      <td>759.238469</td>\n      <td>-358.669058</td>\n    </tr>\n    <tr>\n      <th>2342</th>\n      <td>2024-01-15</td>\n      <td>41732.35</td>\n      <td>43400.43</td>\n      <td>41718.05</td>\n      <td>43012.21</td>\n      <td>33892.938430</td>\n      <td>46.143845</td>\n      <td>294.401883</td>\n      <td>666.271152</td>\n      <td>-371.869269</td>\n    </tr>\n  </tbody>\n</table>\n<p>2343 rows × 10 columns</p>\n</div>"
     },
     "execution_count": 7,
     "metadata": {},
     "output_type": "execute_result"
    }
   ],
   "source": [
    "df['RSI'] = calculate_rsi(df['Close'], 14)\n",
    "ema_12 = df['Close'].ewm(span=12, adjust=False).mean()\n",
    "ema_26 = df['Close'].ewm(span=26, adjust=False).mean()\n",
    "df['MACD'] = ema_12 - ema_26\n",
    "df['Signal_Line'] = df['MACD'].ewm(span=9, adjust=False).mean()\n",
    "df['MACD_Histogram'] = df['MACD'] - df['Signal_Line']\n",
    "df"
   ],
   "metadata": {
    "collapsed": false,
    "ExecuteTime": {
     "end_time": "2024-01-15T19:26:06.342377400Z",
     "start_time": "2024-01-15T19:26:06.063373100Z"
    }
   },
   "id": "39e827fd60a55252",
   "execution_count": 7
  },
  {
   "cell_type": "code",
   "outputs": [],
   "source": [
    "def create_dataset(df, sequence_length):\n",
    "    x, y = [], []\n",
    "    for i in range(sequence_length, len(df)):\n",
    "        x.append(df[i - sequence_length:i])\n",
    "        y.append(df.iloc[i]['Close'])\n",
    "    return np.array(x), np.array(y)"
   ],
   "metadata": {
    "collapsed": false,
    "ExecuteTime": {
     "end_time": "2024-01-15T19:26:06.344370700Z",
     "start_time": "2024-01-15T19:26:06.106851Z"
    }
   },
   "id": "aa35ad58da0b08a5",
   "execution_count": 8
  },
  {
   "cell_type": "code",
   "outputs": [
    {
     "name": "stdout",
     "output_type": "stream",
     "text": [
      "         Close    Volume       RSI      MACD  Signal_Line  MACD_Histogram\n",
      "0     0.021234  0.000672  0.611377  0.496451     0.496744        0.585124\n",
      "1     0.023872  0.000341  0.665787  0.499024     0.498376        0.589072\n",
      "2     0.025582  0.000346  0.806929  0.501804     0.500324        0.592797\n",
      "3     0.019944  0.000831  0.594265  0.501062     0.501711        0.586179\n",
      "4     0.020518  0.000518  0.628031  0.500657     0.502726        0.581804\n",
      "...        ...       ...       ...       ...          ...             ...\n",
      "2325  0.670691  0.114639  0.647122  0.600962     0.597233        0.644667\n",
      "2326  0.615413  0.113137  0.502344  0.575741     0.596484        0.560983\n",
      "2327  0.616427  0.047107  0.502069  0.555526     0.591217        0.507674\n",
      "2328  0.599087  0.036731  0.458198  0.530337     0.581186        0.451472\n",
      "2329  0.618980  0.044181  0.435897  0.520050     0.570785        0.447117\n",
      "\n",
      "[2330 rows x 6 columns]\n"
     ]
    }
   ],
   "source": [
    "df.dropna(subset=['RSI'], inplace=True)\n",
    "if 'High' in df.columns and 'Low' in df.columns:\n",
    "    df.drop(['High', 'Low'], axis=1, inplace=True)\n",
    "features_columns = ['Close', 'Volume', 'RSI', 'MACD', 'Signal_Line', 'MACD_Histogram']\n",
    "\n",
    "sequence_length = 60\n",
    "n_features = len(features_columns)\n",
    "\n",
    "scaler_price = MinMaxScaler(feature_range=(0, 1))\n",
    "scaler_features = MinMaxScaler(feature_range=(0, 1))\n",
    "\n",
    "df_scaled = scaler_features.fit_transform(df[features_columns])\n",
    "df_scaled = pd.DataFrame(df_scaled, columns=features_columns)\n",
    "print(df_scaled)\n",
    "\n",
    "training_data_len = int(np.ceil(len(df_scaled) * 0.8))\n",
    "train_data_scaled = scaler_features.transform(df_scaled[features_columns])\n",
    "x_train, y_train = create_dataset(df_scaled[:training_data_len], sequence_length)\n",
    "x_test, y_test = create_dataset(df_scaled[training_data_len:], sequence_length)"
   ],
   "metadata": {
    "collapsed": false,
    "ExecuteTime": {
     "end_time": "2024-01-15T19:26:06.486894500Z",
     "start_time": "2024-01-15T19:26:06.122373700Z"
    }
   },
   "id": "cb88e7c3f21f9927",
   "execution_count": 9
  },
  {
   "cell_type": "code",
   "outputs": [],
   "source": [
    "def calculate_percentage_error(real_values, predicted_values):\n",
    "    percentage_errors = []\n",
    "    for real, predicted in zip(real_values, predicted_values):\n",
    "        if real != 0: \n",
    "            percentage_error = abs(real - predicted) / real * 100\n",
    "            percentage_errors.append(percentage_error)\n",
    "        else:\n",
    "            percentage_errors.append(0) \n",
    "    return percentage_errors"
   ],
   "metadata": {
    "collapsed": false,
    "ExecuteTime": {
     "end_time": "2024-01-15T19:26:06.488896200Z",
     "start_time": "2024-01-15T19:26:06.404170900Z"
    }
   },
   "id": "6543853f0e445ea0",
   "execution_count": 10
  },
  {
   "cell_type": "code",
   "outputs": [
    {
     "data": {
      "text/plain": "          Timestamp      Open      High       Low     Close        Volume\n0     1502928000000   4261.48   4485.39   4200.74   4285.08    795.150377\n1     1503014400000   4285.08   4371.52   3938.77   4108.37   1199.888264\n2     1503100800000   4108.37   4184.69   3850.00   4139.98    381.309763\n3     1503187200000   4120.98   4211.08   4032.62   4086.29    467.083022\n4     1503273600000   4069.13   4119.62   3911.79   4016.00    691.743060\n...             ...       ...       ...       ...       ...           ...\n2338  1704931200000  46654.00  48969.48  45606.06  46339.16  87470.329600\n2339  1705017600000  46339.16  46515.53  41500.00  42782.73  86327.937070\n2340  1705104000000  42782.74  43257.00  42436.12  42847.99  36118.474640\n2341  1705190400000  42847.99  43079.00  41720.00  41732.35  28228.408940\n2342  1705276800000  41732.35  43400.43  41718.05  43012.21  33892.938430\n\n[2343 rows x 6 columns]",
      "text/html": "<div>\n<style scoped>\n    .dataframe tbody tr th:only-of-type {\n        vertical-align: middle;\n    }\n\n    .dataframe tbody tr th {\n        vertical-align: top;\n    }\n\n    .dataframe thead th {\n        text-align: right;\n    }\n</style>\n<table border=\"1\" class=\"dataframe\">\n  <thead>\n    <tr style=\"text-align: right;\">\n      <th></th>\n      <th>Timestamp</th>\n      <th>Open</th>\n      <th>High</th>\n      <th>Low</th>\n      <th>Close</th>\n      <th>Volume</th>\n    </tr>\n  </thead>\n  <tbody>\n    <tr>\n      <th>0</th>\n      <td>1502928000000</td>\n      <td>4261.48</td>\n      <td>4485.39</td>\n      <td>4200.74</td>\n      <td>4285.08</td>\n      <td>795.150377</td>\n    </tr>\n    <tr>\n      <th>1</th>\n      <td>1503014400000</td>\n      <td>4285.08</td>\n      <td>4371.52</td>\n      <td>3938.77</td>\n      <td>4108.37</td>\n      <td>1199.888264</td>\n    </tr>\n    <tr>\n      <th>2</th>\n      <td>1503100800000</td>\n      <td>4108.37</td>\n      <td>4184.69</td>\n      <td>3850.00</td>\n      <td>4139.98</td>\n      <td>381.309763</td>\n    </tr>\n    <tr>\n      <th>3</th>\n      <td>1503187200000</td>\n      <td>4120.98</td>\n      <td>4211.08</td>\n      <td>4032.62</td>\n      <td>4086.29</td>\n      <td>467.083022</td>\n    </tr>\n    <tr>\n      <th>4</th>\n      <td>1503273600000</td>\n      <td>4069.13</td>\n      <td>4119.62</td>\n      <td>3911.79</td>\n      <td>4016.00</td>\n      <td>691.743060</td>\n    </tr>\n    <tr>\n      <th>...</th>\n      <td>...</td>\n      <td>...</td>\n      <td>...</td>\n      <td>...</td>\n      <td>...</td>\n      <td>...</td>\n    </tr>\n    <tr>\n      <th>2338</th>\n      <td>1704931200000</td>\n      <td>46654.00</td>\n      <td>48969.48</td>\n      <td>45606.06</td>\n      <td>46339.16</td>\n      <td>87470.329600</td>\n    </tr>\n    <tr>\n      <th>2339</th>\n      <td>1705017600000</td>\n      <td>46339.16</td>\n      <td>46515.53</td>\n      <td>41500.00</td>\n      <td>42782.73</td>\n      <td>86327.937070</td>\n    </tr>\n    <tr>\n      <th>2340</th>\n      <td>1705104000000</td>\n      <td>42782.74</td>\n      <td>43257.00</td>\n      <td>42436.12</td>\n      <td>42847.99</td>\n      <td>36118.474640</td>\n    </tr>\n    <tr>\n      <th>2341</th>\n      <td>1705190400000</td>\n      <td>42847.99</td>\n      <td>43079.00</td>\n      <td>41720.00</td>\n      <td>41732.35</td>\n      <td>28228.408940</td>\n    </tr>\n    <tr>\n      <th>2342</th>\n      <td>1705276800000</td>\n      <td>41732.35</td>\n      <td>43400.43</td>\n      <td>41718.05</td>\n      <td>43012.21</td>\n      <td>33892.938430</td>\n    </tr>\n  </tbody>\n</table>\n<p>2343 rows × 6 columns</p>\n</div>"
     },
     "execution_count": 11,
     "metadata": {},
     "output_type": "execute_result"
    }
   ],
   "source": [
    "crypto_data"
   ],
   "metadata": {
    "collapsed": false,
    "ExecuteTime": {
     "end_time": "2024-01-15T19:26:06.532883900Z",
     "start_time": "2024-01-15T19:26:06.411123700Z"
    }
   },
   "id": "182445e36fc044c3",
   "execution_count": 11
  },
  {
   "cell_type": "code",
   "outputs": [],
   "source": [
    "# set params for Bollinger Bands (BB)\n",
    "sma_period = 20  #using for 20-period SMA\n",
    "std_dev_multiplier = 2  #standart deviation\n",
    "\n",
    "df['Low'] = crypto_data['Low']\n",
    "df['High'] = crypto_data['High']\n",
    "\n",
    "# calculate Bollinger Bands\n",
    "df['SMA'] = df['Close'].rolling(window=sma_period).mean()\n",
    "df['Upper_BB'] = df['SMA'] + df['Close'].rolling(window=sma_period).std() * std_dev_multiplier\n",
    "df['Lower_BB'] = df['SMA'] - df['Close'].rolling(window=sma_period).std() * std_dev_multiplier\n",
    "\n",
    "# Calculate the Money Flow Index (MFI)\n",
    "typical_price = (df['Close'] + df['Low'] + df['High']) / 3\n",
    "raw_money_flow = typical_price * df['Volume']\n",
    "positive_flow = raw_money_flow.where(typical_price > typical_price.shift(1), 0)\n",
    "negative_flow = raw_money_flow.where(typical_price < typical_price.shift(1), 0)\n",
    "\n",
    "# Calculate the money flow ratio\n",
    "positive_flow_sum = positive_flow.rolling(window=14).sum()\n",
    "negative_flow_sum = negative_flow.rolling(window=14).sum()\n",
    "money_flow_ratio = positive_flow_sum / negative_flow_sum\n",
    "\n",
    "# Calculate the MFI\n",
    "mfi = 100 - (100 / (1 + money_flow_ratio))\n",
    "df['MFI'] = mfi\n",
    "\n",
    "# set params for Relative Volatility Index (RVI)\n",
    "rvi_period = 10  # define the period for RVI, for example 10\n",
    "\n",
    "# calculate Relative Volatility Index (RVI)\n",
    "standard_deviation = df['Close'].rolling(window=rvi_period).std()\n",
    "mean_deviation = standard_deviation.rolling(window=rvi_period).mean()\n",
    "df['RVI'] = standard_deviation / mean_deviation.where(mean_deviation != 0, np.nan)\n",
    "\n",
    "# remove starting NA values after calculate indicators\n",
    "df.dropna(inplace=True)"
   ],
   "metadata": {
    "collapsed": false,
    "ExecuteTime": {
     "end_time": "2024-01-15T19:26:06.589882400Z",
     "start_time": "2024-01-15T19:26:06.444901500Z"
    }
   },
   "id": "34a88daa016695af",
   "execution_count": 12
  },
  {
   "cell_type": "code",
   "outputs": [
    {
     "data": {
      "text/plain": "           Date      Open     Close        Volume        RSI         MACD  \\\n32   2017-09-18   3690.00   4035.01   1030.006455  48.958800  -156.191648   \n33   2017-09-19   4060.00   3910.04    902.332129  42.354120  -148.398764   \n34   2017-09-20   3910.04   3900.00    720.935076  36.872937  -141.402985   \n35   2017-09-21   3889.99   3609.99   1001.654084  31.727663  -157.445233   \n36   2017-09-22   3592.84   3595.87    838.966425  36.609708  -169.346079   \n...         ...       ...       ...           ...        ...          ...   \n2338 2024-01-11  46654.00  46339.16  87470.329600  66.095284  1129.523320   \n2339 2024-01-12  46339.16  42782.73  86327.937070  52.420154   869.211761   \n2340 2024-01-13  42782.74  42847.99  36118.474640  52.394175   660.564337   \n2341 2024-01-14  42847.99  41732.35  28228.408940  48.250305   400.569411   \n2342 2024-01-15  41732.35  43012.21  33892.938430  46.143845   294.401883   \n\n      Signal_Line  MACD_Histogram       Low      High         SMA  \\\n32    -103.250397      -52.941251   3690.00   4123.20   4210.0975   \n33    -112.280070      -36.118693   3830.91   4089.97   4177.8425   \n34    -118.104653      -23.298332   3820.00   4046.08   4136.5980   \n35    -125.972769      -31.472463   3567.00   3910.00   4075.3520   \n36    -134.647431      -34.698648   3505.55   3750.00   4031.5385   \n...           ...             ...       ...       ...         ...   \n2338   902.685914      226.837407  45606.06  48969.48  43974.0785   \n2339   895.991083      -26.779322  41500.00  46515.53  43928.1070   \n2340   848.905734     -188.341397  42436.12  43257.00  43920.9315   \n2341   759.238469     -358.669058  41720.00  43079.00  43828.7425   \n2342   666.271152     -371.869269  41718.05  43400.43  43853.9065   \n\n          Upper_BB      Lower_BB        MFI       RVI  \n32     5042.872610   3377.322390  44.214191  1.080327  \n33     5004.295390   3351.389610  45.474232  0.978981  \n34     4929.763426   3343.432574  39.315184  0.921318  \n35     4829.698563   3321.005437  34.078954  0.835031  \n36     4790.624351   3272.452649  35.298268  0.735832  \n...            ...           ...        ...       ...  \n2338  47018.106438  40930.050562  61.156476  1.218401  \n2339  47016.867880  40839.346120  57.634113  1.292652  \n2340  47019.504966  40822.358034  56.666568  1.229990  \n2341  47076.625143  40580.859857  53.496142  1.353090  \n2342  47066.338884  40641.474116  53.846280  1.313583  \n\n[2311 rows x 15 columns]",
      "text/html": "<div>\n<style scoped>\n    .dataframe tbody tr th:only-of-type {\n        vertical-align: middle;\n    }\n\n    .dataframe tbody tr th {\n        vertical-align: top;\n    }\n\n    .dataframe thead th {\n        text-align: right;\n    }\n</style>\n<table border=\"1\" class=\"dataframe\">\n  <thead>\n    <tr style=\"text-align: right;\">\n      <th></th>\n      <th>Date</th>\n      <th>Open</th>\n      <th>Close</th>\n      <th>Volume</th>\n      <th>RSI</th>\n      <th>MACD</th>\n      <th>Signal_Line</th>\n      <th>MACD_Histogram</th>\n      <th>Low</th>\n      <th>High</th>\n      <th>SMA</th>\n      <th>Upper_BB</th>\n      <th>Lower_BB</th>\n      <th>MFI</th>\n      <th>RVI</th>\n    </tr>\n  </thead>\n  <tbody>\n    <tr>\n      <th>32</th>\n      <td>2017-09-18</td>\n      <td>3690.00</td>\n      <td>4035.01</td>\n      <td>1030.006455</td>\n      <td>48.958800</td>\n      <td>-156.191648</td>\n      <td>-103.250397</td>\n      <td>-52.941251</td>\n      <td>3690.00</td>\n      <td>4123.20</td>\n      <td>4210.0975</td>\n      <td>5042.872610</td>\n      <td>3377.322390</td>\n      <td>44.214191</td>\n      <td>1.080327</td>\n    </tr>\n    <tr>\n      <th>33</th>\n      <td>2017-09-19</td>\n      <td>4060.00</td>\n      <td>3910.04</td>\n      <td>902.332129</td>\n      <td>42.354120</td>\n      <td>-148.398764</td>\n      <td>-112.280070</td>\n      <td>-36.118693</td>\n      <td>3830.91</td>\n      <td>4089.97</td>\n      <td>4177.8425</td>\n      <td>5004.295390</td>\n      <td>3351.389610</td>\n      <td>45.474232</td>\n      <td>0.978981</td>\n    </tr>\n    <tr>\n      <th>34</th>\n      <td>2017-09-20</td>\n      <td>3910.04</td>\n      <td>3900.00</td>\n      <td>720.935076</td>\n      <td>36.872937</td>\n      <td>-141.402985</td>\n      <td>-118.104653</td>\n      <td>-23.298332</td>\n      <td>3820.00</td>\n      <td>4046.08</td>\n      <td>4136.5980</td>\n      <td>4929.763426</td>\n      <td>3343.432574</td>\n      <td>39.315184</td>\n      <td>0.921318</td>\n    </tr>\n    <tr>\n      <th>35</th>\n      <td>2017-09-21</td>\n      <td>3889.99</td>\n      <td>3609.99</td>\n      <td>1001.654084</td>\n      <td>31.727663</td>\n      <td>-157.445233</td>\n      <td>-125.972769</td>\n      <td>-31.472463</td>\n      <td>3567.00</td>\n      <td>3910.00</td>\n      <td>4075.3520</td>\n      <td>4829.698563</td>\n      <td>3321.005437</td>\n      <td>34.078954</td>\n      <td>0.835031</td>\n    </tr>\n    <tr>\n      <th>36</th>\n      <td>2017-09-22</td>\n      <td>3592.84</td>\n      <td>3595.87</td>\n      <td>838.966425</td>\n      <td>36.609708</td>\n      <td>-169.346079</td>\n      <td>-134.647431</td>\n      <td>-34.698648</td>\n      <td>3505.55</td>\n      <td>3750.00</td>\n      <td>4031.5385</td>\n      <td>4790.624351</td>\n      <td>3272.452649</td>\n      <td>35.298268</td>\n      <td>0.735832</td>\n    </tr>\n    <tr>\n      <th>...</th>\n      <td>...</td>\n      <td>...</td>\n      <td>...</td>\n      <td>...</td>\n      <td>...</td>\n      <td>...</td>\n      <td>...</td>\n      <td>...</td>\n      <td>...</td>\n      <td>...</td>\n      <td>...</td>\n      <td>...</td>\n      <td>...</td>\n      <td>...</td>\n      <td>...</td>\n    </tr>\n    <tr>\n      <th>2338</th>\n      <td>2024-01-11</td>\n      <td>46654.00</td>\n      <td>46339.16</td>\n      <td>87470.329600</td>\n      <td>66.095284</td>\n      <td>1129.523320</td>\n      <td>902.685914</td>\n      <td>226.837407</td>\n      <td>45606.06</td>\n      <td>48969.48</td>\n      <td>43974.0785</td>\n      <td>47018.106438</td>\n      <td>40930.050562</td>\n      <td>61.156476</td>\n      <td>1.218401</td>\n    </tr>\n    <tr>\n      <th>2339</th>\n      <td>2024-01-12</td>\n      <td>46339.16</td>\n      <td>42782.73</td>\n      <td>86327.937070</td>\n      <td>52.420154</td>\n      <td>869.211761</td>\n      <td>895.991083</td>\n      <td>-26.779322</td>\n      <td>41500.00</td>\n      <td>46515.53</td>\n      <td>43928.1070</td>\n      <td>47016.867880</td>\n      <td>40839.346120</td>\n      <td>57.634113</td>\n      <td>1.292652</td>\n    </tr>\n    <tr>\n      <th>2340</th>\n      <td>2024-01-13</td>\n      <td>42782.74</td>\n      <td>42847.99</td>\n      <td>36118.474640</td>\n      <td>52.394175</td>\n      <td>660.564337</td>\n      <td>848.905734</td>\n      <td>-188.341397</td>\n      <td>42436.12</td>\n      <td>43257.00</td>\n      <td>43920.9315</td>\n      <td>47019.504966</td>\n      <td>40822.358034</td>\n      <td>56.666568</td>\n      <td>1.229990</td>\n    </tr>\n    <tr>\n      <th>2341</th>\n      <td>2024-01-14</td>\n      <td>42847.99</td>\n      <td>41732.35</td>\n      <td>28228.408940</td>\n      <td>48.250305</td>\n      <td>400.569411</td>\n      <td>759.238469</td>\n      <td>-358.669058</td>\n      <td>41720.00</td>\n      <td>43079.00</td>\n      <td>43828.7425</td>\n      <td>47076.625143</td>\n      <td>40580.859857</td>\n      <td>53.496142</td>\n      <td>1.353090</td>\n    </tr>\n    <tr>\n      <th>2342</th>\n      <td>2024-01-15</td>\n      <td>41732.35</td>\n      <td>43012.21</td>\n      <td>33892.938430</td>\n      <td>46.143845</td>\n      <td>294.401883</td>\n      <td>666.271152</td>\n      <td>-371.869269</td>\n      <td>41718.05</td>\n      <td>43400.43</td>\n      <td>43853.9065</td>\n      <td>47066.338884</td>\n      <td>40641.474116</td>\n      <td>53.846280</td>\n      <td>1.313583</td>\n    </tr>\n  </tbody>\n</table>\n<p>2311 rows × 15 columns</p>\n</div>"
     },
     "execution_count": 13,
     "metadata": {},
     "output_type": "execute_result"
    }
   ],
   "source": [
    "df"
   ],
   "metadata": {
    "collapsed": false,
    "ExecuteTime": {
     "end_time": "2024-01-15T19:26:06.634883900Z",
     "start_time": "2024-01-15T19:26:06.465893500Z"
    }
   },
   "id": "2cee1d96f7bcf988",
   "execution_count": 13
  },
  {
   "cell_type": "code",
   "outputs": [
    {
     "data": {
      "text/plain": "           Date      Open     Close        Volume        RSI         MACD  \\\n32   2017-09-18   3690.00   4035.01   1030.006455  48.958800  -156.191648   \n33   2017-09-19   4060.00   3910.04    902.332129  42.354120  -148.398764   \n34   2017-09-20   3910.04   3900.00    720.935076  36.872937  -141.402985   \n35   2017-09-21   3889.99   3609.99   1001.654084  31.727663  -157.445233   \n36   2017-09-22   3592.84   3595.87    838.966425  36.609708  -169.346079   \n...         ...       ...       ...           ...        ...          ...   \n2338 2024-01-11  46654.00  46339.16  87470.329600  66.095284  1129.523320   \n2339 2024-01-12  46339.16  42782.73  86327.937070  52.420154   869.211761   \n2340 2024-01-13  42782.74  42847.99  36118.474640  52.394175   660.564337   \n2341 2024-01-14  42847.99  41732.35  28228.408940  48.250305   400.569411   \n2342 2024-01-15  41732.35  43012.21  33892.938430  46.143845   294.401883   \n\n      Signal_Line  MACD_Histogram       Low      High         SMA  \\\n32    -103.250397      -52.941251   3690.00   4123.20   4210.0975   \n33    -112.280070      -36.118693   3830.91   4089.97   4177.8425   \n34    -118.104653      -23.298332   3820.00   4046.08   4136.5980   \n35    -125.972769      -31.472463   3567.00   3910.00   4075.3520   \n36    -134.647431      -34.698648   3505.55   3750.00   4031.5385   \n...           ...             ...       ...       ...         ...   \n2338   902.685914      226.837407  45606.06  48969.48  43974.0785   \n2339   895.991083      -26.779322  41500.00  46515.53  43928.1070   \n2340   848.905734     -188.341397  42436.12  43257.00  43920.9315   \n2341   759.238469     -358.669058  41720.00  43079.00  43828.7425   \n2342   666.271152     -371.869269  41718.05  43400.43  43853.9065   \n\n          Upper_BB      Lower_BB        MFI       RVI     hash_rate  \n32     5042.872610   3377.322390  44.214191  1.080327  4.220862e+11  \n33     5004.295390   3351.389610  45.474232  0.978981  4.220862e+11  \n34     4929.763426   3343.432574  39.315184  0.921318  4.220862e+11  \n35     4829.698563   3321.005437  34.078954  0.835031  4.220862e+11  \n36     4790.624351   3272.452649  35.298268  0.735832  4.220862e+11  \n...            ...           ...        ...       ...           ...  \n2338  47018.106438  40930.050562  61.156476  1.218401  4.220862e+11  \n2339  47016.867880  40839.346120  57.634113  1.292652  4.220862e+11  \n2340  47019.504966  40822.358034  56.666568  1.229990  4.220862e+11  \n2341  47076.625143  40580.859857  53.496142  1.353090  4.220862e+11  \n2342  47066.338884  40641.474116  53.846280  1.313583  4.220862e+11  \n\n[2311 rows x 16 columns]",
      "text/html": "<div>\n<style scoped>\n    .dataframe tbody tr th:only-of-type {\n        vertical-align: middle;\n    }\n\n    .dataframe tbody tr th {\n        vertical-align: top;\n    }\n\n    .dataframe thead th {\n        text-align: right;\n    }\n</style>\n<table border=\"1\" class=\"dataframe\">\n  <thead>\n    <tr style=\"text-align: right;\">\n      <th></th>\n      <th>Date</th>\n      <th>Open</th>\n      <th>Close</th>\n      <th>Volume</th>\n      <th>RSI</th>\n      <th>MACD</th>\n      <th>Signal_Line</th>\n      <th>MACD_Histogram</th>\n      <th>Low</th>\n      <th>High</th>\n      <th>SMA</th>\n      <th>Upper_BB</th>\n      <th>Lower_BB</th>\n      <th>MFI</th>\n      <th>RVI</th>\n      <th>hash_rate</th>\n    </tr>\n  </thead>\n  <tbody>\n    <tr>\n      <th>32</th>\n      <td>2017-09-18</td>\n      <td>3690.00</td>\n      <td>4035.01</td>\n      <td>1030.006455</td>\n      <td>48.958800</td>\n      <td>-156.191648</td>\n      <td>-103.250397</td>\n      <td>-52.941251</td>\n      <td>3690.00</td>\n      <td>4123.20</td>\n      <td>4210.0975</td>\n      <td>5042.872610</td>\n      <td>3377.322390</td>\n      <td>44.214191</td>\n      <td>1.080327</td>\n      <td>4.220862e+11</td>\n    </tr>\n    <tr>\n      <th>33</th>\n      <td>2017-09-19</td>\n      <td>4060.00</td>\n      <td>3910.04</td>\n      <td>902.332129</td>\n      <td>42.354120</td>\n      <td>-148.398764</td>\n      <td>-112.280070</td>\n      <td>-36.118693</td>\n      <td>3830.91</td>\n      <td>4089.97</td>\n      <td>4177.8425</td>\n      <td>5004.295390</td>\n      <td>3351.389610</td>\n      <td>45.474232</td>\n      <td>0.978981</td>\n      <td>4.220862e+11</td>\n    </tr>\n    <tr>\n      <th>34</th>\n      <td>2017-09-20</td>\n      <td>3910.04</td>\n      <td>3900.00</td>\n      <td>720.935076</td>\n      <td>36.872937</td>\n      <td>-141.402985</td>\n      <td>-118.104653</td>\n      <td>-23.298332</td>\n      <td>3820.00</td>\n      <td>4046.08</td>\n      <td>4136.5980</td>\n      <td>4929.763426</td>\n      <td>3343.432574</td>\n      <td>39.315184</td>\n      <td>0.921318</td>\n      <td>4.220862e+11</td>\n    </tr>\n    <tr>\n      <th>35</th>\n      <td>2017-09-21</td>\n      <td>3889.99</td>\n      <td>3609.99</td>\n      <td>1001.654084</td>\n      <td>31.727663</td>\n      <td>-157.445233</td>\n      <td>-125.972769</td>\n      <td>-31.472463</td>\n      <td>3567.00</td>\n      <td>3910.00</td>\n      <td>4075.3520</td>\n      <td>4829.698563</td>\n      <td>3321.005437</td>\n      <td>34.078954</td>\n      <td>0.835031</td>\n      <td>4.220862e+11</td>\n    </tr>\n    <tr>\n      <th>36</th>\n      <td>2017-09-22</td>\n      <td>3592.84</td>\n      <td>3595.87</td>\n      <td>838.966425</td>\n      <td>36.609708</td>\n      <td>-169.346079</td>\n      <td>-134.647431</td>\n      <td>-34.698648</td>\n      <td>3505.55</td>\n      <td>3750.00</td>\n      <td>4031.5385</td>\n      <td>4790.624351</td>\n      <td>3272.452649</td>\n      <td>35.298268</td>\n      <td>0.735832</td>\n      <td>4.220862e+11</td>\n    </tr>\n    <tr>\n      <th>...</th>\n      <td>...</td>\n      <td>...</td>\n      <td>...</td>\n      <td>...</td>\n      <td>...</td>\n      <td>...</td>\n      <td>...</td>\n      <td>...</td>\n      <td>...</td>\n      <td>...</td>\n      <td>...</td>\n      <td>...</td>\n      <td>...</td>\n      <td>...</td>\n      <td>...</td>\n      <td>...</td>\n    </tr>\n    <tr>\n      <th>2338</th>\n      <td>2024-01-11</td>\n      <td>46654.00</td>\n      <td>46339.16</td>\n      <td>87470.329600</td>\n      <td>66.095284</td>\n      <td>1129.523320</td>\n      <td>902.685914</td>\n      <td>226.837407</td>\n      <td>45606.06</td>\n      <td>48969.48</td>\n      <td>43974.0785</td>\n      <td>47018.106438</td>\n      <td>40930.050562</td>\n      <td>61.156476</td>\n      <td>1.218401</td>\n      <td>4.220862e+11</td>\n    </tr>\n    <tr>\n      <th>2339</th>\n      <td>2024-01-12</td>\n      <td>46339.16</td>\n      <td>42782.73</td>\n      <td>86327.937070</td>\n      <td>52.420154</td>\n      <td>869.211761</td>\n      <td>895.991083</td>\n      <td>-26.779322</td>\n      <td>41500.00</td>\n      <td>46515.53</td>\n      <td>43928.1070</td>\n      <td>47016.867880</td>\n      <td>40839.346120</td>\n      <td>57.634113</td>\n      <td>1.292652</td>\n      <td>4.220862e+11</td>\n    </tr>\n    <tr>\n      <th>2340</th>\n      <td>2024-01-13</td>\n      <td>42782.74</td>\n      <td>42847.99</td>\n      <td>36118.474640</td>\n      <td>52.394175</td>\n      <td>660.564337</td>\n      <td>848.905734</td>\n      <td>-188.341397</td>\n      <td>42436.12</td>\n      <td>43257.00</td>\n      <td>43920.9315</td>\n      <td>47019.504966</td>\n      <td>40822.358034</td>\n      <td>56.666568</td>\n      <td>1.229990</td>\n      <td>4.220862e+11</td>\n    </tr>\n    <tr>\n      <th>2341</th>\n      <td>2024-01-14</td>\n      <td>42847.99</td>\n      <td>41732.35</td>\n      <td>28228.408940</td>\n      <td>48.250305</td>\n      <td>400.569411</td>\n      <td>759.238469</td>\n      <td>-358.669058</td>\n      <td>41720.00</td>\n      <td>43079.00</td>\n      <td>43828.7425</td>\n      <td>47076.625143</td>\n      <td>40580.859857</td>\n      <td>53.496142</td>\n      <td>1.353090</td>\n      <td>4.220862e+11</td>\n    </tr>\n    <tr>\n      <th>2342</th>\n      <td>2024-01-15</td>\n      <td>41732.35</td>\n      <td>43012.21</td>\n      <td>33892.938430</td>\n      <td>46.143845</td>\n      <td>294.401883</td>\n      <td>666.271152</td>\n      <td>-371.869269</td>\n      <td>41718.05</td>\n      <td>43400.43</td>\n      <td>43853.9065</td>\n      <td>47066.338884</td>\n      <td>40641.474116</td>\n      <td>53.846280</td>\n      <td>1.313583</td>\n      <td>4.220862e+11</td>\n    </tr>\n  </tbody>\n</table>\n<p>2311 rows × 16 columns</p>\n</div>"
     },
     "execution_count": 14,
     "metadata": {},
     "output_type": "execute_result"
    }
   ],
   "source": [
    "import requests\n",
    "import pandas as pd\n",
    "\n",
    "\n",
    "def get_blockchain_data():\n",
    "    url = 'https://api.blockchain.info/stats'\n",
    "    response = requests.get(url)\n",
    "    data = response.json()\n",
    "    blockchain_data = pd.DataFrame([data])\n",
    "    blockchain_data = blockchain_data[['hash_rate']]\n",
    "    blockchain_data['Date'] = pd.to_datetime('today')\n",
    "    return blockchain_data\n",
    "\n",
    "\n",
    "blockchain_data = get_blockchain_data()\n",
    "\n",
    "df['Date'] = pd.to_datetime(df['Date'])\n",
    "current_hash_rate = blockchain_data.at[0, 'hash_rate']\n",
    "df['hash_rate'] = current_hash_rate\n",
    "\n",
    "df"
   ],
   "metadata": {
    "collapsed": false,
    "ExecuteTime": {
     "end_time": "2024-01-15T19:26:08.113195800Z",
     "start_time": "2024-01-15T19:26:06.501885600Z"
    }
   },
   "id": "ef79034baee7858a",
   "execution_count": 14
  },
  {
   "cell_type": "code",
   "outputs": [],
   "source": [
    "X = df[features_columns]\n",
    "y = df['Close']\n",
    "\n",
    "from sklearn.preprocessing import MinMaxScaler\n",
    "\n",
    "scaler = MinMaxScaler(feature_range=(0, 1))\n",
    "X_scaled = scaler.fit_transform(X)\n",
    "\n",
    "from sklearn.model_selection import train_test_split\n",
    "\n",
    "X_train, X_test, y_train, y_test = train_test_split(X_scaled, y, test_size=0.2, random_state=42)"
   ],
   "metadata": {
    "collapsed": false,
    "ExecuteTime": {
     "end_time": "2024-01-15T19:26:08.272555800Z",
     "start_time": "2024-01-15T19:26:08.113195800Z"
    }
   },
   "id": "8fc188679368766d",
   "execution_count": 15
  },
  {
   "cell_type": "code",
   "outputs": [
    {
     "data": {
      "text/plain": "MinMaxScaler()",
      "text/html": "<style>#sk-container-id-1 {color: black;}#sk-container-id-1 pre{padding: 0;}#sk-container-id-1 div.sk-toggleable {background-color: white;}#sk-container-id-1 label.sk-toggleable__label {cursor: pointer;display: block;width: 100%;margin-bottom: 0;padding: 0.3em;box-sizing: border-box;text-align: center;}#sk-container-id-1 label.sk-toggleable__label-arrow:before {content: \"▸\";float: left;margin-right: 0.25em;color: #696969;}#sk-container-id-1 label.sk-toggleable__label-arrow:hover:before {color: black;}#sk-container-id-1 div.sk-estimator:hover label.sk-toggleable__label-arrow:before {color: black;}#sk-container-id-1 div.sk-toggleable__content {max-height: 0;max-width: 0;overflow: hidden;text-align: left;background-color: #f0f8ff;}#sk-container-id-1 div.sk-toggleable__content pre {margin: 0.2em;color: black;border-radius: 0.25em;background-color: #f0f8ff;}#sk-container-id-1 input.sk-toggleable__control:checked~div.sk-toggleable__content {max-height: 200px;max-width: 100%;overflow: auto;}#sk-container-id-1 input.sk-toggleable__control:checked~label.sk-toggleable__label-arrow:before {content: \"▾\";}#sk-container-id-1 div.sk-estimator input.sk-toggleable__control:checked~label.sk-toggleable__label {background-color: #d4ebff;}#sk-container-id-1 div.sk-label input.sk-toggleable__control:checked~label.sk-toggleable__label {background-color: #d4ebff;}#sk-container-id-1 input.sk-hidden--visually {border: 0;clip: rect(1px 1px 1px 1px);clip: rect(1px, 1px, 1px, 1px);height: 1px;margin: -1px;overflow: hidden;padding: 0;position: absolute;width: 1px;}#sk-container-id-1 div.sk-estimator {font-family: monospace;background-color: #f0f8ff;border: 1px dotted black;border-radius: 0.25em;box-sizing: border-box;margin-bottom: 0.5em;}#sk-container-id-1 div.sk-estimator:hover {background-color: #d4ebff;}#sk-container-id-1 div.sk-parallel-item::after {content: \"\";width: 100%;border-bottom: 1px solid gray;flex-grow: 1;}#sk-container-id-1 div.sk-label:hover label.sk-toggleable__label {background-color: #d4ebff;}#sk-container-id-1 div.sk-serial::before {content: \"\";position: absolute;border-left: 1px solid gray;box-sizing: border-box;top: 0;bottom: 0;left: 50%;z-index: 0;}#sk-container-id-1 div.sk-serial {display: flex;flex-direction: column;align-items: center;background-color: white;padding-right: 0.2em;padding-left: 0.2em;position: relative;}#sk-container-id-1 div.sk-item {position: relative;z-index: 1;}#sk-container-id-1 div.sk-parallel {display: flex;align-items: stretch;justify-content: center;background-color: white;position: relative;}#sk-container-id-1 div.sk-item::before, #sk-container-id-1 div.sk-parallel-item::before {content: \"\";position: absolute;border-left: 1px solid gray;box-sizing: border-box;top: 0;bottom: 0;left: 50%;z-index: -1;}#sk-container-id-1 div.sk-parallel-item {display: flex;flex-direction: column;z-index: 1;position: relative;background-color: white;}#sk-container-id-1 div.sk-parallel-item:first-child::after {align-self: flex-end;width: 50%;}#sk-container-id-1 div.sk-parallel-item:last-child::after {align-self: flex-start;width: 50%;}#sk-container-id-1 div.sk-parallel-item:only-child::after {width: 0;}#sk-container-id-1 div.sk-dashed-wrapped {border: 1px dashed gray;margin: 0 0.4em 0.5em 0.4em;box-sizing: border-box;padding-bottom: 0.4em;background-color: white;}#sk-container-id-1 div.sk-label label {font-family: monospace;font-weight: bold;display: inline-block;line-height: 1.2em;}#sk-container-id-1 div.sk-label-container {text-align: center;}#sk-container-id-1 div.sk-container {/* jupyter's `normalize.less` sets `[hidden] { display: none; }` but bootstrap.min.css set `[hidden] { display: none !important; }` so we also need the `!important` here to be able to override the default hidden behavior on the sphinx rendered scikit-learn.org. See: https://github.com/scikit-learn/scikit-learn/issues/21755 */display: inline-block !important;position: relative;}#sk-container-id-1 div.sk-text-repr-fallback {display: none;}</style><div id=\"sk-container-id-1\" class=\"sk-top-container\"><div class=\"sk-text-repr-fallback\"><pre>MinMaxScaler()</pre><b>In a Jupyter environment, please rerun this cell to show the HTML representation or trust the notebook. <br />On GitHub, the HTML representation is unable to render, please try loading this page with nbviewer.org.</b></div><div class=\"sk-container\" hidden><div class=\"sk-item\"><div class=\"sk-estimator sk-toggleable\"><input class=\"sk-toggleable__control sk-hidden--visually\" id=\"sk-estimator-id-1\" type=\"checkbox\" checked><label for=\"sk-estimator-id-1\" class=\"sk-toggleable__label sk-toggleable__label-arrow\">MinMaxScaler</label><div class=\"sk-toggleable__content\"><pre>MinMaxScaler()</pre></div></div></div></div></div>"
     },
     "execution_count": 16,
     "metadata": {},
     "output_type": "execute_result"
    }
   ],
   "source": [
    "df['SMA_50'] = df['Close'].rolling(window=50).mean()\n",
    "df['SMA_200'] = df['Close'].rolling(window=200).mean()\n",
    "\n",
    "scaler_price = MinMaxScaler(feature_range=(0, 1))\n",
    "scaler_price.fit(df[['Close']]) "
   ],
   "metadata": {
    "collapsed": false,
    "ExecuteTime": {
     "end_time": "2024-01-15T19:26:08.348558800Z",
     "start_time": "2024-01-15T19:26:08.205193700Z"
    }
   },
   "id": "d7afb8c6415aec00",
   "execution_count": 16
  },
  {
   "cell_type": "code",
   "outputs": [
    {
     "name": "stdout",
     "output_type": "stream",
     "text": [
      "Epoch 1/150\n",
      "106/106 [==============================] - 25s 102ms/step - loss: 0.0113 - val_loss: 4.3115e-04 - lr: 5.0000e-04\n",
      "Epoch 2/150\n",
      "106/106 [==============================] - 8s 78ms/step - loss: 0.0059 - val_loss: 4.1174e-04 - lr: 5.0000e-04\n",
      "Epoch 3/150\n",
      "106/106 [==============================] - 8s 75ms/step - loss: 0.0040 - val_loss: 4.2422e-04 - lr: 5.0000e-04\n",
      "Epoch 4/150\n",
      "106/106 [==============================] - 8s 74ms/step - loss: 0.0039 - val_loss: 8.7626e-04 - lr: 5.0000e-04\n",
      "Epoch 5/150\n",
      "106/106 [==============================] - 8s 74ms/step - loss: 0.0033 - val_loss: 5.4893e-04 - lr: 5.0000e-04\n",
      "Epoch 6/150\n",
      "106/106 [==============================] - 10s 98ms/step - loss: 0.0036 - val_loss: 0.0011 - lr: 5.0000e-04\n",
      "Epoch 7/150\n",
      "106/106 [==============================] - 12s 118ms/step - loss: 0.0026 - val_loss: 3.4708e-04 - lr: 1.0000e-04\n",
      "Epoch 8/150\n",
      "106/106 [==============================] - 11s 107ms/step - loss: 0.0023 - val_loss: 2.6711e-04 - lr: 1.0000e-04\n",
      "Epoch 9/150\n",
      "106/106 [==============================] - 9s 82ms/step - loss: 0.0022 - val_loss: 2.8250e-04 - lr: 1.0000e-04\n",
      "Epoch 10/150\n",
      "106/106 [==============================] - 8s 79ms/step - loss: 0.0022 - val_loss: 4.2527e-04 - lr: 1.0000e-04\n",
      "Epoch 11/150\n",
      "106/106 [==============================] - 7s 70ms/step - loss: 0.0023 - val_loss: 3.1100e-04 - lr: 1.0000e-04\n",
      "Epoch 12/150\n",
      "106/106 [==============================] - 7s 67ms/step - loss: 0.0024 - val_loss: 2.7088e-04 - lr: 1.0000e-04\n",
      "Epoch 13/150\n",
      "106/106 [==============================] - 7s 66ms/step - loss: 0.0020 - val_loss: 3.0090e-04 - lr: 1.0000e-04\n",
      "Epoch 14/150\n",
      "106/106 [==============================] - 8s 72ms/step - loss: 0.0022 - val_loss: 2.9956e-04 - lr: 1.0000e-04\n",
      "Epoch 15/150\n",
      "106/106 [==============================] - 8s 79ms/step - loss: 0.0021 - val_loss: 3.1166e-04 - lr: 1.0000e-04\n",
      "Epoch 16/150\n",
      "106/106 [==============================] - 9s 86ms/step - loss: 0.0023 - val_loss: 2.2944e-04 - lr: 1.0000e-04\n",
      "Epoch 17/150\n",
      "106/106 [==============================] - 8s 79ms/step - loss: 0.0019 - val_loss: 2.5279e-04 - lr: 1.0000e-04\n",
      "Epoch 18/150\n",
      "106/106 [==============================] - 8s 74ms/step - loss: 0.0020 - val_loss: 3.1491e-04 - lr: 1.0000e-04\n",
      "Epoch 19/150\n",
      "106/106 [==============================] - 8s 72ms/step - loss: 0.0021 - val_loss: 3.3970e-04 - lr: 1.0000e-04\n",
      "Epoch 20/150\n",
      "106/106 [==============================] - 8s 76ms/step - loss: 0.0019 - val_loss: 2.5807e-04 - lr: 1.0000e-04\n",
      "Epoch 21/150\n",
      "106/106 [==============================] - 8s 73ms/step - loss: 0.0020 - val_loss: 2.3382e-04 - lr: 1.0000e-04\n",
      "Epoch 22/150\n",
      "106/106 [==============================] - 8s 79ms/step - loss: 0.0019 - val_loss: 2.7353e-04 - lr: 1.0000e-04\n",
      "Epoch 23/150\n",
      "106/106 [==============================] - 8s 73ms/step - loss: 0.0019 - val_loss: 3.3839e-04 - lr: 1.0000e-04\n",
      "Epoch 24/150\n",
      "106/106 [==============================] - 8s 73ms/step - loss: 0.0018 - val_loss: 2.5635e-04 - lr: 1.0000e-04\n",
      "Epoch 25/150\n",
      "106/106 [==============================] - 7s 68ms/step - loss: 0.0017 - val_loss: 4.0613e-04 - lr: 1.0000e-04\n",
      "Epoch 26/150\n",
      "106/106 [==============================] - 9s 82ms/step - loss: 0.0018 - val_loss: 2.1360e-04 - lr: 1.0000e-04\n",
      "Epoch 27/150\n",
      "106/106 [==============================] - 7s 67ms/step - loss: 0.0020 - val_loss: 3.8688e-04 - lr: 1.0000e-04\n",
      "Epoch 28/150\n",
      "106/106 [==============================] - 7s 69ms/step - loss: 0.0020 - val_loss: 2.1074e-04 - lr: 1.0000e-04\n",
      "Epoch 29/150\n",
      "106/106 [==============================] - 8s 72ms/step - loss: 0.0017 - val_loss: 2.0019e-04 - lr: 1.0000e-04\n",
      "Epoch 30/150\n",
      "106/106 [==============================] - 9s 88ms/step - loss: 0.0020 - val_loss: 3.1439e-04 - lr: 1.0000e-04\n",
      "Epoch 31/150\n",
      "106/106 [==============================] - 8s 76ms/step - loss: 0.0019 - val_loss: 2.2764e-04 - lr: 1.0000e-04\n",
      "Epoch 32/150\n",
      "106/106 [==============================] - 8s 73ms/step - loss: 0.0019 - val_loss: 2.6742e-04 - lr: 1.0000e-04\n",
      "Epoch 33/150\n",
      "106/106 [==============================] - 7s 70ms/step - loss: 0.0019 - val_loss: 2.4960e-04 - lr: 1.0000e-04\n",
      "Epoch 34/150\n",
      "106/106 [==============================] - 8s 72ms/step - loss: 0.0018 - val_loss: 2.2200e-04 - lr: 1.0000e-04\n",
      "Epoch 35/150\n",
      "106/106 [==============================] - 8s 73ms/step - loss: 0.0016 - val_loss: 2.0993e-04 - lr: 1.0000e-04\n",
      "Epoch 36/150\n",
      "106/106 [==============================] - 8s 72ms/step - loss: 0.0019 - val_loss: 5.4742e-04 - lr: 1.0000e-04\n",
      "Epoch 37/150\n",
      "106/106 [==============================] - 11s 100ms/step - loss: 0.0017 - val_loss: 2.4708e-04 - lr: 1.0000e-04\n",
      "Epoch 38/150\n",
      "106/106 [==============================] - 7s 69ms/step - loss: 0.0018 - val_loss: 3.8381e-04 - lr: 1.0000e-04\n",
      "Epoch 39/150\n",
      "106/106 [==============================] - 8s 72ms/step - loss: 0.0015 - val_loss: 2.6013e-04 - lr: 1.0000e-04\n",
      "Epoch 40/150\n",
      "106/106 [==============================] - 8s 74ms/step - loss: 0.0016 - val_loss: 3.2097e-04 - lr: 1.0000e-04\n",
      "Epoch 41/150\n",
      "106/106 [==============================] - 8s 73ms/step - loss: 0.0018 - val_loss: 2.1067e-04 - lr: 1.0000e-04\n",
      "Epoch 42/150\n",
      "106/106 [==============================] - 8s 72ms/step - loss: 0.0017 - val_loss: 2.3132e-04 - lr: 1.0000e-04\n",
      "Epoch 43/150\n",
      "106/106 [==============================] - 10s 93ms/step - loss: 0.0016 - val_loss: 2.0720e-04 - lr: 1.0000e-04\n",
      "Epoch 44/150\n",
      "106/106 [==============================] - 8s 71ms/step - loss: 0.0015 - val_loss: 2.9960e-04 - lr: 1.0000e-04\n",
      "Epoch 45/150\n",
      "106/106 [==============================] - 8s 73ms/step - loss: 0.0015 - val_loss: 2.1846e-04 - lr: 1.0000e-04\n",
      "Epoch 46/150\n",
      "106/106 [==============================] - 8s 73ms/step - loss: 0.0016 - val_loss: 2.9371e-04 - lr: 1.0000e-04\n",
      "Epoch 47/150\n",
      "106/106 [==============================] - 8s 72ms/step - loss: 0.0016 - val_loss: 2.0125e-04 - lr: 1.0000e-04\n",
      "Epoch 48/150\n",
      "106/106 [==============================] - 7s 70ms/step - loss: 0.0015 - val_loss: 2.1291e-04 - lr: 1.0000e-04\n",
      "Epoch 49/150\n",
      "106/106 [==============================] - 9s 89ms/step - loss: 0.0015 - val_loss: 7.3909e-04 - lr: 1.0000e-04\n"
     ]
    },
    {
     "data": {
      "text/plain": "<keras.src.callbacks.History at 0x197a5c69310>"
     },
     "execution_count": 17,
     "metadata": {},
     "output_type": "execute_result"
    }
   ],
   "source": [
    "from keras.src.layers import Bidirectional\n",
    "from keras.src.callbacks import ReduceLROnPlateau\n",
    "from keras.layers import GRU, Dropout, Dense\n",
    "from keras.optimizers import Adam\n",
    "from keras.models import Sequential\n",
    "from keras.callbacks import EarlyStopping, ModelCheckpoint, TensorBoard\n",
    "import datetime\n",
    "import pandas as pd\n",
    "import numpy as np\n",
    "from sklearn.preprocessing import MinMaxScaler\n",
    "from sklearn.model_selection import train_test_split\n",
    "\n",
    "# Data preparation\n",
    "df.dropna(subset=['RSI'], inplace=True)\n",
    "df.drop(['High', 'Low'], axis=1, errors='ignore', inplace=True)\n",
    "df['Mid_Price'] = (df['Open'] + df['Close']) / 2\n",
    "\n",
    "# Calculate SMA_50 and add to df\n",
    "df['SMA_50'] = df['Close'].rolling(window=50).mean()\n",
    "\n",
    "# Update your features list\n",
    "features_columns = ['Close', 'Volume', 'Signal_Line', 'Mid_Price', 'SMA_50', 'SMA_200']\n",
    "\n",
    "# Handling any NaN values\n",
    "df.dropna(inplace=True)\n",
    "\n",
    "# Normalize features\n",
    "scaler_features = MinMaxScaler(feature_range=(0, 1))\n",
    "df_scaled = scaler_features.fit_transform(df[features_columns])\n",
    "df_scaled = pd.DataFrame(df_scaled, columns=features_columns)\n",
    "\n",
    "\n",
    "# Define create_dataset function\n",
    "def create_dataset(dataset, look_back=60):\n",
    "    X, Y = [], []\n",
    "    for i in range(len(dataset) - look_back):\n",
    "        X.append(dataset[i:(i + look_back)])\n",
    "        Y.append(dataset[i + look_back, 0])  # Assuming 'Close' is at index 0\n",
    "    return np.array(X), np.array(Y)\n",
    "\n",
    "\n",
    "# Prepare the dataset\n",
    "look_back = 60\n",
    "X, Y = create_dataset(df_scaled.values, look_back)\n",
    "\n",
    "# Splitting data to training and testing sets\n",
    "training_data_len = int(len(df_scaled) * 0.8)\n",
    "X_train, X_test, Y_train, Y_test = X[:training_data_len], X[training_data_len:], Y[:training_data_len], Y[training_data_len:]\n",
    "\n",
    "# Define the GRU model\n",
    "n_features = len(features_columns)\n",
    "model = Sequential()\n",
    "model.add(Bidirectional(GRU(128, return_sequences=True, input_shape=(look_back, n_features))))\n",
    "model.add(Dropout(0.4)) \n",
    "model.add(Bidirectional(GRU(64, return_sequences=False)))\n",
    "model.add(Dropout(0.4))\n",
    "model.add(Dense(1))\n",
    "\n",
    "# Compile the model\n",
    "adam = Adam(learning_rate=0.0005)\n",
    "model.compile(optimizer=adam, loss='mean_squared_error')\n",
    "\n",
    "# Define callbacks\n",
    "early_stopping = EarlyStopping(monitor='val_loss', patience=20, restore_best_weights=True)\n",
    "model_checkpoint = ModelCheckpoint('best_model.keras', save_best_only=True, monitor='val_loss', mode='min')\n",
    "reduce_lr = ReduceLROnPlateau(monitor='val_loss', factor=0.2, patience=5, min_lr=0.0001)\n",
    "\n",
    "# Fit the model\n",
    "model.fit(X_train, Y_train, epochs=150, batch_size=16, validation_data=(X_test, Y_test),\n",
    "          callbacks=[early_stopping, model_checkpoint, reduce_lr])"
   ],
   "metadata": {
    "collapsed": false,
    "ExecuteTime": {
     "end_time": "2024-01-15T19:33:07.873355800Z",
     "start_time": "2024-01-15T19:26:08.237561200Z"
    }
   },
   "id": "71a3ee3c7e475504",
   "execution_count": 17
  },
  {
   "cell_type": "code",
   "outputs": [
    {
     "name": "stdout",
     "output_type": "stream",
     "text": [
      "12/12 [==============================] - 3s 28ms/step\n",
      "MSE: 828046.9074023555, MAE: 636.9492021780303, R^2: 0.9783203261278971\n"
     ]
    },
    {
     "data": {
      "text/plain": "         real     predicted\n0    20677.47  21424.126953\n1    21071.59  21263.134766\n2    22667.21  21299.740234\n3    22783.55  21948.705078\n4    22707.88  22549.292969\n..        ...           ...\n358  46339.16  46321.542969\n359  42782.73  46489.066406\n360  42847.99  45188.507812\n361  41732.35  44046.464844\n362  43012.21  42958.253906\n\n[363 rows x 2 columns]",
      "text/html": "<div>\n<style scoped>\n    .dataframe tbody tr th:only-of-type {\n        vertical-align: middle;\n    }\n\n    .dataframe tbody tr th {\n        vertical-align: top;\n    }\n\n    .dataframe thead th {\n        text-align: right;\n    }\n</style>\n<table border=\"1\" class=\"dataframe\">\n  <thead>\n    <tr style=\"text-align: right;\">\n      <th></th>\n      <th>real</th>\n      <th>predicted</th>\n    </tr>\n  </thead>\n  <tbody>\n    <tr>\n      <th>0</th>\n      <td>20677.47</td>\n      <td>21424.126953</td>\n    </tr>\n    <tr>\n      <th>1</th>\n      <td>21071.59</td>\n      <td>21263.134766</td>\n    </tr>\n    <tr>\n      <th>2</th>\n      <td>22667.21</td>\n      <td>21299.740234</td>\n    </tr>\n    <tr>\n      <th>3</th>\n      <td>22783.55</td>\n      <td>21948.705078</td>\n    </tr>\n    <tr>\n      <th>4</th>\n      <td>22707.88</td>\n      <td>22549.292969</td>\n    </tr>\n    <tr>\n      <th>...</th>\n      <td>...</td>\n      <td>...</td>\n    </tr>\n    <tr>\n      <th>358</th>\n      <td>46339.16</td>\n      <td>46321.542969</td>\n    </tr>\n    <tr>\n      <th>359</th>\n      <td>42782.73</td>\n      <td>46489.066406</td>\n    </tr>\n    <tr>\n      <th>360</th>\n      <td>42847.99</td>\n      <td>45188.507812</td>\n    </tr>\n    <tr>\n      <th>361</th>\n      <td>41732.35</td>\n      <td>44046.464844</td>\n    </tr>\n    <tr>\n      <th>362</th>\n      <td>43012.21</td>\n      <td>42958.253906</td>\n    </tr>\n  </tbody>\n</table>\n<p>363 rows × 2 columns</p>\n</div>"
     },
     "execution_count": 18,
     "metadata": {},
     "output_type": "execute_result"
    }
   ],
   "source": [
    "from sklearn.metrics import mean_squared_error, mean_absolute_error, r2_score\n",
    "\n",
    "# Ensure X_test is used for prediction, and it has the correct shape\n",
    "predicted = model.predict(X_test)\n",
    "\n",
    "# Inverse transform the predicted and real values\n",
    "# Make sure scaler_price was fitted to the 'Close' prices initially\n",
    "predicted_prices = scaler_price.inverse_transform(predicted)\n",
    "real_values = scaler_price.inverse_transform(Y_test.reshape(-1, 1))\n",
    "\n",
    "# Calculate evaluation metrics\n",
    "mse = mean_squared_error(real_values, predicted_prices)\n",
    "mae = mean_absolute_error(real_values, predicted_prices)\n",
    "r2 = r2_score(real_values, predicted_prices)\n",
    "\n",
    "# Prepare data for visualization\n",
    "visualize = {\n",
    "    'real': real_values.flatten(),\n",
    "    'predicted': predicted_prices.flatten()\n",
    "}\n",
    "\n",
    "# Print evaluation metrics\n",
    "print(f\"MSE: {mse}, MAE: {mae}, R^2: {r2}\")\n",
    "\n",
    "# Create a DataFrame for visualization\n",
    "df_vis = pd.DataFrame(visualize)\n",
    "df_vis\n",
    "\n",
    "\n",
    "# results: MSE: 651167, MAE:671.39, R^2: 0.9786"
   ],
   "metadata": {
    "collapsed": false,
    "ExecuteTime": {
     "end_time": "2024-01-15T19:33:11.027324Z",
     "start_time": "2024-01-15T19:33:07.861356400Z"
    }
   },
   "id": "9691f39b0eca6aeb",
   "execution_count": 18
  },
  {
   "cell_type": "code",
   "outputs": [
    {
     "name": "stdout",
     "output_type": "stream",
     "text": [
      "53/53 [==============================] - 2s 28ms/step\n",
      "Epoch 1/150\n",
      "106/106 [==============================] - 19s 62ms/step - loss: 0.6881 - accuracy: 0.5646 - lr: 5.0000e-04\n",
      "Epoch 2/150\n",
      "106/106 [==============================] - 7s 64ms/step - loss: 0.6826 - accuracy: 0.5788 - lr: 5.0000e-04\n",
      "Epoch 3/150\n",
      "106/106 [==============================] - 8s 76ms/step - loss: 0.6806 - accuracy: 0.5806 - lr: 5.0000e-04\n",
      "Epoch 4/150\n",
      "106/106 [==============================] - 7s 64ms/step - loss: 0.6843 - accuracy: 0.5664 - lr: 5.0000e-04\n",
      "Epoch 5/150\n",
      "106/106 [==============================] - 7s 64ms/step - loss: 0.6811 - accuracy: 0.5658 - lr: 5.0000e-04\n",
      "Epoch 6/150\n",
      "106/106 [==============================] - 7s 64ms/step - loss: 0.6776 - accuracy: 0.5900 - lr: 5.0000e-04\n",
      "Epoch 7/150\n",
      "106/106 [==============================] - 7s 64ms/step - loss: 0.6755 - accuracy: 0.5800 - lr: 5.0000e-04\n",
      "Epoch 8/150\n",
      "106/106 [==============================] - 8s 72ms/step - loss: 0.6767 - accuracy: 0.5859 - lr: 5.0000e-04\n",
      "Epoch 9/150\n",
      "106/106 [==============================] - 7s 64ms/step - loss: 0.6801 - accuracy: 0.5592 - lr: 5.0000e-04\n",
      "Epoch 10/150\n",
      "106/106 [==============================] - 7s 64ms/step - loss: 0.6762 - accuracy: 0.5835 - lr: 5.0000e-04\n",
      "Epoch 11/150\n",
      "106/106 [==============================] - 7s 64ms/step - loss: 0.6765 - accuracy: 0.5776 - lr: 5.0000e-04\n",
      "Epoch 12/150\n",
      "106/106 [==============================] - 6s 60ms/step - loss: 0.6730 - accuracy: 0.5918 - lr: 5.0000e-04\n",
      "Epoch 13/150\n",
      "106/106 [==============================] - 7s 63ms/step - loss: 0.6724 - accuracy: 0.5871 - lr: 5.0000e-04\n",
      "Epoch 14/150\n",
      "106/106 [==============================] - 7s 64ms/step - loss: 0.6726 - accuracy: 0.5918 - lr: 5.0000e-04\n",
      "Epoch 15/150\n",
      "106/106 [==============================] - 6s 60ms/step - loss: 0.6707 - accuracy: 0.5818 - lr: 5.0000e-04\n",
      "Epoch 16/150\n",
      "106/106 [==============================] - 7s 62ms/step - loss: 0.6669 - accuracy: 0.6007 - lr: 5.0000e-04\n",
      "Epoch 17/150\n",
      "106/106 [==============================] - 6s 61ms/step - loss: 0.6641 - accuracy: 0.6019 - lr: 5.0000e-04\n",
      "Epoch 18/150\n",
      "106/106 [==============================] - 6s 61ms/step - loss: 0.6604 - accuracy: 0.5966 - lr: 5.0000e-04\n",
      "Epoch 19/150\n",
      "106/106 [==============================] - 6s 59ms/step - loss: 0.6672 - accuracy: 0.6043 - lr: 5.0000e-04\n",
      "Epoch 20/150\n",
      "106/106 [==============================] - 6s 59ms/step - loss: 0.6635 - accuracy: 0.6084 - lr: 5.0000e-04\n",
      "Epoch 21/150\n",
      "106/106 [==============================] - 7s 68ms/step - loss: 0.6565 - accuracy: 0.6155 - lr: 5.0000e-04\n",
      "Epoch 22/150\n",
      "106/106 [==============================] - 7s 63ms/step - loss: 0.6513 - accuracy: 0.6149 - lr: 5.0000e-04\n",
      "Epoch 23/150\n",
      "106/106 [==============================] - 6s 61ms/step - loss: 0.6494 - accuracy: 0.6197 - lr: 5.0000e-04\n",
      "Epoch 24/150\n",
      "106/106 [==============================] - 6s 60ms/step - loss: 0.6481 - accuracy: 0.6262 - lr: 5.0000e-04\n",
      "Epoch 25/150\n",
      "106/106 [==============================] - 7s 64ms/step - loss: 0.6458 - accuracy: 0.6185 - lr: 5.0000e-04\n",
      "Epoch 26/150\n",
      "106/106 [==============================] - 7s 63ms/step - loss: 0.6440 - accuracy: 0.6333 - lr: 5.0000e-04\n",
      "Epoch 27/150\n",
      "106/106 [==============================] - 7s 62ms/step - loss: 0.6363 - accuracy: 0.6280 - lr: 5.0000e-04\n",
      "Epoch 28/150\n",
      "106/106 [==============================] - 6s 61ms/step - loss: 0.6331 - accuracy: 0.6220 - lr: 5.0000e-04\n",
      "Epoch 29/150\n",
      "106/106 [==============================] - 7s 63ms/step - loss: 0.6353 - accuracy: 0.6280 - lr: 5.0000e-04\n",
      "Epoch 30/150\n",
      "106/106 [==============================] - 6s 59ms/step - loss: 0.6274 - accuracy: 0.6434 - lr: 5.0000e-04\n",
      "Epoch 31/150\n",
      "106/106 [==============================] - 6s 61ms/step - loss: 0.6220 - accuracy: 0.6398 - lr: 5.0000e-04\n",
      "Epoch 32/150\n",
      "106/106 [==============================] - 6s 60ms/step - loss: 0.6218 - accuracy: 0.6523 - lr: 5.0000e-04\n",
      "Epoch 33/150\n",
      "106/106 [==============================] - 6s 59ms/step - loss: 0.6177 - accuracy: 0.6558 - lr: 5.0000e-04\n",
      "Epoch 34/150\n",
      "106/106 [==============================] - 6s 61ms/step - loss: 0.6103 - accuracy: 0.6635 - lr: 5.0000e-04\n",
      "Epoch 35/150\n",
      "106/106 [==============================] - 7s 64ms/step - loss: 0.6067 - accuracy: 0.6600 - lr: 5.0000e-04\n",
      "Epoch 36/150\n",
      "106/106 [==============================] - 7s 67ms/step - loss: 0.6122 - accuracy: 0.6594 - lr: 5.0000e-04\n",
      "Epoch 37/150\n",
      "106/106 [==============================] - 7s 65ms/step - loss: 0.6004 - accuracy: 0.6712 - lr: 5.0000e-04\n",
      "Epoch 38/150\n",
      "106/106 [==============================] - 6s 60ms/step - loss: 0.5933 - accuracy: 0.6748 - lr: 5.0000e-04\n",
      "Epoch 39/150\n",
      "106/106 [==============================] - 6s 59ms/step - loss: 0.6004 - accuracy: 0.6748 - lr: 5.0000e-04\n",
      "Epoch 40/150\n",
      "106/106 [==============================] - 6s 59ms/step - loss: 0.5967 - accuracy: 0.6813 - lr: 5.0000e-04\n",
      "Epoch 41/150\n",
      "106/106 [==============================] - 6s 59ms/step - loss: 0.5826 - accuracy: 0.6866 - lr: 5.0000e-04\n",
      "Epoch 42/150\n",
      "106/106 [==============================] - 7s 63ms/step - loss: 0.5768 - accuracy: 0.6890 - lr: 5.0000e-04\n",
      "Epoch 43/150\n",
      "106/106 [==============================] - 7s 62ms/step - loss: 0.5825 - accuracy: 0.6919 - lr: 5.0000e-04\n",
      "Epoch 44/150\n",
      "106/106 [==============================] - 7s 62ms/step - loss: 0.5713 - accuracy: 0.6973 - lr: 5.0000e-04\n",
      "Epoch 45/150\n",
      "106/106 [==============================] - 7s 65ms/step - loss: 0.5793 - accuracy: 0.6836 - lr: 5.0000e-04\n",
      "Epoch 46/150\n",
      "106/106 [==============================] - 7s 63ms/step - loss: 0.5740 - accuracy: 0.6925 - lr: 5.0000e-04\n",
      "Epoch 47/150\n",
      "106/106 [==============================] - 7s 63ms/step - loss: 0.5739 - accuracy: 0.7056 - lr: 5.0000e-04\n",
      "Epoch 48/150\n",
      "106/106 [==============================] - 7s 70ms/step - loss: 0.5622 - accuracy: 0.7002 - lr: 5.0000e-04\n",
      "Epoch 49/150\n",
      "106/106 [==============================] - 7s 69ms/step - loss: 0.5598 - accuracy: 0.7192 - lr: 5.0000e-04\n",
      "Epoch 50/150\n",
      "106/106 [==============================] - 7s 70ms/step - loss: 0.5689 - accuracy: 0.7032 - lr: 5.0000e-04\n",
      "Epoch 51/150\n",
      "106/106 [==============================] - 6s 61ms/step - loss: 0.5577 - accuracy: 0.7133 - lr: 5.0000e-04\n",
      "Epoch 52/150\n",
      "106/106 [==============================] - 7s 63ms/step - loss: 0.5559 - accuracy: 0.7109 - lr: 5.0000e-04\n",
      "Epoch 53/150\n",
      "106/106 [==============================] - 7s 62ms/step - loss: 0.5536 - accuracy: 0.7020 - lr: 5.0000e-04\n",
      "Epoch 54/150\n",
      "106/106 [==============================] - 7s 65ms/step - loss: 0.5486 - accuracy: 0.7044 - lr: 5.0000e-04\n",
      "Epoch 55/150\n",
      "106/106 [==============================] - 7s 65ms/step - loss: 0.5377 - accuracy: 0.7275 - lr: 5.0000e-04\n",
      "Epoch 56/150\n",
      "106/106 [==============================] - 7s 65ms/step - loss: 0.5553 - accuracy: 0.7251 - lr: 5.0000e-04\n",
      "Epoch 57/150\n",
      "106/106 [==============================] - 7s 66ms/step - loss: 0.5409 - accuracy: 0.7263 - lr: 5.0000e-04\n",
      "Epoch 58/150\n",
      "106/106 [==============================] - 7s 65ms/step - loss: 0.5403 - accuracy: 0.7328 - lr: 5.0000e-04\n",
      "Epoch 59/150\n",
      "106/106 [==============================] - 7s 69ms/step - loss: 0.5271 - accuracy: 0.7364 - lr: 5.0000e-04\n",
      "Epoch 60/150\n",
      "106/106 [==============================] - 7s 65ms/step - loss: 0.5200 - accuracy: 0.7393 - lr: 5.0000e-04\n",
      "Epoch 61/150\n",
      "106/106 [==============================] - 6s 59ms/step - loss: 0.5392 - accuracy: 0.7453 - lr: 5.0000e-04\n",
      "Epoch 62/150\n",
      "106/106 [==============================] - 6s 61ms/step - loss: 0.5236 - accuracy: 0.7459 - lr: 5.0000e-04\n",
      "Epoch 63/150\n",
      "106/106 [==============================] - 6s 59ms/step - loss: 0.5289 - accuracy: 0.7399 - lr: 5.0000e-04\n",
      "Epoch 64/150\n",
      "106/106 [==============================] - 6s 60ms/step - loss: 0.5219 - accuracy: 0.7423 - lr: 5.0000e-04\n",
      "Epoch 65/150\n",
      "106/106 [==============================] - 6s 59ms/step - loss: 0.5175 - accuracy: 0.7536 - lr: 5.0000e-04\n",
      "Epoch 66/150\n",
      "106/106 [==============================] - 6s 60ms/step - loss: 0.5231 - accuracy: 0.7506 - lr: 5.0000e-04\n",
      "Epoch 67/150\n",
      "106/106 [==============================] - 7s 63ms/step - loss: 0.5117 - accuracy: 0.7447 - lr: 5.0000e-04\n",
      "Epoch 68/150\n",
      "106/106 [==============================] - 7s 63ms/step - loss: 0.5093 - accuracy: 0.7476 - lr: 5.0000e-04\n",
      "Epoch 69/150\n",
      "106/106 [==============================] - 6s 61ms/step - loss: 0.5149 - accuracy: 0.7577 - lr: 5.0000e-04\n",
      "Epoch 70/150\n",
      "106/106 [==============================] - 6s 59ms/step - loss: 0.5118 - accuracy: 0.7512 - lr: 5.0000e-04\n",
      "Epoch 71/150\n",
      "106/106 [==============================] - 6s 60ms/step - loss: 0.5088 - accuracy: 0.7470 - lr: 5.0000e-04\n",
      "Epoch 72/150\n",
      "106/106 [==============================] - 6s 60ms/step - loss: 0.5039 - accuracy: 0.7541 - lr: 5.0000e-04\n",
      "Epoch 73/150\n",
      "106/106 [==============================] - 6s 60ms/step - loss: 0.5017 - accuracy: 0.7541 - lr: 5.0000e-04\n",
      "Epoch 74/150\n",
      "106/106 [==============================] - 6s 60ms/step - loss: 0.4937 - accuracy: 0.7559 - lr: 5.0000e-04\n",
      "Epoch 75/150\n",
      "106/106 [==============================] - 6s 59ms/step - loss: 0.5037 - accuracy: 0.7536 - lr: 5.0000e-04\n",
      "Epoch 76/150\n",
      "106/106 [==============================] - 6s 59ms/step - loss: 0.5007 - accuracy: 0.7506 - lr: 5.0000e-04\n",
      "Epoch 77/150\n",
      "106/106 [==============================] - 6s 61ms/step - loss: 0.5020 - accuracy: 0.7530 - lr: 5.0000e-04\n",
      "Epoch 78/150\n",
      "106/106 [==============================] - 7s 63ms/step - loss: 0.4874 - accuracy: 0.7559 - lr: 5.0000e-04\n",
      "Epoch 79/150\n",
      "106/106 [==============================] - 7s 63ms/step - loss: 0.5009 - accuracy: 0.7577 - lr: 5.0000e-04\n",
      "Epoch 80/150\n",
      "106/106 [==============================] - 7s 64ms/step - loss: 0.4921 - accuracy: 0.7601 - lr: 5.0000e-04\n",
      "Epoch 81/150\n",
      "106/106 [==============================] - 7s 63ms/step - loss: 0.4820 - accuracy: 0.7642 - lr: 5.0000e-04\n",
      "Epoch 82/150\n",
      "106/106 [==============================] - 7s 62ms/step - loss: 0.4831 - accuracy: 0.7690 - lr: 5.0000e-04\n",
      "Epoch 83/150\n",
      "106/106 [==============================] - 6s 60ms/step - loss: 0.4917 - accuracy: 0.7589 - lr: 5.0000e-04\n",
      "Epoch 84/150\n",
      "106/106 [==============================] - 6s 59ms/step - loss: 0.4827 - accuracy: 0.7660 - lr: 5.0000e-04\n",
      "Epoch 85/150\n",
      "106/106 [==============================] - 6s 59ms/step - loss: 0.4747 - accuracy: 0.7755 - lr: 5.0000e-04\n",
      "Epoch 86/150\n",
      "106/106 [==============================] - 6s 59ms/step - loss: 0.4903 - accuracy: 0.7624 - lr: 5.0000e-04\n",
      "Epoch 87/150\n",
      "106/106 [==============================] - 6s 59ms/step - loss: 0.4904 - accuracy: 0.7595 - lr: 5.0000e-04\n",
      "Epoch 88/150\n",
      "106/106 [==============================] - 7s 62ms/step - loss: 0.4847 - accuracy: 0.7695 - lr: 5.0000e-04\n",
      "Epoch 89/150\n",
      "106/106 [==============================] - 7s 63ms/step - loss: 0.4680 - accuracy: 0.7808 - lr: 5.0000e-04\n",
      "Epoch 90/150\n",
      "106/106 [==============================] - 7s 65ms/step - loss: 0.4848 - accuracy: 0.7737 - lr: 5.0000e-04\n",
      "Epoch 91/150\n",
      "106/106 [==============================] - 7s 63ms/step - loss: 0.4642 - accuracy: 0.7820 - lr: 5.0000e-04\n",
      "Epoch 92/150\n",
      "106/106 [==============================] - 6s 59ms/step - loss: 0.4799 - accuracy: 0.7707 - lr: 5.0000e-04\n",
      "Epoch 93/150\n",
      "106/106 [==============================] - 6s 60ms/step - loss: 0.4691 - accuracy: 0.7731 - lr: 5.0000e-04\n",
      "Epoch 94/150\n",
      "106/106 [==============================] - 6s 59ms/step - loss: 0.4673 - accuracy: 0.7737 - lr: 5.0000e-04\n",
      "Epoch 95/150\n",
      "106/106 [==============================] - 6s 59ms/step - loss: 0.4663 - accuracy: 0.7790 - lr: 5.0000e-04\n",
      "Epoch 96/150\n",
      "106/106 [==============================] - 6s 60ms/step - loss: 0.4636 - accuracy: 0.7867 - lr: 5.0000e-04\n",
      "Epoch 97/150\n",
      "106/106 [==============================] - 6s 60ms/step - loss: 0.4681 - accuracy: 0.7749 - lr: 5.0000e-04\n",
      "Epoch 98/150\n",
      "106/106 [==============================] - 7s 62ms/step - loss: 0.4611 - accuracy: 0.7802 - lr: 5.0000e-04\n",
      "Epoch 99/150\n",
      "106/106 [==============================] - 6s 61ms/step - loss: 0.4625 - accuracy: 0.7778 - lr: 5.0000e-04\n",
      "Epoch 100/150\n",
      "106/106 [==============================] - 7s 62ms/step - loss: 0.4479 - accuracy: 0.7885 - lr: 5.0000e-04\n",
      "Epoch 101/150\n",
      "106/106 [==============================] - 6s 60ms/step - loss: 0.4527 - accuracy: 0.7879 - lr: 5.0000e-04\n",
      "Epoch 102/150\n",
      "106/106 [==============================] - 6s 60ms/step - loss: 0.4745 - accuracy: 0.7713 - lr: 5.0000e-04\n",
      "Epoch 103/150\n",
      "106/106 [==============================] - 6s 59ms/step - loss: 0.4480 - accuracy: 0.7903 - lr: 5.0000e-04\n",
      "Epoch 104/150\n",
      "106/106 [==============================] - 6s 60ms/step - loss: 0.4476 - accuracy: 0.7932 - lr: 5.0000e-04\n",
      "Epoch 105/150\n",
      "106/106 [==============================] - 6s 60ms/step - loss: 0.4416 - accuracy: 0.7992 - lr: 5.0000e-04\n",
      "Epoch 106/150\n",
      "106/106 [==============================] - 6s 60ms/step - loss: 0.4321 - accuracy: 0.7956 - lr: 5.0000e-04\n",
      "Epoch 107/150\n",
      "106/106 [==============================] - 6s 60ms/step - loss: 0.4537 - accuracy: 0.7915 - lr: 5.0000e-04\n",
      "Epoch 108/150\n",
      "106/106 [==============================] - 6s 60ms/step - loss: 0.4243 - accuracy: 0.7986 - lr: 5.0000e-04\n",
      "Epoch 109/150\n",
      "106/106 [==============================] - 6s 60ms/step - loss: 0.4302 - accuracy: 0.7998 - lr: 5.0000e-04\n",
      "Epoch 110/150\n",
      "106/106 [==============================] - 6s 60ms/step - loss: 0.4447 - accuracy: 0.7838 - lr: 5.0000e-04\n",
      "Epoch 111/150\n",
      "106/106 [==============================] - 6s 60ms/step - loss: 0.4345 - accuracy: 0.7915 - lr: 5.0000e-04\n",
      "Epoch 112/150\n",
      "106/106 [==============================] - 6s 60ms/step - loss: 0.4315 - accuracy: 0.7873 - lr: 5.0000e-04\n",
      "Epoch 113/150\n",
      "106/106 [==============================] - 6s 59ms/step - loss: 0.4192 - accuracy: 0.8134 - lr: 5.0000e-04\n",
      "Epoch 114/150\n",
      "106/106 [==============================] - 6s 60ms/step - loss: 0.4506 - accuracy: 0.7826 - lr: 5.0000e-04\n",
      "Epoch 115/150\n",
      "106/106 [==============================] - 6s 60ms/step - loss: 0.4204 - accuracy: 0.8027 - lr: 5.0000e-04\n",
      "Epoch 116/150\n",
      "106/106 [==============================] - 6s 59ms/step - loss: 0.4205 - accuracy: 0.8004 - lr: 5.0000e-04\n",
      "Epoch 117/150\n",
      "106/106 [==============================] - 6s 60ms/step - loss: 0.4202 - accuracy: 0.8004 - lr: 5.0000e-04\n",
      "Epoch 118/150\n",
      "106/106 [==============================] - 6s 59ms/step - loss: 0.4203 - accuracy: 0.8104 - lr: 5.0000e-04\n",
      "Epoch 119/150\n",
      "106/106 [==============================] - 6s 60ms/step - loss: 0.4532 - accuracy: 0.7767 - lr: 5.0000e-04\n",
      "Epoch 120/150\n",
      "106/106 [==============================] - 6s 60ms/step - loss: 0.4256 - accuracy: 0.8057 - lr: 5.0000e-04\n",
      "Epoch 121/150\n",
      "106/106 [==============================] - 6s 60ms/step - loss: 0.4167 - accuracy: 0.8128 - lr: 5.0000e-04\n",
      "Epoch 122/150\n",
      "106/106 [==============================] - 6s 60ms/step - loss: 0.4123 - accuracy: 0.8033 - lr: 5.0000e-04\n",
      "Epoch 123/150\n",
      "106/106 [==============================] - 6s 60ms/step - loss: 0.4166 - accuracy: 0.8057 - lr: 5.0000e-04\n",
      "Epoch 124/150\n",
      "106/106 [==============================] - 6s 60ms/step - loss: 0.3936 - accuracy: 0.8235 - lr: 5.0000e-04\n",
      "Epoch 125/150\n",
      "106/106 [==============================] - 6s 60ms/step - loss: 0.4041 - accuracy: 0.8122 - lr: 5.0000e-04\n",
      "Epoch 126/150\n",
      "106/106 [==============================] - 6s 60ms/step - loss: 0.4074 - accuracy: 0.8146 - lr: 5.0000e-04\n",
      "Epoch 127/150\n",
      "106/106 [==============================] - 6s 60ms/step - loss: 0.3853 - accuracy: 0.8223 - lr: 5.0000e-04\n",
      "Epoch 128/150\n",
      "106/106 [==============================] - 6s 60ms/step - loss: 0.4151 - accuracy: 0.8075 - lr: 5.0000e-04\n",
      "Epoch 129/150\n",
      "106/106 [==============================] - 6s 60ms/step - loss: 0.4013 - accuracy: 0.8104 - lr: 5.0000e-04\n",
      "Epoch 130/150\n",
      "106/106 [==============================] - 6s 60ms/step - loss: 0.3948 - accuracy: 0.8164 - lr: 5.0000e-04\n",
      "Epoch 131/150\n",
      "106/106 [==============================] - 6s 60ms/step - loss: 0.4239 - accuracy: 0.8081 - lr: 5.0000e-04\n",
      "Epoch 132/150\n",
      "106/106 [==============================] - 6s 60ms/step - loss: 0.3872 - accuracy: 0.8158 - lr: 5.0000e-04\n",
      "Epoch 133/150\n",
      "106/106 [==============================] - 6s 60ms/step - loss: 0.3974 - accuracy: 0.8181 - lr: 5.0000e-04\n",
      "Epoch 134/150\n",
      "106/106 [==============================] - 6s 60ms/step - loss: 0.3929 - accuracy: 0.8241 - lr: 5.0000e-04\n",
      "Epoch 135/150\n",
      "106/106 [==============================] - 6s 61ms/step - loss: 0.4063 - accuracy: 0.8098 - lr: 5.0000e-04\n",
      "Epoch 136/150\n",
      "106/106 [==============================] - 6s 61ms/step - loss: 0.3911 - accuracy: 0.8276 - lr: 5.0000e-04\n",
      "Epoch 137/150\n",
      "106/106 [==============================] - 6s 60ms/step - loss: 0.3948 - accuracy: 0.8152 - lr: 5.0000e-04\n",
      "Epoch 138/150\n",
      "106/106 [==============================] - 6s 60ms/step - loss: 0.3860 - accuracy: 0.8217 - lr: 5.0000e-04\n",
      "Epoch 139/150\n",
      "106/106 [==============================] - 6s 60ms/step - loss: 0.3923 - accuracy: 0.8205 - lr: 5.0000e-04\n",
      "Epoch 140/150\n",
      "106/106 [==============================] - 6s 60ms/step - loss: 0.3761 - accuracy: 0.8258 - lr: 5.0000e-04\n",
      "Epoch 141/150\n",
      "106/106 [==============================] - 6s 60ms/step - loss: 0.3813 - accuracy: 0.8217 - lr: 5.0000e-04\n",
      "Epoch 142/150\n",
      "106/106 [==============================] - 6s 60ms/step - loss: 0.3892 - accuracy: 0.8211 - lr: 5.0000e-04\n",
      "Epoch 143/150\n",
      "106/106 [==============================] - 6s 60ms/step - loss: 0.3927 - accuracy: 0.8158 - lr: 5.0000e-04\n",
      "Epoch 144/150\n",
      "106/106 [==============================] - 6s 60ms/step - loss: 0.3785 - accuracy: 0.8264 - lr: 5.0000e-04\n",
      "Epoch 145/150\n",
      "106/106 [==============================] - 6s 60ms/step - loss: 0.3704 - accuracy: 0.8383 - lr: 5.0000e-04\n",
      "Epoch 146/150\n",
      "106/106 [==============================] - 6s 60ms/step - loss: 0.3968 - accuracy: 0.8211 - lr: 5.0000e-04\n",
      "Epoch 147/150\n",
      "106/106 [==============================] - 6s 60ms/step - loss: 0.3671 - accuracy: 0.8300 - lr: 5.0000e-04\n",
      "Epoch 148/150\n",
      "106/106 [==============================] - 6s 60ms/step - loss: 0.3681 - accuracy: 0.8300 - lr: 5.0000e-04\n",
      "Epoch 149/150\n",
      "106/106 [==============================] - 6s 60ms/step - loss: 0.3795 - accuracy: 0.8282 - lr: 5.0000e-04\n",
      "Epoch 150/150\n",
      "106/106 [==============================] - 6s 60ms/step - loss: 0.3758 - accuracy: 0.8389 - lr: 5.0000e-04\n",
      "12/12 [==============================] - 0s 26ms/step\n",
      "12/12 [==============================] - 3s 27ms/step - loss: 0.6272 - accuracy: 0.7127\n"
     ]
    }
   ],
   "source": [
    "\n",
    "predicted_train_prices = model.predict(X_train)\n",
    "\n",
    "# Создание новой целевой переменной для направления движения цены\n",
    "# Если предсказанная цена больше текущей, то 1 (вверх), иначе 0 (вниз)\n",
    "Y_train_direction = np.where(predicted_train_prices[:-1].flatten() < Y_train[1:], 1, 0)\n",
    "\n",
    "# Теперь необходимо создать дополнительный датасет для обучения классификационной модели\n",
    "X_train_direction = X_train[1:]  # Убираем первый элемент, так как для него нет предсказания направления\n",
    "\n",
    "# Создание и обучение классификационной модели для предсказания направления\n",
    "direction_model = Sequential()\n",
    "direction_model.add(Bidirectional(GRU(128, return_sequences=True, input_shape=(look_back, n_features))))\n",
    "direction_model.add(Dropout(0.4)) \n",
    "direction_model.add(Bidirectional(GRU(64, return_sequences=False)))\n",
    "direction_model.add(Dropout(0.4))\n",
    "direction_model.add(Dense(1, activation='sigmoid'))  # Используем сигмоидальную функцию активации для классификации\n",
    "\n",
    "direction_model.compile(optimizer=Adam(learning_rate=0.0005), loss='binary_crossentropy', metrics=['accuracy'])\n",
    "\n",
    "# Обучение классификационной модели\n",
    "direction_model.fit(X_train_direction, Y_train_direction, epochs=150, batch_size=16, callbacks=[early_stopping, reduce_lr])\n",
    "\n",
    "# Предсказание направления движения цены на тестовых данных\n",
    "# Для этого сначала необходимо получить предсказанные цены моделью регрессии\n",
    "predicted_test_prices = model.predict(X_test)\n",
    "\n",
    "# Создание тестового набора для Y_test_direction\n",
    "Y_test_direction = np.where(predicted_test_prices[:-1].flatten() < Y_test[1:], 1, 0)\n",
    "X_test_direction = X_test[1:]  # Убираем первый элемент для соответствия Y_test_direction\n",
    "\n",
    "# Оценка классификационной модели на тестовых данных\n",
    "test_direction_accuracy = direction_model.evaluate(X_test_direction, Y_test_direction)\n"
   ],
   "metadata": {
    "collapsed": false,
    "ExecuteTime": {
     "end_time": "2024-01-15T19:49:47.139229200Z",
     "start_time": "2024-01-15T19:33:11.032325200Z"
    }
   },
   "id": "712228e359df7f04",
   "execution_count": 19
  },
  {
   "cell_type": "code",
   "outputs": [
    {
     "ename": "DTypePromotionError",
     "evalue": "The DType <class 'numpy.dtypes.DateTime64DType'> could not be promoted by <class 'numpy.dtypes.Float64DType'>. This means that no common DType exists for the given inputs. For example they cannot be stored in a single array unless the dtype is `object`. The full list of DTypes is: (<class 'numpy.dtypes.DateTime64DType'>, <class 'numpy.dtypes.Float64DType'>, <class 'numpy.dtypes.Float64DType'>, <class 'numpy.dtypes.Float64DType'>, <class 'numpy.dtypes.Float64DType'>, <class 'numpy.dtypes.Float64DType'>, <class 'numpy.dtypes.Float64DType'>, <class 'numpy.dtypes.Float64DType'>, <class 'numpy.dtypes.Float64DType'>, <class 'numpy.dtypes.Float64DType'>, <class 'numpy.dtypes.Float64DType'>, <class 'numpy.dtypes.Float64DType'>, <class 'numpy.dtypes.Float64DType'>, <class 'numpy.dtypes.Float64DType'>, <class 'numpy.dtypes.Float64DType'>, <class 'numpy.dtypes.Float64DType'>, <class 'numpy.dtypes.Float64DType'>)",
     "output_type": "error",
     "traceback": [
      "\u001B[1;31m---------------------------------------------------------------------------\u001B[0m",
      "\u001B[1;31mDTypePromotionError\u001B[0m                       Traceback (most recent call last)",
      "Cell \u001B[1;32mIn[20], line 16\u001B[0m\n\u001B[0;32m     11\u001B[0m \u001B[38;5;66;03m# Предположим, что df - ваш DataFrame, и он уже содержит все необходимые признаки\u001B[39;00m\n\u001B[0;32m     12\u001B[0m \u001B[38;5;66;03m# Включая 'Close', 'Volume', 'RSI', 'MACD' и другие технические индикаторы\u001B[39;00m\n\u001B[0;32m     13\u001B[0m \n\u001B[0;32m     14\u001B[0m \u001B[38;5;66;03m# Нормализация признаков\u001B[39;00m\n\u001B[0;32m     15\u001B[0m scaler \u001B[38;5;241m=\u001B[39m MinMaxScaler(feature_range\u001B[38;5;241m=\u001B[39m(\u001B[38;5;241m0\u001B[39m, \u001B[38;5;241m1\u001B[39m))\n\u001B[1;32m---> 16\u001B[0m scaled_data \u001B[38;5;241m=\u001B[39m \u001B[43mscaler\u001B[49m\u001B[38;5;241;43m.\u001B[39;49m\u001B[43mfit_transform\u001B[49m\u001B[43m(\u001B[49m\u001B[43mdf\u001B[49m\u001B[43m)\u001B[49m\n\u001B[0;32m     18\u001B[0m \u001B[38;5;66;03m# Создание целевой переменной для классификации\u001B[39;00m\n\u001B[0;32m     19\u001B[0m df[\u001B[38;5;124m'\u001B[39m\u001B[38;5;124mTarget\u001B[39m\u001B[38;5;124m'\u001B[39m] \u001B[38;5;241m=\u001B[39m (df[\u001B[38;5;124m'\u001B[39m\u001B[38;5;124mClose\u001B[39m\u001B[38;5;124m'\u001B[39m]\u001B[38;5;241m.\u001B[39mshift(\u001B[38;5;241m-\u001B[39m\u001B[38;5;241m1\u001B[39m) \u001B[38;5;241m>\u001B[39m df[\u001B[38;5;124m'\u001B[39m\u001B[38;5;124mClose\u001B[39m\u001B[38;5;124m'\u001B[39m])\u001B[38;5;241m.\u001B[39mastype(\u001B[38;5;28mint\u001B[39m)\n",
      "File \u001B[1;32m~\\AppData\\Local\\Packages\\PythonSoftwareFoundation.Python.3.11_qbz5n2kfra8p0\\LocalCache\\local-packages\\Python311\\site-packages\\sklearn\\utils\\_set_output.py:157\u001B[0m, in \u001B[0;36m_wrap_method_output.<locals>.wrapped\u001B[1;34m(self, X, *args, **kwargs)\u001B[0m\n\u001B[0;32m    155\u001B[0m \u001B[38;5;129m@wraps\u001B[39m(f)\n\u001B[0;32m    156\u001B[0m \u001B[38;5;28;01mdef\u001B[39;00m \u001B[38;5;21mwrapped\u001B[39m(\u001B[38;5;28mself\u001B[39m, X, \u001B[38;5;241m*\u001B[39margs, \u001B[38;5;241m*\u001B[39m\u001B[38;5;241m*\u001B[39mkwargs):\n\u001B[1;32m--> 157\u001B[0m     data_to_wrap \u001B[38;5;241m=\u001B[39m \u001B[43mf\u001B[49m\u001B[43m(\u001B[49m\u001B[38;5;28;43mself\u001B[39;49m\u001B[43m,\u001B[49m\u001B[43m \u001B[49m\u001B[43mX\u001B[49m\u001B[43m,\u001B[49m\u001B[43m \u001B[49m\u001B[38;5;241;43m*\u001B[39;49m\u001B[43margs\u001B[49m\u001B[43m,\u001B[49m\u001B[43m \u001B[49m\u001B[38;5;241;43m*\u001B[39;49m\u001B[38;5;241;43m*\u001B[39;49m\u001B[43mkwargs\u001B[49m\u001B[43m)\u001B[49m\n\u001B[0;32m    158\u001B[0m     \u001B[38;5;28;01mif\u001B[39;00m \u001B[38;5;28misinstance\u001B[39m(data_to_wrap, \u001B[38;5;28mtuple\u001B[39m):\n\u001B[0;32m    159\u001B[0m         \u001B[38;5;66;03m# only wrap the first output for cross decomposition\u001B[39;00m\n\u001B[0;32m    160\u001B[0m         return_tuple \u001B[38;5;241m=\u001B[39m (\n\u001B[0;32m    161\u001B[0m             _wrap_data_with_container(method, data_to_wrap[\u001B[38;5;241m0\u001B[39m], X, \u001B[38;5;28mself\u001B[39m),\n\u001B[0;32m    162\u001B[0m             \u001B[38;5;241m*\u001B[39mdata_to_wrap[\u001B[38;5;241m1\u001B[39m:],\n\u001B[0;32m    163\u001B[0m         )\n",
      "File \u001B[1;32m~\\AppData\\Local\\Packages\\PythonSoftwareFoundation.Python.3.11_qbz5n2kfra8p0\\LocalCache\\local-packages\\Python311\\site-packages\\sklearn\\base.py:916\u001B[0m, in \u001B[0;36mTransformerMixin.fit_transform\u001B[1;34m(self, X, y, **fit_params)\u001B[0m\n\u001B[0;32m    912\u001B[0m \u001B[38;5;66;03m# non-optimized default implementation; override when a better\u001B[39;00m\n\u001B[0;32m    913\u001B[0m \u001B[38;5;66;03m# method is possible for a given clustering algorithm\u001B[39;00m\n\u001B[0;32m    914\u001B[0m \u001B[38;5;28;01mif\u001B[39;00m y \u001B[38;5;129;01mis\u001B[39;00m \u001B[38;5;28;01mNone\u001B[39;00m:\n\u001B[0;32m    915\u001B[0m     \u001B[38;5;66;03m# fit method of arity 1 (unsupervised transformation)\u001B[39;00m\n\u001B[1;32m--> 916\u001B[0m     \u001B[38;5;28;01mreturn\u001B[39;00m \u001B[38;5;28;43mself\u001B[39;49m\u001B[38;5;241;43m.\u001B[39;49m\u001B[43mfit\u001B[49m\u001B[43m(\u001B[49m\u001B[43mX\u001B[49m\u001B[43m,\u001B[49m\u001B[43m \u001B[49m\u001B[38;5;241;43m*\u001B[39;49m\u001B[38;5;241;43m*\u001B[39;49m\u001B[43mfit_params\u001B[49m\u001B[43m)\u001B[49m\u001B[38;5;241m.\u001B[39mtransform(X)\n\u001B[0;32m    917\u001B[0m \u001B[38;5;28;01melse\u001B[39;00m:\n\u001B[0;32m    918\u001B[0m     \u001B[38;5;66;03m# fit method of arity 2 (supervised transformation)\u001B[39;00m\n\u001B[0;32m    919\u001B[0m     \u001B[38;5;28;01mreturn\u001B[39;00m \u001B[38;5;28mself\u001B[39m\u001B[38;5;241m.\u001B[39mfit(X, y, \u001B[38;5;241m*\u001B[39m\u001B[38;5;241m*\u001B[39mfit_params)\u001B[38;5;241m.\u001B[39mtransform(X)\n",
      "File \u001B[1;32m~\\AppData\\Local\\Packages\\PythonSoftwareFoundation.Python.3.11_qbz5n2kfra8p0\\LocalCache\\local-packages\\Python311\\site-packages\\sklearn\\preprocessing\\_data.py:435\u001B[0m, in \u001B[0;36mMinMaxScaler.fit\u001B[1;34m(self, X, y)\u001B[0m\n\u001B[0;32m    433\u001B[0m \u001B[38;5;66;03m# Reset internal state before fitting\u001B[39;00m\n\u001B[0;32m    434\u001B[0m \u001B[38;5;28mself\u001B[39m\u001B[38;5;241m.\u001B[39m_reset()\n\u001B[1;32m--> 435\u001B[0m \u001B[38;5;28;01mreturn\u001B[39;00m \u001B[38;5;28;43mself\u001B[39;49m\u001B[38;5;241;43m.\u001B[39;49m\u001B[43mpartial_fit\u001B[49m\u001B[43m(\u001B[49m\u001B[43mX\u001B[49m\u001B[43m,\u001B[49m\u001B[43m \u001B[49m\u001B[43my\u001B[49m\u001B[43m)\u001B[49m\n",
      "File \u001B[1;32m~\\AppData\\Local\\Packages\\PythonSoftwareFoundation.Python.3.11_qbz5n2kfra8p0\\LocalCache\\local-packages\\Python311\\site-packages\\sklearn\\base.py:1152\u001B[0m, in \u001B[0;36m_fit_context.<locals>.decorator.<locals>.wrapper\u001B[1;34m(estimator, *args, **kwargs)\u001B[0m\n\u001B[0;32m   1145\u001B[0m     estimator\u001B[38;5;241m.\u001B[39m_validate_params()\n\u001B[0;32m   1147\u001B[0m \u001B[38;5;28;01mwith\u001B[39;00m config_context(\n\u001B[0;32m   1148\u001B[0m     skip_parameter_validation\u001B[38;5;241m=\u001B[39m(\n\u001B[0;32m   1149\u001B[0m         prefer_skip_nested_validation \u001B[38;5;129;01mor\u001B[39;00m global_skip_validation\n\u001B[0;32m   1150\u001B[0m     )\n\u001B[0;32m   1151\u001B[0m ):\n\u001B[1;32m-> 1152\u001B[0m     \u001B[38;5;28;01mreturn\u001B[39;00m \u001B[43mfit_method\u001B[49m\u001B[43m(\u001B[49m\u001B[43mestimator\u001B[49m\u001B[43m,\u001B[49m\u001B[43m \u001B[49m\u001B[38;5;241;43m*\u001B[39;49m\u001B[43margs\u001B[49m\u001B[43m,\u001B[49m\u001B[43m \u001B[49m\u001B[38;5;241;43m*\u001B[39;49m\u001B[38;5;241;43m*\u001B[39;49m\u001B[43mkwargs\u001B[49m\u001B[43m)\u001B[49m\n",
      "File \u001B[1;32m~\\AppData\\Local\\Packages\\PythonSoftwareFoundation.Python.3.11_qbz5n2kfra8p0\\LocalCache\\local-packages\\Python311\\site-packages\\sklearn\\preprocessing\\_data.py:473\u001B[0m, in \u001B[0;36mMinMaxScaler.partial_fit\u001B[1;34m(self, X, y)\u001B[0m\n\u001B[0;32m    467\u001B[0m     \u001B[38;5;28;01mraise\u001B[39;00m \u001B[38;5;167;01mTypeError\u001B[39;00m(\n\u001B[0;32m    468\u001B[0m         \u001B[38;5;124m\"\u001B[39m\u001B[38;5;124mMinMaxScaler does not support sparse input. \u001B[39m\u001B[38;5;124m\"\u001B[39m\n\u001B[0;32m    469\u001B[0m         \u001B[38;5;124m\"\u001B[39m\u001B[38;5;124mConsider using MaxAbsScaler instead.\u001B[39m\u001B[38;5;124m\"\u001B[39m\n\u001B[0;32m    470\u001B[0m     )\n\u001B[0;32m    472\u001B[0m first_pass \u001B[38;5;241m=\u001B[39m \u001B[38;5;129;01mnot\u001B[39;00m \u001B[38;5;28mhasattr\u001B[39m(\u001B[38;5;28mself\u001B[39m, \u001B[38;5;124m\"\u001B[39m\u001B[38;5;124mn_samples_seen_\u001B[39m\u001B[38;5;124m\"\u001B[39m)\n\u001B[1;32m--> 473\u001B[0m X \u001B[38;5;241m=\u001B[39m \u001B[38;5;28;43mself\u001B[39;49m\u001B[38;5;241;43m.\u001B[39;49m\u001B[43m_validate_data\u001B[49m\u001B[43m(\u001B[49m\n\u001B[0;32m    474\u001B[0m \u001B[43m    \u001B[49m\u001B[43mX\u001B[49m\u001B[43m,\u001B[49m\n\u001B[0;32m    475\u001B[0m \u001B[43m    \u001B[49m\u001B[43mreset\u001B[49m\u001B[38;5;241;43m=\u001B[39;49m\u001B[43mfirst_pass\u001B[49m\u001B[43m,\u001B[49m\n\u001B[0;32m    476\u001B[0m \u001B[43m    \u001B[49m\u001B[43mdtype\u001B[49m\u001B[38;5;241;43m=\u001B[39;49m\u001B[43mFLOAT_DTYPES\u001B[49m\u001B[43m,\u001B[49m\n\u001B[0;32m    477\u001B[0m \u001B[43m    \u001B[49m\u001B[43mforce_all_finite\u001B[49m\u001B[38;5;241;43m=\u001B[39;49m\u001B[38;5;124;43m\"\u001B[39;49m\u001B[38;5;124;43mallow-nan\u001B[39;49m\u001B[38;5;124;43m\"\u001B[39;49m\u001B[43m,\u001B[49m\n\u001B[0;32m    478\u001B[0m \u001B[43m\u001B[49m\u001B[43m)\u001B[49m\n\u001B[0;32m    480\u001B[0m data_min \u001B[38;5;241m=\u001B[39m np\u001B[38;5;241m.\u001B[39mnanmin(X, axis\u001B[38;5;241m=\u001B[39m\u001B[38;5;241m0\u001B[39m)\n\u001B[0;32m    481\u001B[0m data_max \u001B[38;5;241m=\u001B[39m np\u001B[38;5;241m.\u001B[39mnanmax(X, axis\u001B[38;5;241m=\u001B[39m\u001B[38;5;241m0\u001B[39m)\n",
      "File \u001B[1;32m~\\AppData\\Local\\Packages\\PythonSoftwareFoundation.Python.3.11_qbz5n2kfra8p0\\LocalCache\\local-packages\\Python311\\site-packages\\sklearn\\base.py:605\u001B[0m, in \u001B[0;36mBaseEstimator._validate_data\u001B[1;34m(self, X, y, reset, validate_separately, cast_to_ndarray, **check_params)\u001B[0m\n\u001B[0;32m    603\u001B[0m         out \u001B[38;5;241m=\u001B[39m X, y\n\u001B[0;32m    604\u001B[0m \u001B[38;5;28;01melif\u001B[39;00m \u001B[38;5;129;01mnot\u001B[39;00m no_val_X \u001B[38;5;129;01mand\u001B[39;00m no_val_y:\n\u001B[1;32m--> 605\u001B[0m     out \u001B[38;5;241m=\u001B[39m \u001B[43mcheck_array\u001B[49m\u001B[43m(\u001B[49m\u001B[43mX\u001B[49m\u001B[43m,\u001B[49m\u001B[43m \u001B[49m\u001B[43minput_name\u001B[49m\u001B[38;5;241;43m=\u001B[39;49m\u001B[38;5;124;43m\"\u001B[39;49m\u001B[38;5;124;43mX\u001B[39;49m\u001B[38;5;124;43m\"\u001B[39;49m\u001B[43m,\u001B[49m\u001B[43m \u001B[49m\u001B[38;5;241;43m*\u001B[39;49m\u001B[38;5;241;43m*\u001B[39;49m\u001B[43mcheck_params\u001B[49m\u001B[43m)\u001B[49m\n\u001B[0;32m    606\u001B[0m \u001B[38;5;28;01melif\u001B[39;00m no_val_X \u001B[38;5;129;01mand\u001B[39;00m \u001B[38;5;129;01mnot\u001B[39;00m no_val_y:\n\u001B[0;32m    607\u001B[0m     out \u001B[38;5;241m=\u001B[39m _check_y(y, \u001B[38;5;241m*\u001B[39m\u001B[38;5;241m*\u001B[39mcheck_params)\n",
      "File \u001B[1;32m~\\AppData\\Local\\Packages\\PythonSoftwareFoundation.Python.3.11_qbz5n2kfra8p0\\LocalCache\\local-packages\\Python311\\site-packages\\sklearn\\utils\\validation.py:795\u001B[0m, in \u001B[0;36mcheck_array\u001B[1;34m(array, accept_sparse, accept_large_sparse, dtype, order, copy, force_all_finite, ensure_2d, allow_nd, ensure_min_samples, ensure_min_features, estimator, input_name)\u001B[0m\n\u001B[0;32m    791\u001B[0m pandas_requires_conversion \u001B[38;5;241m=\u001B[39m \u001B[38;5;28many\u001B[39m(\n\u001B[0;32m    792\u001B[0m     _pandas_dtype_needs_early_conversion(i) \u001B[38;5;28;01mfor\u001B[39;00m i \u001B[38;5;129;01min\u001B[39;00m dtypes_orig\n\u001B[0;32m    793\u001B[0m )\n\u001B[0;32m    794\u001B[0m \u001B[38;5;28;01mif\u001B[39;00m \u001B[38;5;28mall\u001B[39m(\u001B[38;5;28misinstance\u001B[39m(dtype_iter, np\u001B[38;5;241m.\u001B[39mdtype) \u001B[38;5;28;01mfor\u001B[39;00m dtype_iter \u001B[38;5;129;01min\u001B[39;00m dtypes_orig):\n\u001B[1;32m--> 795\u001B[0m     dtype_orig \u001B[38;5;241m=\u001B[39m \u001B[43mnp\u001B[49m\u001B[38;5;241;43m.\u001B[39;49m\u001B[43mresult_type\u001B[49m\u001B[43m(\u001B[49m\u001B[38;5;241;43m*\u001B[39;49m\u001B[43mdtypes_orig\u001B[49m\u001B[43m)\u001B[49m\n\u001B[0;32m    796\u001B[0m \u001B[38;5;28;01melif\u001B[39;00m pandas_requires_conversion \u001B[38;5;129;01mand\u001B[39;00m \u001B[38;5;28many\u001B[39m(d \u001B[38;5;241m==\u001B[39m \u001B[38;5;28mobject\u001B[39m \u001B[38;5;28;01mfor\u001B[39;00m d \u001B[38;5;129;01min\u001B[39;00m dtypes_orig):\n\u001B[0;32m    797\u001B[0m     \u001B[38;5;66;03m# Force object if any of the dtypes is an object\u001B[39;00m\n\u001B[0;32m    798\u001B[0m     dtype_orig \u001B[38;5;241m=\u001B[39m \u001B[38;5;28mobject\u001B[39m\n",
      "\u001B[1;31mDTypePromotionError\u001B[0m: The DType <class 'numpy.dtypes.DateTime64DType'> could not be promoted by <class 'numpy.dtypes.Float64DType'>. This means that no common DType exists for the given inputs. For example they cannot be stored in a single array unless the dtype is `object`. The full list of DTypes is: (<class 'numpy.dtypes.DateTime64DType'>, <class 'numpy.dtypes.Float64DType'>, <class 'numpy.dtypes.Float64DType'>, <class 'numpy.dtypes.Float64DType'>, <class 'numpy.dtypes.Float64DType'>, <class 'numpy.dtypes.Float64DType'>, <class 'numpy.dtypes.Float64DType'>, <class 'numpy.dtypes.Float64DType'>, <class 'numpy.dtypes.Float64DType'>, <class 'numpy.dtypes.Float64DType'>, <class 'numpy.dtypes.Float64DType'>, <class 'numpy.dtypes.Float64DType'>, <class 'numpy.dtypes.Float64DType'>, <class 'numpy.dtypes.Float64DType'>, <class 'numpy.dtypes.Float64DType'>, <class 'numpy.dtypes.Float64DType'>, <class 'numpy.dtypes.Float64DType'>)"
     ]
    }
   ],
   "source": [
    "from keras.models import Sequential\n",
    "from keras.layers import Dense, GRU, Dropout, Bidirectional\n",
    "from keras.optimizers import Adam\n",
    "from keras.callbacks import EarlyStopping, ReduceLROnPlateau\n",
    "from sklearn.utils import class_weight\n",
    "import numpy as np\n",
    "import pandas as pd\n",
    "from sklearn.preprocessing import MinMaxScaler\n",
    "from sklearn.model_selection import train_test_split\n",
    "\n",
    "# Предположим, что df - ваш DataFrame, и он уже содержит все необходимые признаки\n",
    "# Включая 'Close', 'Volume', 'RSI', 'MACD' и другие технические индикаторы\n",
    "\n",
    "# Нормализация признаков\n",
    "scaler = MinMaxScaler(feature_range=(0, 1))\n",
    "scaled_data = scaler.fit_transform(df)\n",
    "\n",
    "# Создание целевой переменной для классификации\n",
    "df['Target'] = (df['Close'].shift(-1) > df['Close']).astype(int)\n",
    "\n",
    "# Определение функции для создания датасета\n",
    "def create_dataset(X, y, time_steps=1):\n",
    "    Xs, ys = [], []\n",
    "    for i in range(len(X) - time_steps):\n",
    "        Xs.append(X[i:(i + time_steps)])\n",
    "        ys.append(y[i + time_steps])\n",
    "    return np.array(Xs), np.array(ys)\n",
    "\n",
    "# Создание датасета\n",
    "time_steps = 60\n",
    "X, y = create_dataset(scaled_data, df['Target'].values, time_steps)\n",
    "X_train, X_test, y_train, y_test = train_test_split(X, y, test_size=0.2, random_state=0)\n",
    "\n",
    "# Расчет весов классов\n",
    "weights = class_weight.compute_class_weight('balanced', np.unique(y_train), y_train)\n",
    "class_weights = {i: weights[i] for i in range(2)}\n",
    "\n",
    "# Создание модели\n",
    "model = Sequential()\n",
    "model.add(Bidirectional(GRU(50, return_sequences=True, input_shape=(X_train.shape[1], X_train.shape[2]))))\n",
    "model.add(Dropout(0.2))\n",
    "model.add(Bidirectional(GRU(50)))\n",
    "model.add(Dropout(0.2))\n",
    "model.add(Dense(1, activation='sigmoid'))\n",
    "\n",
    "model.compile(optimizer=Adam(learning_rate=0.001), loss='binary_crossentropy', metrics=['accuracy'])\n",
    "\n",
    "# Обучение модели\n",
    "callbacks = [EarlyStopping(monitor='val_loss', patience=10),\n",
    "             ReduceLROnPlateau(monitor='val_loss', factor=0.2, patience=5, min_lr=0.00001)]\n",
    "\n",
    "history = model.fit(X_train, y_train, epochs=100, batch_size=32, \n",
    "                    validation_data=(X_test, y_test), \n",
    "                    class_weight=class_weights, callbacks=callbacks)\n"
   ],
   "metadata": {
    "collapsed": false,
    "ExecuteTime": {
     "end_time": "2024-01-15T19:49:47.763856Z",
     "start_time": "2024-01-15T19:49:47.148231400Z"
    }
   },
   "id": "3e9ad35ed0ca2929",
   "execution_count": 20
  },
  {
   "cell_type": "code",
   "outputs": [],
   "source": [
    "test_direction_accuracy"
   ],
   "metadata": {
    "collapsed": false,
    "ExecuteTime": {
     "start_time": "2024-01-15T19:49:47.767856100Z"
    }
   },
   "id": "5a0779023fc17c1",
   "execution_count": null
  },
  {
   "cell_type": "code",
   "outputs": [],
   "source": [
    "last_sequence = x_test[-1:]\n",
    "future_predictions = []\n",
    "\n",
    "for _ in range(10):\n",
    "    current_pred = model.predict(last_sequence)\n",
    "    future_predictions.append(current_pred[0, 0])\n",
    "\n",
    "    new_sequence = np.roll(last_sequence, -1, axis=1)\n",
    "    new_sequence[0, -1, :] = np.zeros(last_sequence.shape[2])\n",
    "    new_sequence[0, -1, 0] = current_pred[0, 0]  \n",
    "\n",
    "    last_sequence = new_sequence\n",
    "\n",
    "future_prices = scaler_price.inverse_transform(np.array(future_predictions).reshape(-1, 1))\n",
    "\n",
    "for i, price in enumerate(future_prices):\n",
    "    print(f\"Day {i + 1}: Predicted Price - {price[0]}\")"
   ],
   "metadata": {
    "collapsed": false,
    "ExecuteTime": {
     "start_time": "2024-01-15T19:49:47.770857600Z"
    }
   },
   "id": "a2055fe221c81f2f",
   "execution_count": null
  },
  {
   "cell_type": "code",
   "outputs": [],
   "source": [
    "df['SMA_50'] = df['Close'].rolling(window=50).mean()\n",
    "df['SMA_50'] = df['SMA_50'].fillna(method='bfill').fillna(method='ffill')\n",
    "\n",
    "df['SMA_200'] = df['Close'].rolling(window=200).mean()\n",
    "df['SMA_200'] = df['SMA_200'].fillna(method='bfill').fillna(method='ffill')"
   ],
   "metadata": {
    "collapsed": false,
    "ExecuteTime": {
     "start_time": "2024-01-15T19:49:47.773857300Z"
    }
   },
   "id": "7ba83752e785f073",
   "execution_count": null
  },
  {
   "cell_type": "code",
   "outputs": [],
   "source": [
    "# import plotly.graph_objs as go\n",
    "# from plotly.offline import plot\n",
    "# import matplotlib.pyplot as plt\n",
    "# \n",
    "# \n",
    "# real_data = go.Scatter(\n",
    "#     x=df.index, \n",
    "#     y=df['Close'], \n",
    "#     mode='lines',\n",
    "#     name='Real Data'\n",
    "# )\n",
    "# \n",
    "# predicted_data = go.Scatter(\n",
    "#     x=df.index, \n",
    "#     y=predicted_prices, \n",
    "#     mode='lines',\n",
    "#     name='Predicted Data'\n",
    "# )\n",
    "# \n",
    "# SMA_50 = go.Scatter(\n",
    "#     x=df.index, \n",
    "#     y=df['SMA_50'], \n",
    "#     mode='lines',\n",
    "#     name='50-period SMA',\n",
    "#     line=dict(color='orange')\n",
    "# )\n",
    "# \n",
    "# SMA_200 = go.Scatter(\n",
    "#     x=df.index, \n",
    "#     y=df['SMA_200'], \n",
    "#     mode='lines',\n",
    "#     name='200-period SMA',\n",
    "#     line=dict(color='green')\n",
    "# )\n",
    "# \n",
    "# signal_line = go.Scatter(\n",
    "#     x=df.index, \n",
    "#     y=df['Signal_Line'], \n",
    "#     mode='lines',\n",
    "#     name='Signal_Line',\n",
    "#     line=dict(color='#ee2122')\n",
    "# )\n",
    "# \n",
    "# MACD_histogram = go.Scatter(\n",
    "#     x=df.index, \n",
    "#     y=df['MACD_Histogram'], \n",
    "#     mode='lines',\n",
    "#     name='MACD_Histogram',\n",
    "#     line=dict(color='#f123e1')\n",
    "# )\n",
    "# \n",
    "# MACD = go.Scatter(\n",
    "#     x=df.index, \n",
    "#     y=df['MACD'], \n",
    "#     mode='lines',\n",
    "#     name='MACD',\n",
    "#     line=dict(color='#11bbbb')\n",
    "# )\n",
    "# \n",
    "# RSI = go.Scatter(\n",
    "#     x=df.index, \n",
    "#     y=df['RSI'], \n",
    "#     mode='lines',\n",
    "#     name='RSI',\n",
    "#     line=dict(color='#bb12bb')\n",
    "# )\n",
    "# \n",
    "# fig = go.Figure()\n",
    "# \n",
    "# fig.add_trace(real_data)\n",
    "# fig.add_trace(predicted_data)\n",
    "# fig.add_trace(SMA_50)\n",
    "# fig.add_trace(SMA_200)\n",
    "# fig.add_trace(signal_line)\n",
    "# fig.add_trace(MACD_histogram)\n",
    "# fig.add_trace(MACD)\n",
    "# fig.add_trace(RSI)\n",
    "# \n",
    "# fig.update_layout(\n",
    "#     title='BTC Real/Predicted with Moving Averages',\n",
    "#     xaxis_title='Time Periods',\n",
    "#     yaxis_title='Values',\n",
    "#     hovermode='x'\n",
    "# )\n",
    "# \n",
    "# plot(fig, filename='interactive_graph.html')\n"
   ],
   "metadata": {
    "collapsed": false,
    "ExecuteTime": {
     "start_time": "2024-01-15T19:49:47.776856Z"
    }
   },
   "id": "3bbf42b567e32738",
   "execution_count": null
  },
  {
   "cell_type": "code",
   "outputs": [],
   "source": [
    "import pandas as pd\n",
    "import matplotlib.pyplot as plt\n",
    "\n",
    "# Определение SMA\n",
    "df['SMA_50'] = df['Close'].rolling(window=50).mean().bfill().ffill()\n",
    "df['SMA_200'] = df['Close'].rolling(window=200).mean().bfill().ffill()\n",
    "\n",
    "# Расчет индекса для предсказанных цен\n",
    "start_point = training_data_len + sequence_length\n",
    "end_point = start_point + len(predicted_prices)\n",
    "predicted_index = df.index[start_point:end_point]\n",
    "\n",
    "# Создание DataFrame для предсказанных цен\n",
    "# Предполагаем, что predicted_prices - это массив numpy, полученный после обратного масштабирования\n",
    "predicted_df = pd.DataFrame(predicted_prices, index=predicted_index, columns=['Predicted'])\n",
    "\n",
    "# Визуализация\n",
    "plt.figure(figsize=(14, 7))\n",
    "plt.plot(df['Close'], label='Real Data')\n",
    "plt.plot(predicted_df['Predicted'], label='Predicted Data')\n",
    "\n",
    "# Ваши линии для SMA, если вы хотите их добавить\n",
    "# plt.plot(df['SMA_50'], label='50-period SMA', color='orange') \n",
    "# plt.plot(df['SMA_200'], label='200-period SMA', color='green')\n",
    "\n",
    "# Настройки графика\n",
    "plt.title('BTC Real/Predicted with Moving Averages')\n",
    "plt.xlabel('Time Periods')\n",
    "plt.ylabel('Values')\n",
    "plt.legend()\n",
    "\n",
    "# Отображение графика\n",
    "plt.show()\n"
   ],
   "metadata": {
    "collapsed": false,
    "ExecuteTime": {
     "start_time": "2024-01-15T19:49:47.779856200Z"
    }
   },
   "id": "43b773578af09ce4",
   "execution_count": null
  },
  {
   "cell_type": "code",
   "outputs": [],
   "source": [
    "import plotly.graph_objs as go\n",
    "from plotly.offline import plot\n",
    "import matplotlib.pyplot as plt\n",
    "\n",
    "predicted_index = df.index[start_point:end_point]\n",
    "predicted_prices_series = pd.Series(predicted_prices.flatten(), index=predicted_index)\n",
    "\n",
    "df['SMA_50'] = df['Close'].rolling(window=50).mean()\n",
    "df['SMA_50'] = df['SMA_50'].fillna(method='bfill').fillna(method='ffill')\n",
    "\n",
    "df['SMA_200'] = df['Close'].rolling(window=200).mean()\n",
    "df['SMA_200'] = df['SMA_200'].fillna(method='bfill').fillna(method='ffill')\n",
    "\n",
    "real_data = go.Scatter(\n",
    "    x=df.index,\n",
    "    y=df['Close'],\n",
    "    mode='lines',\n",
    "    name='Real Data'\n",
    ")\n",
    "\n",
    "predicted_data = go.Scatter(\n",
    "    x=predicted_index,\n",
    "    y=predicted_prices_series,\n",
    "    mode='lines',\n",
    "    name='Predicted Data'\n",
    ")\n",
    "\n",
    "SMA_50 = go.Scatter(\n",
    "    x=df.index,\n",
    "    y=df['SMA_50'],\n",
    "    mode='lines',\n",
    "    name='50-period SMA',\n",
    "    line=dict(color='orange')\n",
    ")\n",
    "\n",
    "SMA_200 = go.Scatter(\n",
    "    x=df.index,\n",
    "    y=df['SMA_200'],\n",
    "    mode='lines',\n",
    "    name='200-period SMA',\n",
    "    line=dict(color='green')\n",
    ")\n",
    "\n",
    "signal_line = go.Scatter(\n",
    "    x=df.index,\n",
    "    y=df['Signal_Line'],\n",
    "    mode='lines',\n",
    "    name='Signal_Line',\n",
    "    line=dict(color='#ee2122')\n",
    ")\n",
    "\n",
    "MACD_histogram = go.Scatter(\n",
    "    x=df.index,\n",
    "    y=df['MACD_Histogram'],\n",
    "    mode='lines',\n",
    "    name='MACD_Histogram',\n",
    "    line=dict(color='#f123e1')\n",
    ")\n",
    "\n",
    "MACD = go.Scatter(\n",
    "    x=df.index,\n",
    "    y=df['MACD'],\n",
    "    mode='lines',\n",
    "    name='MACD',\n",
    "    line=dict(color='#11bbbb')\n",
    ")\n",
    "\n",
    "RSI = go.Scatter(\n",
    "    x=df.index,\n",
    "    y=df['RSI'],\n",
    "    mode='lines',\n",
    "    name='RSI',\n",
    "    line=dict(color='#bb12bb')\n",
    ")\n",
    "\n",
    "fig = go.Figure()\n",
    "\n",
    "fig.add_trace(real_data)\n",
    "fig.add_trace(predicted_data)\n",
    "fig.add_trace(SMA_50)\n",
    "fig.add_trace(SMA_200)\n",
    "fig.add_trace(signal_line)\n",
    "fig.add_trace(MACD_histogram)\n",
    "fig.add_trace(MACD)\n",
    "fig.add_trace(RSI)\n",
    "\n",
    "fig.update_layout(\n",
    "    title='BTC Real/Predicted with Moving Averages',\n",
    "    xaxis_title='Time Periods',\n",
    "    yaxis_title='Values',\n",
    "    hovermode='x'\n",
    ")\n",
    "\n",
    "plot(fig, filename='interactive_graph.html')\n"
   ],
   "metadata": {
    "collapsed": false,
    "ExecuteTime": {
     "start_time": "2024-01-15T19:49:47.781856Z"
    }
   },
   "id": "56c2e11e2e55b390",
   "execution_count": null
  },
  {
   "cell_type": "code",
   "outputs": [],
   "source": [
    "# # Предполагаем, что df_scaled - это ваш масштабированный DataFrame\n",
    "# features_importance = {}\n",
    "# original_features = features_columns.copy()\n",
    "# \n",
    "# for feature in original_features:\n",
    "#     # Удалить признак из набора данных\n",
    "#     temp_features = original_features.copy()\n",
    "#     temp_features.remove(feature)\n",
    "#     temp_df_scaled = df_scaled[temp_features]\n",
    "# \n",
    "#     # Подготовить новые наборы данных\n",
    "#     x_train_temp, y_train_temp = create_dataset(temp_df_scaled[:training_data_len], sequence_length)\n",
    "#     x_test_temp, y_test_temp = create_dataset(temp_df_scaled[training_data_len:], sequence_length)\n",
    "# \n",
    "#     # Обучить модель\n",
    "#     temp_model = build_model(sequence_length, len(temp_features))  # функция build_model должна быть определена\n",
    "#     temp_model.fit(x_train_temp, y_train_temp, epochs=100, batch_size=32, validation_data=(x_test_temp, y_test_temp), callbacks=[early_stopping, model_checkpoint])\n",
    "# \n",
    "#     # Оценить производительность\n",
    "#     predictions_temp = temp_model.predict(x_test_temp)\n",
    "#     mse_temp = mean_squared_error(y_test_temp, predictions_temp)\n",
    "# \n",
    "#     # Сохранить изменение производительности\n",
    "#     features_importance[feature] = baseline_mse - mse_temp\n",
    "# \n",
    "# # Отобразить изменение производительности\n",
    "# plt.barh(range(len(features_importance)), list(features_importance.values()), align='center')\n",
    "# plt.yticks(range(len(features_importance)), list(features_importance.keys()))\n",
    "# plt.xlabel('Изменение MSE')\n",
    "# plt.title('Изменение производительности после удаления признака')\n",
    "# plt.show()\n"
   ],
   "metadata": {
    "collapsed": false,
    "ExecuteTime": {
     "start_time": "2024-01-15T19:49:47.783856600Z"
    }
   },
   "id": "918773a5df22dd7",
   "execution_count": null
  }
 ],
 "metadata": {
  "kernelspec": {
   "display_name": "Python 3",
   "language": "python",
   "name": "python3"
  },
  "language_info": {
   "codemirror_mode": {
    "name": "ipython",
    "version": 2
   },
   "file_extension": ".py",
   "mimetype": "text/x-python",
   "name": "python",
   "nbconvert_exporter": "python",
   "pygments_lexer": "ipython2",
   "version": "2.7.6"
  }
 },
 "nbformat": 4,
 "nbformat_minor": 5
}
