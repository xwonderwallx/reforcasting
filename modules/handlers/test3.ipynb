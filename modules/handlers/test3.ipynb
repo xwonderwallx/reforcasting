{
 "cells": [
  {
   "cell_type": "code",
   "execution_count": 1,
   "id": "initial_id",
   "metadata": {
    "collapsed": true,
    "ExecuteTime": {
     "end_time": "2024-01-09T20:16:14.109966200Z",
     "start_time": "2024-01-09T20:15:20.026701800Z"
    }
   },
   "outputs": [
    {
     "name": "stdout",
     "output_type": "stream",
     "text": [
      "WARNING:tensorflow:From C:\\Users\\ACER\\AppData\\Local\\Packages\\PythonSoftwareFoundation.Python.3.11_qbz5n2kfra8p0\\LocalCache\\local-packages\\Python311\\site-packages\\keras\\src\\losses.py:2976: The name tf.losses.sparse_softmax_cross_entropy is deprecated. Please use tf.compat.v1.losses.sparse_softmax_cross_entropy instead.\n",
      "WARNING:tensorflow:From E:\\SystemWin\\TEMP\\ipykernel_10100\\741041630.py:6: The name tf.logging.set_verbosity is deprecated. Please use tf.compat.v1.logging.set_verbosity instead.\n"
     ]
    }
   ],
   "source": [
    "from modules.handlers.BinanceHandler import BinanceHandler\n",
    "import pandas as pd\n",
    "from tensorflow.keras.callbacks import TensorBoard\n",
    "import time\n",
    "import tensorflow as tf\n",
    "tf.compat.v1.logging.set_verbosity(tf.compat.v1.logging.ERROR)\n",
    "from sklearn.preprocessing import MinMaxScaler\n",
    "import numpy as np"
   ]
  },
  {
   "cell_type": "code",
   "outputs": [],
   "source": [
    "log_dir = \"logs/fit/\" + time.strftime(\"%Y%m%d-%H%M%S\")\n",
    "tensorboard_callback = TensorBoard(log_dir=log_dir, histogram_freq=1)"
   ],
   "metadata": {
    "collapsed": false,
    "ExecuteTime": {
     "end_time": "2024-01-09T20:16:14.126314900Z",
     "start_time": "2024-01-09T20:16:14.109966200Z"
    }
   },
   "id": "ed44cda29e54647e",
   "execution_count": 2
  },
  {
   "cell_type": "code",
   "outputs": [
    {
     "data": {
      "text/plain": "          Timestamp      Open      High       Low     Close        Volume\n0     1502928000000   4261.48   4485.39   4200.74   4285.08    795.150377\n1     1503014400000   4285.08   4371.52   3938.77   4108.37   1199.888264\n2     1503100800000   4108.37   4184.69   3850.00   4139.98    381.309763\n3     1503187200000   4120.98   4211.08   4032.62   4086.29    467.083022\n4     1503273600000   4069.13   4119.62   3911.79   4016.00    691.743060\n...             ...       ...       ...       ...       ...           ...\n2332  1704412800000  44151.10  44357.46  42450.00  44145.11  48075.253270\n2333  1704499200000  44145.12  44214.42  43397.05  43968.32  17835.061440\n2334  1704585600000  43968.32  44480.59  43572.09  43929.02  23023.850800\n2335  1704672000000  43929.01  47248.99  43175.00  46951.04  72814.575890\n2336  1704758400000  46951.04  47150.00  45450.00  46750.36  44424.283470\n\n[2337 rows x 6 columns]",
      "text/html": "<div>\n<style scoped>\n    .dataframe tbody tr th:only-of-type {\n        vertical-align: middle;\n    }\n\n    .dataframe tbody tr th {\n        vertical-align: top;\n    }\n\n    .dataframe thead th {\n        text-align: right;\n    }\n</style>\n<table border=\"1\" class=\"dataframe\">\n  <thead>\n    <tr style=\"text-align: right;\">\n      <th></th>\n      <th>Timestamp</th>\n      <th>Open</th>\n      <th>High</th>\n      <th>Low</th>\n      <th>Close</th>\n      <th>Volume</th>\n    </tr>\n  </thead>\n  <tbody>\n    <tr>\n      <th>0</th>\n      <td>1502928000000</td>\n      <td>4261.48</td>\n      <td>4485.39</td>\n      <td>4200.74</td>\n      <td>4285.08</td>\n      <td>795.150377</td>\n    </tr>\n    <tr>\n      <th>1</th>\n      <td>1503014400000</td>\n      <td>4285.08</td>\n      <td>4371.52</td>\n      <td>3938.77</td>\n      <td>4108.37</td>\n      <td>1199.888264</td>\n    </tr>\n    <tr>\n      <th>2</th>\n      <td>1503100800000</td>\n      <td>4108.37</td>\n      <td>4184.69</td>\n      <td>3850.00</td>\n      <td>4139.98</td>\n      <td>381.309763</td>\n    </tr>\n    <tr>\n      <th>3</th>\n      <td>1503187200000</td>\n      <td>4120.98</td>\n      <td>4211.08</td>\n      <td>4032.62</td>\n      <td>4086.29</td>\n      <td>467.083022</td>\n    </tr>\n    <tr>\n      <th>4</th>\n      <td>1503273600000</td>\n      <td>4069.13</td>\n      <td>4119.62</td>\n      <td>3911.79</td>\n      <td>4016.00</td>\n      <td>691.743060</td>\n    </tr>\n    <tr>\n      <th>...</th>\n      <td>...</td>\n      <td>...</td>\n      <td>...</td>\n      <td>...</td>\n      <td>...</td>\n      <td>...</td>\n    </tr>\n    <tr>\n      <th>2332</th>\n      <td>1704412800000</td>\n      <td>44151.10</td>\n      <td>44357.46</td>\n      <td>42450.00</td>\n      <td>44145.11</td>\n      <td>48075.253270</td>\n    </tr>\n    <tr>\n      <th>2333</th>\n      <td>1704499200000</td>\n      <td>44145.12</td>\n      <td>44214.42</td>\n      <td>43397.05</td>\n      <td>43968.32</td>\n      <td>17835.061440</td>\n    </tr>\n    <tr>\n      <th>2334</th>\n      <td>1704585600000</td>\n      <td>43968.32</td>\n      <td>44480.59</td>\n      <td>43572.09</td>\n      <td>43929.02</td>\n      <td>23023.850800</td>\n    </tr>\n    <tr>\n      <th>2335</th>\n      <td>1704672000000</td>\n      <td>43929.01</td>\n      <td>47248.99</td>\n      <td>43175.00</td>\n      <td>46951.04</td>\n      <td>72814.575890</td>\n    </tr>\n    <tr>\n      <th>2336</th>\n      <td>1704758400000</td>\n      <td>46951.04</td>\n      <td>47150.00</td>\n      <td>45450.00</td>\n      <td>46750.36</td>\n      <td>44424.283470</td>\n    </tr>\n  </tbody>\n</table>\n<p>2337 rows × 6 columns</p>\n</div>"
     },
     "execution_count": 3,
     "metadata": {},
     "output_type": "execute_result"
    }
   ],
   "source": [
    "file_path = 'btc_data.csv'\n",
    "params = {\n",
    "    'symbol': 'BTCUSDT',\n",
    "    'timeframe': '1d',\n",
    "    'file_name': file_path\n",
    "}\n",
    "data_handler = BinanceHandler(params)\n",
    "data_handler.handle()\n",
    "crypto_data = pd.read_csv(file_path)\n",
    "crypto_data"
   ],
   "metadata": {
    "collapsed": false,
    "ExecuteTime": {
     "end_time": "2024-01-09T20:16:26.335302900Z",
     "start_time": "2024-01-09T20:16:14.144311200Z"
    }
   },
   "id": "949a3cac37d139a0",
   "execution_count": 3
  },
  {
   "cell_type": "code",
   "outputs": [
    {
     "data": {
      "text/plain": "      Actual_Close  Target       Date\n0          4285.08     NaN 2017-08-17\n1          4108.37     0.0 2017-08-18\n2          4139.98     1.0 2017-08-19\n3          4086.29     0.0 2017-08-20\n4          4016.00     0.0 2017-08-21\n...            ...     ...        ...\n2332      44145.11     0.0 2024-01-05\n2333      43968.32     0.0 2024-01-06\n2334      43929.02     0.0 2024-01-07\n2335      46951.04     1.0 2024-01-08\n2336      46750.36     0.0 2024-01-09\n\n[2337 rows x 3 columns]",
      "text/html": "<div>\n<style scoped>\n    .dataframe tbody tr th:only-of-type {\n        vertical-align: middle;\n    }\n\n    .dataframe tbody tr th {\n        vertical-align: top;\n    }\n\n    .dataframe thead th {\n        text-align: right;\n    }\n</style>\n<table border=\"1\" class=\"dataframe\">\n  <thead>\n    <tr style=\"text-align: right;\">\n      <th></th>\n      <th>Actual_Close</th>\n      <th>Target</th>\n      <th>Date</th>\n    </tr>\n  </thead>\n  <tbody>\n    <tr>\n      <th>0</th>\n      <td>4285.08</td>\n      <td>NaN</td>\n      <td>2017-08-17</td>\n    </tr>\n    <tr>\n      <th>1</th>\n      <td>4108.37</td>\n      <td>0.0</td>\n      <td>2017-08-18</td>\n    </tr>\n    <tr>\n      <th>2</th>\n      <td>4139.98</td>\n      <td>1.0</td>\n      <td>2017-08-19</td>\n    </tr>\n    <tr>\n      <th>3</th>\n      <td>4086.29</td>\n      <td>0.0</td>\n      <td>2017-08-20</td>\n    </tr>\n    <tr>\n      <th>4</th>\n      <td>4016.00</td>\n      <td>0.0</td>\n      <td>2017-08-21</td>\n    </tr>\n    <tr>\n      <th>...</th>\n      <td>...</td>\n      <td>...</td>\n      <td>...</td>\n    </tr>\n    <tr>\n      <th>2332</th>\n      <td>44145.11</td>\n      <td>0.0</td>\n      <td>2024-01-05</td>\n    </tr>\n    <tr>\n      <th>2333</th>\n      <td>43968.32</td>\n      <td>0.0</td>\n      <td>2024-01-06</td>\n    </tr>\n    <tr>\n      <th>2334</th>\n      <td>43929.02</td>\n      <td>0.0</td>\n      <td>2024-01-07</td>\n    </tr>\n    <tr>\n      <th>2335</th>\n      <td>46951.04</td>\n      <td>1.0</td>\n      <td>2024-01-08</td>\n    </tr>\n    <tr>\n      <th>2336</th>\n      <td>46750.36</td>\n      <td>0.0</td>\n      <td>2024-01-09</td>\n    </tr>\n  </tbody>\n</table>\n<p>2337 rows × 3 columns</p>\n</div>"
     },
     "execution_count": 4,
     "metadata": {},
     "output_type": "execute_result"
    },
    {
     "data": {
      "text/plain": "<Figure size 1000x1000 with 1 Axes>",
      "image/png": "[encoded data removed]"
     },
     "metadata": {},
     "output_type": "display_data"
    }
   ],
   "source": [
    "df = pd.DataFrame(crypto_data)\n",
    "df.rename(columns={'Timestamp': 'Date'}, inplace=True)\n",
    "df['Date'] = pd.to_datetime(df['Date'] / 1000, unit='s')\n",
    "\n",
    "df.plot.line(y='Close', x='Date', figsize=(10, 10))\n",
    "\n",
    "data = df[['Close']]\n",
    "data = data.rename(columns={'Close': 'Actual_Close'})\n",
    "data['Target'] = df['Close'].rolling(2).apply(lambda x: x.iloc[1] > x.iloc[0])\n",
    "data['Date'] = df['Date']\n",
    "data"
   ],
   "metadata": {
    "collapsed": false,
    "ExecuteTime": {
     "end_time": "2024-01-09T20:16:29.786112400Z",
     "start_time": "2024-01-09T20:16:26.358275700Z"
    }
   },
   "id": "210fe90ad3038e3c",
   "execution_count": 4
  },
  {
   "cell_type": "code",
   "outputs": [
    {
     "name": "stdout",
     "output_type": "stream",
     "text": [
      "        Date     Open     High      Low    Close       Volume\n",
      "0 2017-08-17  4261.48  4485.39  4200.74  4285.08   795.150377\n",
      "1 2017-08-18  4285.08  4371.52  3938.77  4108.37  1199.888264\n",
      "2 2017-08-19  4108.37  4184.69  3850.00  4139.98   381.309763\n",
      "3 2017-08-20  4120.98  4211.08  4032.62  4086.29   467.083022\n",
      "4 2017-08-21  4069.13  4119.62  3911.79  4016.00   691.743060\n",
      "(2337, 6)\n",
      "Index(['Date', 'Open', 'High', 'Low', 'Close', 'Volume'], dtype='object')\n"
     ]
    }
   ],
   "source": [
    "print(df.head())\n",
    "print(df.shape)\n",
    "print(df.columns)"
   ],
   "metadata": {
    "collapsed": false,
    "ExecuteTime": {
     "end_time": "2024-01-09T20:16:29.819357800Z",
     "start_time": "2024-01-09T20:16:29.783111Z"
    }
   },
   "id": "b93efefd74ad2155",
   "execution_count": 5
  },
  {
   "cell_type": "code",
   "outputs": [],
   "source": [
    "def calculate_rsi(data, window):\n",
    "    delta = data.diff()\n",
    "    gain = ((delta.where(delta > 0, 0)).rolling(window=window).mean())\n",
    "    loss = ((-delta.where(delta < 0, 0)).rolling(window=window).mean())\n",
    "    RS = gain / loss\n",
    "    return 100 - (100 / (1 + RS))"
   ],
   "metadata": {
    "collapsed": false,
    "ExecuteTime": {
     "end_time": "2024-01-09T20:16:30.096289Z",
     "start_time": "2024-01-09T20:16:29.806736700Z"
    }
   },
   "id": "c8c92de321913372",
   "execution_count": 6
  },
  {
   "cell_type": "code",
   "outputs": [
    {
     "data": {
      "text/plain": "           Date      Open      High       Low     Close        Volume  \\\n0    2017-08-17   4261.48   4485.39   4200.74   4285.08    795.150377   \n1    2017-08-18   4285.08   4371.52   3938.77   4108.37   1199.888264   \n2    2017-08-19   4108.37   4184.69   3850.00   4139.98    381.309763   \n3    2017-08-20   4120.98   4211.08   4032.62   4086.29    467.083022   \n4    2017-08-21   4069.13   4119.62   3911.79   4016.00    691.743060   \n...         ...       ...       ...       ...       ...           ...   \n2332 2024-01-05  44151.10  44357.46  42450.00  44145.11  48075.253270   \n2333 2024-01-06  44145.12  44214.42  43397.05  43968.32  17835.061440   \n2334 2024-01-07  43968.32  44480.59  43572.09  43929.02  23023.850800   \n2335 2024-01-08  43929.01  47248.99  43175.00  46951.04  72814.575890   \n2336 2024-01-09  46951.04  47150.00  45450.00  46750.36  44424.283470   \n\n            RSI         MACD  Signal_Line  MACD_Histogram  \n0           NaN     0.000000     0.000000        0.000000  \n1           NaN   -14.096524    -2.819305      -11.277219  \n2           NaN   -22.458570    -6.747158      -15.711412  \n3           NaN   -33.037055   -12.005137      -21.031918  \n4           NaN   -46.555731   -18.915256      -27.640475  \n...         ...          ...          ...             ...  \n2332  50.785698   686.513879   723.469885      -36.956005  \n2333  51.197344   678.349988   714.445905      -36.095917  \n2334  54.488645   661.088250   703.774374      -42.686124  \n2335  63.100718   881.103147   739.240129      141.863018  \n2336  67.651869  1027.429769   796.878057      230.551712  \n\n[2337 rows x 10 columns]",
      "text/html": "<div>\n<style scoped>\n    .dataframe tbody tr th:only-of-type {\n        vertical-align: middle;\n    }\n\n    .dataframe tbody tr th {\n        vertical-align: top;\n    }\n\n    .dataframe thead th {\n        text-align: right;\n    }\n</style>\n<table border=\"1\" class=\"dataframe\">\n  <thead>\n    <tr style=\"text-align: right;\">\n      <th></th>\n      <th>Date</th>\n      <th>Open</th>\n      <th>High</th>\n      <th>Low</th>\n      <th>Close</th>\n      <th>Volume</th>\n      <th>RSI</th>\n      <th>MACD</th>\n      <th>Signal_Line</th>\n      <th>MACD_Histogram</th>\n    </tr>\n  </thead>\n  <tbody>\n    <tr>\n      <th>0</th>\n      <td>2017-08-17</td>\n      <td>4261.48</td>\n      <td>4485.39</td>\n      <td>4200.74</td>\n      <td>4285.08</td>\n      <td>795.150377</td>\n      <td>NaN</td>\n      <td>0.000000</td>\n      <td>0.000000</td>\n      <td>0.000000</td>\n    </tr>\n    <tr>\n      <th>1</th>\n      <td>2017-08-18</td>\n      <td>4285.08</td>\n      <td>4371.52</td>\n      <td>3938.77</td>\n      <td>4108.37</td>\n      <td>1199.888264</td>\n      <td>NaN</td>\n      <td>-14.096524</td>\n      <td>-2.819305</td>\n      <td>-11.277219</td>\n    </tr>\n    <tr>\n      <th>2</th>\n      <td>2017-08-19</td>\n      <td>4108.37</td>\n      <td>4184.69</td>\n      <td>3850.00</td>\n      <td>4139.98</td>\n      <td>381.309763</td>\n      <td>NaN</td>\n      <td>-22.458570</td>\n      <td>-6.747158</td>\n      <td>-15.711412</td>\n    </tr>\n    <tr>\n      <th>3</th>\n      <td>2017-08-20</td>\n      <td>4120.98</td>\n      <td>4211.08</td>\n      <td>4032.62</td>\n      <td>4086.29</td>\n      <td>467.083022</td>\n      <td>NaN</td>\n      <td>-33.037055</td>\n      <td>-12.005137</td>\n      <td>-21.031918</td>\n    </tr>\n    <tr>\n      <th>4</th>\n      <td>2017-08-21</td>\n      <td>4069.13</td>\n      <td>4119.62</td>\n      <td>3911.79</td>\n      <td>4016.00</td>\n      <td>691.743060</td>\n      <td>NaN</td>\n      <td>-46.555731</td>\n      <td>-18.915256</td>\n      <td>-27.640475</td>\n    </tr>\n    <tr>\n      <th>...</th>\n      <td>...</td>\n      <td>...</td>\n      <td>...</td>\n      <td>...</td>\n      <td>...</td>\n      <td>...</td>\n      <td>...</td>\n      <td>...</td>\n      <td>...</td>\n      <td>...</td>\n    </tr>\n    <tr>\n      <th>2332</th>\n      <td>2024-01-05</td>\n      <td>44151.10</td>\n      <td>44357.46</td>\n      <td>42450.00</td>\n      <td>44145.11</td>\n      <td>48075.253270</td>\n      <td>50.785698</td>\n      <td>686.513879</td>\n      <td>723.469885</td>\n      <td>-36.956005</td>\n    </tr>\n    <tr>\n      <th>2333</th>\n      <td>2024-01-06</td>\n      <td>44145.12</td>\n      <td>44214.42</td>\n      <td>43397.05</td>\n      <td>43968.32</td>\n      <td>17835.061440</td>\n      <td>51.197344</td>\n      <td>678.349988</td>\n      <td>714.445905</td>\n      <td>-36.095917</td>\n    </tr>\n    <tr>\n      <th>2334</th>\n      <td>2024-01-07</td>\n      <td>43968.32</td>\n      <td>44480.59</td>\n      <td>43572.09</td>\n      <td>43929.02</td>\n      <td>23023.850800</td>\n      <td>54.488645</td>\n      <td>661.088250</td>\n      <td>703.774374</td>\n      <td>-42.686124</td>\n    </tr>\n    <tr>\n      <th>2335</th>\n      <td>2024-01-08</td>\n      <td>43929.01</td>\n      <td>47248.99</td>\n      <td>43175.00</td>\n      <td>46951.04</td>\n      <td>72814.575890</td>\n      <td>63.100718</td>\n      <td>881.103147</td>\n      <td>739.240129</td>\n      <td>141.863018</td>\n    </tr>\n    <tr>\n      <th>2336</th>\n      <td>2024-01-09</td>\n      <td>46951.04</td>\n      <td>47150.00</td>\n      <td>45450.00</td>\n      <td>46750.36</td>\n      <td>44424.283470</td>\n      <td>67.651869</td>\n      <td>1027.429769</td>\n      <td>796.878057</td>\n      <td>230.551712</td>\n    </tr>\n  </tbody>\n</table>\n<p>2337 rows × 10 columns</p>\n</div>"
     },
     "execution_count": 7,
     "metadata": {},
     "output_type": "execute_result"
    }
   ],
   "source": [
    "df['RSI'] = calculate_rsi(df['Close'], 14)\n",
    "ema_12 = df['Close'].ewm(span=12, adjust=False).mean()\n",
    "ema_26 = df['Close'].ewm(span=26, adjust=False).mean()\n",
    "df['MACD'] = ema_12 - ema_26\n",
    "df['Signal_Line'] = df['MACD'].ewm(span=9, adjust=False).mean()\n",
    "df['MACD_Histogram'] = df['MACD'] - df['Signal_Line']\n",
    "df"
   ],
   "metadata": {
    "collapsed": false,
    "ExecuteTime": {
     "end_time": "2024-01-09T20:16:30.167295200Z",
     "start_time": "2024-01-09T20:16:29.824356800Z"
    }
   },
   "id": "39e827fd60a55252",
   "execution_count": 7
  },
  {
   "cell_type": "code",
   "outputs": [],
   "source": [
    "def create_dataset(df, sequence_length):\n",
    "    x, y = [], []\n",
    "    for i in range(sequence_length, len(df)):\n",
    "        x.append(df[i - sequence_length:i])\n",
    "        y.append(df.iloc[i]['Close'])\n",
    "    return np.array(x), np.array(y)"
   ],
   "metadata": {
    "collapsed": false,
    "ExecuteTime": {
     "end_time": "2024-01-09T20:16:30.192291200Z",
     "start_time": "2024-01-09T20:16:29.870913700Z"
    }
   },
   "id": "aa35ad58da0b08a5",
   "execution_count": 8
  },
  {
   "cell_type": "code",
   "outputs": [
    {
     "name": "stdout",
     "output_type": "stream",
     "text": [
      "         Close    Volume       RSI      MACD  Signal_Line  MACD_Histogram\n",
      "0     0.021234  0.000672  0.611377  0.496451     0.496744        0.585124\n",
      "1     0.023872  0.000341  0.665787  0.499024     0.498376        0.589072\n",
      "2     0.025582  0.000346  0.806929  0.501804     0.500324        0.592797\n",
      "3     0.019944  0.000831  0.594265  0.501062     0.501711        0.586179\n",
      "4     0.020518  0.000518  0.628031  0.500657     0.502726        0.581804\n",
      "...        ...       ...       ...       ...          ...             ...\n",
      "2319  0.636589  0.062832  0.485040  0.558040     0.577184        0.557625\n",
      "2320  0.633841  0.023063  0.489398  0.557249     0.576174        0.557909\n",
      "2321  0.633230  0.029887  0.524243  0.555577     0.574981        0.555735\n",
      "2322  0.680202  0.095366  0.615418  0.576893     0.578948        0.616629\n",
      "2323  0.677083  0.058030  0.663601  0.591070     0.585396        0.645893\n",
      "\n",
      "[2324 rows x 6 columns]\n"
     ]
    }
   ],
   "source": [
    "df.dropna(subset=['RSI'], inplace=True)\n",
    "if 'High' in df.columns and 'Low' in df.columns:\n",
    "    df.drop(['High', 'Low'], axis=1, inplace=True)\n",
    "features_columns = ['Close', 'Volume', 'RSI', 'MACD', 'Signal_Line', 'MACD_Histogram']\n",
    "\n",
    "sequence_length = 60\n",
    "n_features = len(features_columns)\n",
    "\n",
    "scaler_price = MinMaxScaler(feature_range=(0, 1))\n",
    "scaler_features = MinMaxScaler(feature_range=(0, 1))\n",
    "\n",
    "df_scaled = scaler_features.fit_transform(df[features_columns])\n",
    "df_scaled = pd.DataFrame(df_scaled, columns=features_columns)\n",
    "print(df_scaled)\n",
    "\n",
    "training_data_len = int(np.ceil(len(df_scaled) * 0.8))\n",
    "train_data_scaled = scaler_features.transform(df_scaled[features_columns])\n",
    "x_train, y_train = create_dataset(df_scaled[:training_data_len], sequence_length)\n",
    "x_test, y_test = create_dataset(df_scaled[training_data_len:], sequence_length)"
   ],
   "metadata": {
    "collapsed": false,
    "ExecuteTime": {
     "end_time": "2024-01-09T20:16:30.299830400Z",
     "start_time": "2024-01-09T20:16:29.882294800Z"
    }
   },
   "id": "cb88e7c3f21f9927",
   "execution_count": 9
  },
  {
   "cell_type": "code",
   "outputs": [],
   "source": [
    "def calculate_percentage_error(real_values, predicted_values):\n",
    "    percentage_errors = []\n",
    "    for real, predicted in zip(real_values, predicted_values):\n",
    "        if real != 0: \n",
    "            percentage_error = abs(real - predicted) / real * 100\n",
    "            percentage_errors.append(percentage_error)\n",
    "        else:\n",
    "            percentage_errors.append(0) \n",
    "    return percentage_errors"
   ],
   "metadata": {
    "collapsed": false,
    "ExecuteTime": {
     "end_time": "2024-01-09T20:16:30.302830900Z",
     "start_time": "2024-01-09T20:16:30.217755600Z"
    }
   },
   "id": "6543853f0e445ea0",
   "execution_count": 10
  },
  {
   "cell_type": "code",
   "outputs": [
    {
     "data": {
      "text/plain": "          Timestamp      Open      High       Low     Close        Volume\n0     1502928000000   4261.48   4485.39   4200.74   4285.08    795.150377\n1     1503014400000   4285.08   4371.52   3938.77   4108.37   1199.888264\n2     1503100800000   4108.37   4184.69   3850.00   4139.98    381.309763\n3     1503187200000   4120.98   4211.08   4032.62   4086.29    467.083022\n4     1503273600000   4069.13   4119.62   3911.79   4016.00    691.743060\n...             ...       ...       ...       ...       ...           ...\n2332  1704412800000  44151.10  44357.46  42450.00  44145.11  48075.253270\n2333  1704499200000  44145.12  44214.42  43397.05  43968.32  17835.061440\n2334  1704585600000  43968.32  44480.59  43572.09  43929.02  23023.850800\n2335  1704672000000  43929.01  47248.99  43175.00  46951.04  72814.575890\n2336  1704758400000  46951.04  47150.00  45450.00  46750.36  44424.283470\n\n[2337 rows x 6 columns]",
      "text/html": "<div>\n<style scoped>\n    .dataframe tbody tr th:only-of-type {\n        vertical-align: middle;\n    }\n\n    .dataframe tbody tr th {\n        vertical-align: top;\n    }\n\n    .dataframe thead th {\n        text-align: right;\n    }\n</style>\n<table border=\"1\" class=\"dataframe\">\n  <thead>\n    <tr style=\"text-align: right;\">\n      <th></th>\n      <th>Timestamp</th>\n      <th>Open</th>\n      <th>High</th>\n      <th>Low</th>\n      <th>Close</th>\n      <th>Volume</th>\n    </tr>\n  </thead>\n  <tbody>\n    <tr>\n      <th>0</th>\n      <td>1502928000000</td>\n      <td>4261.48</td>\n      <td>4485.39</td>\n      <td>4200.74</td>\n      <td>4285.08</td>\n      <td>795.150377</td>\n    </tr>\n    <tr>\n      <th>1</th>\n      <td>1503014400000</td>\n      <td>4285.08</td>\n      <td>4371.52</td>\n      <td>3938.77</td>\n      <td>4108.37</td>\n      <td>1199.888264</td>\n    </tr>\n    <tr>\n      <th>2</th>\n      <td>1503100800000</td>\n      <td>4108.37</td>\n      <td>4184.69</td>\n      <td>3850.00</td>\n      <td>4139.98</td>\n      <td>381.309763</td>\n    </tr>\n    <tr>\n      <th>3</th>\n      <td>1503187200000</td>\n      <td>4120.98</td>\n      <td>4211.08</td>\n      <td>4032.62</td>\n      <td>4086.29</td>\n      <td>467.083022</td>\n    </tr>\n    <tr>\n      <th>4</th>\n      <td>1503273600000</td>\n      <td>4069.13</td>\n      <td>4119.62</td>\n      <td>3911.79</td>\n      <td>4016.00</td>\n      <td>691.743060</td>\n    </tr>\n    <tr>\n      <th>...</th>\n      <td>...</td>\n      <td>...</td>\n      <td>...</td>\n      <td>...</td>\n      <td>...</td>\n      <td>...</td>\n    </tr>\n    <tr>\n      <th>2332</th>\n      <td>1704412800000</td>\n      <td>44151.10</td>\n      <td>44357.46</td>\n      <td>42450.00</td>\n      <td>44145.11</td>\n      <td>48075.253270</td>\n    </tr>\n    <tr>\n      <th>2333</th>\n      <td>1704499200000</td>\n      <td>44145.12</td>\n      <td>44214.42</td>\n      <td>43397.05</td>\n      <td>43968.32</td>\n      <td>17835.061440</td>\n    </tr>\n    <tr>\n      <th>2334</th>\n      <td>1704585600000</td>\n      <td>43968.32</td>\n      <td>44480.59</td>\n      <td>43572.09</td>\n      <td>43929.02</td>\n      <td>23023.850800</td>\n    </tr>\n    <tr>\n      <th>2335</th>\n      <td>1704672000000</td>\n      <td>43929.01</td>\n      <td>47248.99</td>\n      <td>43175.00</td>\n      <td>46951.04</td>\n      <td>72814.575890</td>\n    </tr>\n    <tr>\n      <th>2336</th>\n      <td>1704758400000</td>\n      <td>46951.04</td>\n      <td>47150.00</td>\n      <td>45450.00</td>\n      <td>46750.36</td>\n      <td>44424.283470</td>\n    </tr>\n  </tbody>\n</table>\n<p>2337 rows × 6 columns</p>\n</div>"
     },
     "execution_count": 11,
     "metadata": {},
     "output_type": "execute_result"
    }
   ],
   "source": [
    "crypto_data"
   ],
   "metadata": {
    "collapsed": false,
    "ExecuteTime": {
     "end_time": "2024-01-09T20:16:30.361506600Z",
     "start_time": "2024-01-09T20:16:30.230891300Z"
    }
   },
   "id": "182445e36fc044c3",
   "execution_count": 11
  },
  {
   "cell_type": "code",
   "outputs": [],
   "source": [
    "# set params for Bollinger Bands (BB)\n",
    "sma_period = 20  #using for 20-period SMA\n",
    "std_dev_multiplier = 2  #standart deviation\n",
    "\n",
    "df['Low'] = crypto_data['Low']\n",
    "df['High'] = crypto_data['High']\n",
    "\n",
    "# calculate Bollinger Bands\n",
    "df['SMA'] = df['Close'].rolling(window=sma_period).mean()\n",
    "df['Upper_BB'] = df['SMA'] + df['Close'].rolling(window=sma_period).std() * std_dev_multiplier\n",
    "df['Lower_BB'] = df['SMA'] - df['Close'].rolling(window=sma_period).std() * std_dev_multiplier\n",
    "\n",
    "# Calculate the Money Flow Index (MFI)\n",
    "typical_price = (df['Close'] + df['Low'] + df['High']) / 3\n",
    "raw_money_flow = typical_price * df['Volume']\n",
    "positive_flow = raw_money_flow.where(typical_price > typical_price.shift(1), 0)\n",
    "negative_flow = raw_money_flow.where(typical_price < typical_price.shift(1), 0)\n",
    "\n",
    "# Calculate the money flow ratio\n",
    "positive_flow_sum = positive_flow.rolling(window=14).sum()\n",
    "negative_flow_sum = negative_flow.rolling(window=14).sum()\n",
    "money_flow_ratio = positive_flow_sum / negative_flow_sum\n",
    "\n",
    "# Calculate the MFI\n",
    "mfi = 100 - (100 / (1 + money_flow_ratio))\n",
    "df['MFI'] = mfi\n",
    "\n",
    "# set params for Relative Volatility Index (RVI)\n",
    "rvi_period = 10  # define the period for RVI, for example 10\n",
    "\n",
    "# calculate Relative Volatility Index (RVI)\n",
    "standard_deviation = df['Close'].rolling(window=rvi_period).std()\n",
    "mean_deviation = standard_deviation.rolling(window=rvi_period).mean()\n",
    "df['RVI'] = standard_deviation / mean_deviation.where(mean_deviation != 0, np.nan)\n",
    "\n",
    "# remove starting NA values after calculate indicators\n",
    "df.dropna(inplace=True)"
   ],
   "metadata": {
    "collapsed": false,
    "ExecuteTime": {
     "end_time": "2024-01-09T20:16:30.555809200Z",
     "start_time": "2024-01-09T20:16:30.293828800Z"
    }
   },
   "id": "34a88daa016695af",
   "execution_count": 12
  },
  {
   "cell_type": "code",
   "outputs": [
    {
     "data": {
      "text/plain": "           Date      Open     Close        Volume        RSI         MACD  \\\n32   2017-09-18   3690.00   4035.01   1030.006455  48.958800  -156.191648   \n33   2017-09-19   4060.00   3910.04    902.332129  42.354120  -148.398764   \n34   2017-09-20   3910.04   3900.00    720.935076  36.872937  -141.402985   \n35   2017-09-21   3889.99   3609.99   1001.654084  31.727663  -157.445233   \n36   2017-09-22   3592.84   3595.87    838.966425  36.609708  -169.346079   \n...         ...       ...       ...           ...        ...          ...   \n2332 2024-01-05  44151.10  44145.11  48075.253270  50.785698   686.513879   \n2333 2024-01-06  44145.12  43968.32  17835.061440  51.197344   678.349988   \n2334 2024-01-07  43968.32  43929.02  23023.850800  54.488645   661.088250   \n2335 2024-01-08  43929.01  46951.04  72814.575890  63.100718   881.103147   \n2336 2024-01-09  46951.04  46750.36  44424.283470  67.651869  1027.429769   \n\n      Signal_Line  MACD_Histogram       Low      High         SMA  \\\n32    -103.250397      -52.941251   3690.00   4123.20   4210.0975   \n33    -112.280070      -36.118693   3830.91   4089.97   4177.8425   \n34    -118.104653      -23.298332   3820.00   4046.08   4136.5980   \n35    -125.972769      -31.472463   3567.00   3910.00   4075.3520   \n36    -134.647431      -34.698648   3505.55   3750.00   4031.5385   \n...           ...             ...       ...       ...         ...   \n2332   723.469885      -36.956005  42450.00  44357.46  43166.9125   \n2333   714.445905      -36.095917  43397.05  44214.42  43296.5960   \n2334   703.774374      -42.686124  43572.09  44480.59  43360.1570   \n2335   739.240129      141.863018  43175.00  47248.99  43593.9095   \n2336   796.878057      230.551712  45450.00  47150.00  43747.9810   \n\n          Upper_BB      Lower_BB        MFI       RVI  \n32     5042.872610   3377.322390  44.214191  1.080327  \n33     5004.295390   3351.389610  45.474232  0.978981  \n34     4929.763426   3343.432574  39.315184  0.921318  \n35     4829.698563   3321.005437  34.078954  0.835031  \n36     4790.624351   3272.452649  35.298268  0.735832  \n...            ...           ...        ...       ...  \n2332  45017.117298  41316.707702  42.586547  1.290076  \n2333  44973.320088  41619.871912  45.818454  1.248770  \n2334  45031.290696  41689.023304  50.297644  1.165650  \n2335  45836.628020  41351.190980  54.510550  1.449749  \n2336  46398.672125  41097.289875  61.829835  1.432624  \n\n[2305 rows x 15 columns]",
      "text/html": "<div>\n<style scoped>\n    .dataframe tbody tr th:only-of-type {\n        vertical-align: middle;\n    }\n\n    .dataframe tbody tr th {\n        vertical-align: top;\n    }\n\n    .dataframe thead th {\n        text-align: right;\n    }\n</style>\n<table border=\"1\" class=\"dataframe\">\n  <thead>\n    <tr style=\"text-align: right;\">\n      <th></th>\n      <th>Date</th>\n      <th>Open</th>\n      <th>Close</th>\n      <th>Volume</th>\n      <th>RSI</th>\n      <th>MACD</th>\n      <th>Signal_Line</th>\n      <th>MACD_Histogram</th>\n      <th>Low</th>\n      <th>High</th>\n      <th>SMA</th>\n      <th>Upper_BB</th>\n      <th>Lower_BB</th>\n      <th>MFI</th>\n      <th>RVI</th>\n    </tr>\n  </thead>\n  <tbody>\n    <tr>\n      <th>32</th>\n      <td>2017-09-18</td>\n      <td>3690.00</td>\n      <td>4035.01</td>\n      <td>1030.006455</td>\n      <td>48.958800</td>\n      <td>-156.191648</td>\n      <td>-103.250397</td>\n      <td>-52.941251</td>\n      <td>3690.00</td>\n      <td>4123.20</td>\n      <td>4210.0975</td>\n      <td>5042.872610</td>\n      <td>3377.322390</td>\n      <td>44.214191</td>\n      <td>1.080327</td>\n    </tr>\n    <tr>\n      <th>33</th>\n      <td>2017-09-19</td>\n      <td>4060.00</td>\n      <td>3910.04</td>\n      <td>902.332129</td>\n      <td>42.354120</td>\n      <td>-148.398764</td>\n      <td>-112.280070</td>\n      <td>-36.118693</td>\n      <td>3830.91</td>\n      <td>4089.97</td>\n      <td>4177.8425</td>\n      <td>5004.295390</td>\n      <td>3351.389610</td>\n      <td>45.474232</td>\n      <td>0.978981</td>\n    </tr>\n    <tr>\n      <th>34</th>\n      <td>2017-09-20</td>\n      <td>3910.04</td>\n      <td>3900.00</td>\n      <td>720.935076</td>\n      <td>36.872937</td>\n      <td>-141.402985</td>\n      <td>-118.104653</td>\n      <td>-23.298332</td>\n      <td>3820.00</td>\n      <td>4046.08</td>\n      <td>4136.5980</td>\n      <td>4929.763426</td>\n      <td>3343.432574</td>\n      <td>39.315184</td>\n      <td>0.921318</td>\n    </tr>\n    <tr>\n      <th>35</th>\n      <td>2017-09-21</td>\n      <td>3889.99</td>\n      <td>3609.99</td>\n      <td>1001.654084</td>\n      <td>31.727663</td>\n      <td>-157.445233</td>\n      <td>-125.972769</td>\n      <td>-31.472463</td>\n      <td>3567.00</td>\n      <td>3910.00</td>\n      <td>4075.3520</td>\n      <td>4829.698563</td>\n      <td>3321.005437</td>\n      <td>34.078954</td>\n      <td>0.835031</td>\n    </tr>\n    <tr>\n      <th>36</th>\n      <td>2017-09-22</td>\n      <td>3592.84</td>\n      <td>3595.87</td>\n      <td>838.966425</td>\n      <td>36.609708</td>\n      <td>-169.346079</td>\n      <td>-134.647431</td>\n      <td>-34.698648</td>\n      <td>3505.55</td>\n      <td>3750.00</td>\n      <td>4031.5385</td>\n      <td>4790.624351</td>\n      <td>3272.452649</td>\n      <td>35.298268</td>\n      <td>0.735832</td>\n    </tr>\n    <tr>\n      <th>...</th>\n      <td>...</td>\n      <td>...</td>\n      <td>...</td>\n      <td>...</td>\n      <td>...</td>\n      <td>...</td>\n      <td>...</td>\n      <td>...</td>\n      <td>...</td>\n      <td>...</td>\n      <td>...</td>\n      <td>...</td>\n      <td>...</td>\n      <td>...</td>\n      <td>...</td>\n    </tr>\n    <tr>\n      <th>2332</th>\n      <td>2024-01-05</td>\n      <td>44151.10</td>\n      <td>44145.11</td>\n      <td>48075.253270</td>\n      <td>50.785698</td>\n      <td>686.513879</td>\n      <td>723.469885</td>\n      <td>-36.956005</td>\n      <td>42450.00</td>\n      <td>44357.46</td>\n      <td>43166.9125</td>\n      <td>45017.117298</td>\n      <td>41316.707702</td>\n      <td>42.586547</td>\n      <td>1.290076</td>\n    </tr>\n    <tr>\n      <th>2333</th>\n      <td>2024-01-06</td>\n      <td>44145.12</td>\n      <td>43968.32</td>\n      <td>17835.061440</td>\n      <td>51.197344</td>\n      <td>678.349988</td>\n      <td>714.445905</td>\n      <td>-36.095917</td>\n      <td>43397.05</td>\n      <td>44214.42</td>\n      <td>43296.5960</td>\n      <td>44973.320088</td>\n      <td>41619.871912</td>\n      <td>45.818454</td>\n      <td>1.248770</td>\n    </tr>\n    <tr>\n      <th>2334</th>\n      <td>2024-01-07</td>\n      <td>43968.32</td>\n      <td>43929.02</td>\n      <td>23023.850800</td>\n      <td>54.488645</td>\n      <td>661.088250</td>\n      <td>703.774374</td>\n      <td>-42.686124</td>\n      <td>43572.09</td>\n      <td>44480.59</td>\n      <td>43360.1570</td>\n      <td>45031.290696</td>\n      <td>41689.023304</td>\n      <td>50.297644</td>\n      <td>1.165650</td>\n    </tr>\n    <tr>\n      <th>2335</th>\n      <td>2024-01-08</td>\n      <td>43929.01</td>\n      <td>46951.04</td>\n      <td>72814.575890</td>\n      <td>63.100718</td>\n      <td>881.103147</td>\n      <td>739.240129</td>\n      <td>141.863018</td>\n      <td>43175.00</td>\n      <td>47248.99</td>\n      <td>43593.9095</td>\n      <td>45836.628020</td>\n      <td>41351.190980</td>\n      <td>54.510550</td>\n      <td>1.449749</td>\n    </tr>\n    <tr>\n      <th>2336</th>\n      <td>2024-01-09</td>\n      <td>46951.04</td>\n      <td>46750.36</td>\n      <td>44424.283470</td>\n      <td>67.651869</td>\n      <td>1027.429769</td>\n      <td>796.878057</td>\n      <td>230.551712</td>\n      <td>45450.00</td>\n      <td>47150.00</td>\n      <td>43747.9810</td>\n      <td>46398.672125</td>\n      <td>41097.289875</td>\n      <td>61.829835</td>\n      <td>1.432624</td>\n    </tr>\n  </tbody>\n</table>\n<p>2305 rows × 15 columns</p>\n</div>"
     },
     "execution_count": 13,
     "metadata": {},
     "output_type": "execute_result"
    }
   ],
   "source": [
    "df"
   ],
   "metadata": {
    "collapsed": false,
    "ExecuteTime": {
     "end_time": "2024-01-09T20:16:30.616803500Z",
     "start_time": "2024-01-09T20:16:30.398504700Z"
    }
   },
   "id": "2cee1d96f7bcf988",
   "execution_count": 13
  },
  {
   "cell_type": "code",
   "outputs": [
    {
     "data": {
      "text/plain": "           Date      Open     Close        Volume        RSI         MACD  \\\n32   2017-09-18   3690.00   4035.01   1030.006455  48.958800  -156.191648   \n33   2017-09-19   4060.00   3910.04    902.332129  42.354120  -148.398764   \n34   2017-09-20   3910.04   3900.00    720.935076  36.872937  -141.402985   \n35   2017-09-21   3889.99   3609.99   1001.654084  31.727663  -157.445233   \n36   2017-09-22   3592.84   3595.87    838.966425  36.609708  -169.346079   \n...         ...       ...       ...           ...        ...          ...   \n2332 2024-01-05  44151.10  44145.11  48075.253270  50.785698   686.513879   \n2333 2024-01-06  44145.12  43968.32  17835.061440  51.197344   678.349988   \n2334 2024-01-07  43968.32  43929.02  23023.850800  54.488645   661.088250   \n2335 2024-01-08  43929.01  46951.04  72814.575890  63.100718   881.103147   \n2336 2024-01-09  46951.04  46750.36  44424.283470  67.651869  1027.429769   \n\n      Signal_Line  MACD_Histogram       Low      High         SMA  \\\n32    -103.250397      -52.941251   3690.00   4123.20   4210.0975   \n33    -112.280070      -36.118693   3830.91   4089.97   4177.8425   \n34    -118.104653      -23.298332   3820.00   4046.08   4136.5980   \n35    -125.972769      -31.472463   3567.00   3910.00   4075.3520   \n36    -134.647431      -34.698648   3505.55   3750.00   4031.5385   \n...           ...             ...       ...       ...         ...   \n2332   723.469885      -36.956005  42450.00  44357.46  43166.9125   \n2333   714.445905      -36.095917  43397.05  44214.42  43296.5960   \n2334   703.774374      -42.686124  43572.09  44480.59  43360.1570   \n2335   739.240129      141.863018  43175.00  47248.99  43593.9095   \n2336   796.878057      230.551712  45450.00  47150.00  43747.9810   \n\n          Upper_BB      Lower_BB        MFI       RVI     hash_rate  \n32     5042.872610   3377.322390  44.214191  1.080327  5.166917e+11  \n33     5004.295390   3351.389610  45.474232  0.978981  5.166917e+11  \n34     4929.763426   3343.432574  39.315184  0.921318  5.166917e+11  \n35     4829.698563   3321.005437  34.078954  0.835031  5.166917e+11  \n36     4790.624351   3272.452649  35.298268  0.735832  5.166917e+11  \n...            ...           ...        ...       ...           ...  \n2332  45017.117298  41316.707702  42.586547  1.290076  5.166917e+11  \n2333  44973.320088  41619.871912  45.818454  1.248770  5.166917e+11  \n2334  45031.290696  41689.023304  50.297644  1.165650  5.166917e+11  \n2335  45836.628020  41351.190980  54.510550  1.449749  5.166917e+11  \n2336  46398.672125  41097.289875  61.829835  1.432624  5.166917e+11  \n\n[2305 rows x 16 columns]",
      "text/html": "<div>\n<style scoped>\n    .dataframe tbody tr th:only-of-type {\n        vertical-align: middle;\n    }\n\n    .dataframe tbody tr th {\n        vertical-align: top;\n    }\n\n    .dataframe thead th {\n        text-align: right;\n    }\n</style>\n<table border=\"1\" class=\"dataframe\">\n  <thead>\n    <tr style=\"text-align: right;\">\n      <th></th>\n      <th>Date</th>\n      <th>Open</th>\n      <th>Close</th>\n      <th>Volume</th>\n      <th>RSI</th>\n      <th>MACD</th>\n      <th>Signal_Line</th>\n      <th>MACD_Histogram</th>\n      <th>Low</th>\n      <th>High</th>\n      <th>SMA</th>\n      <th>Upper_BB</th>\n      <th>Lower_BB</th>\n      <th>MFI</th>\n      <th>RVI</th>\n      <th>hash_rate</th>\n    </tr>\n  </thead>\n  <tbody>\n    <tr>\n      <th>32</th>\n      <td>2017-09-18</td>\n      <td>3690.00</td>\n      <td>4035.01</td>\n      <td>1030.006455</td>\n      <td>48.958800</td>\n      <td>-156.191648</td>\n      <td>-103.250397</td>\n      <td>-52.941251</td>\n      <td>3690.00</td>\n      <td>4123.20</td>\n      <td>4210.0975</td>\n      <td>5042.872610</td>\n      <td>3377.322390</td>\n      <td>44.214191</td>\n      <td>1.080327</td>\n      <td>5.166917e+11</td>\n    </tr>\n    <tr>\n      <th>33</th>\n      <td>2017-09-19</td>\n      <td>4060.00</td>\n      <td>3910.04</td>\n      <td>902.332129</td>\n      <td>42.354120</td>\n      <td>-148.398764</td>\n      <td>-112.280070</td>\n      <td>-36.118693</td>\n      <td>3830.91</td>\n      <td>4089.97</td>\n      <td>4177.8425</td>\n      <td>5004.295390</td>\n      <td>3351.389610</td>\n      <td>45.474232</td>\n      <td>0.978981</td>\n      <td>5.166917e+11</td>\n    </tr>\n    <tr>\n      <th>34</th>\n      <td>2017-09-20</td>\n      <td>3910.04</td>\n      <td>3900.00</td>\n      <td>720.935076</td>\n      <td>36.872937</td>\n      <td>-141.402985</td>\n      <td>-118.104653</td>\n      <td>-23.298332</td>\n      <td>3820.00</td>\n      <td>4046.08</td>\n      <td>4136.5980</td>\n      <td>4929.763426</td>\n      <td>3343.432574</td>\n      <td>39.315184</td>\n      <td>0.921318</td>\n      <td>5.166917e+11</td>\n    </tr>\n    <tr>\n      <th>35</th>\n      <td>2017-09-21</td>\n      <td>3889.99</td>\n      <td>3609.99</td>\n      <td>1001.654084</td>\n      <td>31.727663</td>\n      <td>-157.445233</td>\n      <td>-125.972769</td>\n      <td>-31.472463</td>\n      <td>3567.00</td>\n      <td>3910.00</td>\n      <td>4075.3520</td>\n      <td>4829.698563</td>\n      <td>3321.005437</td>\n      <td>34.078954</td>\n      <td>0.835031</td>\n      <td>5.166917e+11</td>\n    </tr>\n    <tr>\n      <th>36</th>\n      <td>2017-09-22</td>\n      <td>3592.84</td>\n      <td>3595.87</td>\n      <td>838.966425</td>\n      <td>36.609708</td>\n      <td>-169.346079</td>\n      <td>-134.647431</td>\n      <td>-34.698648</td>\n      <td>3505.55</td>\n      <td>3750.00</td>\n      <td>4031.5385</td>\n      <td>4790.624351</td>\n      <td>3272.452649</td>\n      <td>35.298268</td>\n      <td>0.735832</td>\n      <td>5.166917e+11</td>\n    </tr>\n    <tr>\n      <th>...</th>\n      <td>...</td>\n      <td>...</td>\n      <td>...</td>\n      <td>...</td>\n      <td>...</td>\n      <td>...</td>\n      <td>...</td>\n      <td>...</td>\n      <td>...</td>\n      <td>...</td>\n      <td>...</td>\n      <td>...</td>\n      <td>...</td>\n      <td>...</td>\n      <td>...</td>\n      <td>...</td>\n    </tr>\n    <tr>\n      <th>2332</th>\n      <td>2024-01-05</td>\n      <td>44151.10</td>\n      <td>44145.11</td>\n      <td>48075.253270</td>\n      <td>50.785698</td>\n      <td>686.513879</td>\n      <td>723.469885</td>\n      <td>-36.956005</td>\n      <td>42450.00</td>\n      <td>44357.46</td>\n      <td>43166.9125</td>\n      <td>45017.117298</td>\n      <td>41316.707702</td>\n      <td>42.586547</td>\n      <td>1.290076</td>\n      <td>5.166917e+11</td>\n    </tr>\n    <tr>\n      <th>2333</th>\n      <td>2024-01-06</td>\n      <td>44145.12</td>\n      <td>43968.32</td>\n      <td>17835.061440</td>\n      <td>51.197344</td>\n      <td>678.349988</td>\n      <td>714.445905</td>\n      <td>-36.095917</td>\n      <td>43397.05</td>\n      <td>44214.42</td>\n      <td>43296.5960</td>\n      <td>44973.320088</td>\n      <td>41619.871912</td>\n      <td>45.818454</td>\n      <td>1.248770</td>\n      <td>5.166917e+11</td>\n    </tr>\n    <tr>\n      <th>2334</th>\n      <td>2024-01-07</td>\n      <td>43968.32</td>\n      <td>43929.02</td>\n      <td>23023.850800</td>\n      <td>54.488645</td>\n      <td>661.088250</td>\n      <td>703.774374</td>\n      <td>-42.686124</td>\n      <td>43572.09</td>\n      <td>44480.59</td>\n      <td>43360.1570</td>\n      <td>45031.290696</td>\n      <td>41689.023304</td>\n      <td>50.297644</td>\n      <td>1.165650</td>\n      <td>5.166917e+11</td>\n    </tr>\n    <tr>\n      <th>2335</th>\n      <td>2024-01-08</td>\n      <td>43929.01</td>\n      <td>46951.04</td>\n      <td>72814.575890</td>\n      <td>63.100718</td>\n      <td>881.103147</td>\n      <td>739.240129</td>\n      <td>141.863018</td>\n      <td>43175.00</td>\n      <td>47248.99</td>\n      <td>43593.9095</td>\n      <td>45836.628020</td>\n      <td>41351.190980</td>\n      <td>54.510550</td>\n      <td>1.449749</td>\n      <td>5.166917e+11</td>\n    </tr>\n    <tr>\n      <th>2336</th>\n      <td>2024-01-09</td>\n      <td>46951.04</td>\n      <td>46750.36</td>\n      <td>44424.283470</td>\n      <td>67.651869</td>\n      <td>1027.429769</td>\n      <td>796.878057</td>\n      <td>230.551712</td>\n      <td>45450.00</td>\n      <td>47150.00</td>\n      <td>43747.9810</td>\n      <td>46398.672125</td>\n      <td>41097.289875</td>\n      <td>61.829835</td>\n      <td>1.432624</td>\n      <td>5.166917e+11</td>\n    </tr>\n  </tbody>\n</table>\n<p>2305 rows × 16 columns</p>\n</div>"
     },
     "execution_count": 14,
     "metadata": {},
     "output_type": "execute_result"
    }
   ],
   "source": [
    "import requests\n",
    "import pandas as pd\n",
    "\n",
    "\n",
    "def get_blockchain_data():\n",
    "    url = 'https://api.blockchain.info/stats'\n",
    "    response = requests.get(url)\n",
    "    data = response.json()\n",
    "    blockchain_data = pd.DataFrame([data])\n",
    "    blockchain_data = blockchain_data[['hash_rate']]\n",
    "    blockchain_data['Date'] = pd.to_datetime('today')\n",
    "    return blockchain_data\n",
    "\n",
    "\n",
    "blockchain_data = get_blockchain_data()\n",
    "\n",
    "df['Date'] = pd.to_datetime(df['Date'])\n",
    "current_hash_rate = blockchain_data.at[0, 'hash_rate']\n",
    "df['hash_rate'] = current_hash_rate\n",
    "\n",
    "df"
   ],
   "metadata": {
    "collapsed": false,
    "ExecuteTime": {
     "end_time": "2024-01-09T20:16:31.686711500Z",
     "start_time": "2024-01-09T20:16:30.476806800Z"
    }
   },
   "id": "ef79034baee7858a",
   "execution_count": 14
  },
  {
   "cell_type": "code",
   "outputs": [],
   "source": [
    "X = df[features_columns]\n",
    "y = df['Close']\n",
    "\n",
    "from sklearn.preprocessing import MinMaxScaler\n",
    "\n",
    "scaler = MinMaxScaler(feature_range=(0, 1))\n",
    "X_scaled = scaler.fit_transform(X)\n",
    "\n",
    "from sklearn.model_selection import train_test_split\n",
    "\n",
    "X_train, X_test, y_train, y_test = train_test_split(X_scaled, y, test_size=0.2, random_state=42)"
   ],
   "metadata": {
    "collapsed": false,
    "ExecuteTime": {
     "end_time": "2024-01-09T20:16:32.635813500Z",
     "start_time": "2024-01-09T20:16:31.685709500Z"
    }
   },
   "id": "8fc188679368766d",
   "execution_count": 15
  },
  {
   "cell_type": "code",
   "outputs": [
    {
     "data": {
      "text/plain": "MinMaxScaler()",
      "text/html": "<style>#sk-container-id-1 {color: black;}#sk-container-id-1 pre{padding: 0;}#sk-container-id-1 div.sk-toggleable {background-color: white;}#sk-container-id-1 label.sk-toggleable__label {cursor: pointer;display: block;width: 100%;margin-bottom: 0;padding: 0.3em;box-sizing: border-box;text-align: center;}#sk-container-id-1 label.sk-toggleable__label-arrow:before {content: \"▸\";float: left;margin-right: 0.25em;color: #696969;}#sk-container-id-1 label.sk-toggleable__label-arrow:hover:before {color: black;}#sk-container-id-1 div.sk-estimator:hover label.sk-toggleable__label-arrow:before {color: black;}#sk-container-id-1 div.sk-toggleable__content {max-height: 0;max-width: 0;overflow: hidden;text-align: left;background-color: #f0f8ff;}#sk-container-id-1 div.sk-toggleable__content pre {margin: 0.2em;color: black;border-radius: 0.25em;background-color: #f0f8ff;}#sk-container-id-1 input.sk-toggleable__control:checked~div.sk-toggleable__content {max-height: 200px;max-width: 100%;overflow: auto;}#sk-container-id-1 input.sk-toggleable__control:checked~label.sk-toggleable__label-arrow:before {content: \"▾\";}#sk-container-id-1 div.sk-estimator input.sk-toggleable__control:checked~label.sk-toggleable__label {background-color: #d4ebff;}#sk-container-id-1 div.sk-label input.sk-toggleable__control:checked~label.sk-toggleable__label {background-color: #d4ebff;}#sk-container-id-1 input.sk-hidden--visually {border: 0;clip: rect(1px 1px 1px 1px);clip: rect(1px, 1px, 1px, 1px);height: 1px;margin: -1px;overflow: hidden;padding: 0;position: absolute;width: 1px;}#sk-container-id-1 div.sk-estimator {font-family: monospace;background-color: #f0f8ff;border: 1px dotted black;border-radius: 0.25em;box-sizing: border-box;margin-bottom: 0.5em;}#sk-container-id-1 div.sk-estimator:hover {background-color: #d4ebff;}#sk-container-id-1 div.sk-parallel-item::after {content: \"\";width: 100%;border-bottom: 1px solid gray;flex-grow: 1;}#sk-container-id-1 div.sk-label:hover label.sk-toggleable__label {background-color: #d4ebff;}#sk-container-id-1 div.sk-serial::before {content: \"\";position: absolute;border-left: 1px solid gray;box-sizing: border-box;top: 0;bottom: 0;left: 50%;z-index: 0;}#sk-container-id-1 div.sk-serial {display: flex;flex-direction: column;align-items: center;background-color: white;padding-right: 0.2em;padding-left: 0.2em;position: relative;}#sk-container-id-1 div.sk-item {position: relative;z-index: 1;}#sk-container-id-1 div.sk-parallel {display: flex;align-items: stretch;justify-content: center;background-color: white;position: relative;}#sk-container-id-1 div.sk-item::before, #sk-container-id-1 div.sk-parallel-item::before {content: \"\";position: absolute;border-left: 1px solid gray;box-sizing: border-box;top: 0;bottom: 0;left: 50%;z-index: -1;}#sk-container-id-1 div.sk-parallel-item {display: flex;flex-direction: column;z-index: 1;position: relative;background-color: white;}#sk-container-id-1 div.sk-parallel-item:first-child::after {align-self: flex-end;width: 50%;}#sk-container-id-1 div.sk-parallel-item:last-child::after {align-self: flex-start;width: 50%;}#sk-container-id-1 div.sk-parallel-item:only-child::after {width: 0;}#sk-container-id-1 div.sk-dashed-wrapped {border: 1px dashed gray;margin: 0 0.4em 0.5em 0.4em;box-sizing: border-box;padding-bottom: 0.4em;background-color: white;}#sk-container-id-1 div.sk-label label {font-family: monospace;font-weight: bold;display: inline-block;line-height: 1.2em;}#sk-container-id-1 div.sk-label-container {text-align: center;}#sk-container-id-1 div.sk-container {/* jupyter's `normalize.less` sets `[hidden] { display: none; }` but bootstrap.min.css set `[hidden] { display: none !important; }` so we also need the `!important` here to be able to override the default hidden behavior on the sphinx rendered scikit-learn.org. See: https://github.com/scikit-learn/scikit-learn/issues/21755 */display: inline-block !important;position: relative;}#sk-container-id-1 div.sk-text-repr-fallback {display: none;}</style><div id=\"sk-container-id-1\" class=\"sk-top-container\"><div class=\"sk-text-repr-fallback\"><pre>MinMaxScaler()</pre><b>In a Jupyter environment, please rerun this cell to show the HTML representation or trust the notebook. <br />On GitHub, the HTML representation is unable to render, please try loading this page with nbviewer.org.</b></div><div class=\"sk-container\" hidden><div class=\"sk-item\"><div class=\"sk-estimator sk-toggleable\"><input class=\"sk-toggleable__control sk-hidden--visually\" id=\"sk-estimator-id-1\" type=\"checkbox\" checked><label for=\"sk-estimator-id-1\" class=\"sk-toggleable__label sk-toggleable__label-arrow\">MinMaxScaler</label><div class=\"sk-toggleable__content\"><pre>MinMaxScaler()</pre></div></div></div></div></div>"
     },
     "execution_count": 16,
     "metadata": {},
     "output_type": "execute_result"
    }
   ],
   "source": [
    "df['SMA_50'] = df['Close'].rolling(window=50).mean()\n",
    "df['SMA_200'] = df['Close'].rolling(window=200).mean()\n",
    "\n",
    "scaler_price = MinMaxScaler(feature_range=(0, 1))\n",
    "scaler_price.fit(df[['Close']]) "
   ],
   "metadata": {
    "collapsed": false,
    "ExecuteTime": {
     "end_time": "2024-01-09T20:16:32.671289500Z",
     "start_time": "2024-01-09T20:16:32.629813Z"
    }
   },
   "id": "d7afb8c6415aec00",
   "execution_count": 16
  },
  {
   "cell_type": "code",
   "outputs": [
    {
     "name": "stdout",
     "output_type": "stream",
     "text": [
      "Epoch 1/150\n",
      "106/106 [==============================] - 27s 112ms/step - loss: 0.0165 - val_loss: 9.6763e-04 - lr: 5.0000e-04\n",
      "Epoch 2/150\n",
      "106/106 [==============================] - 10s 90ms/step - loss: 0.0057 - val_loss: 6.5162e-04 - lr: 5.0000e-04\n",
      "Epoch 3/150\n",
      "106/106 [==============================] - 9s 85ms/step - loss: 0.0048 - val_loss: 0.0013 - lr: 5.0000e-04\n",
      "Epoch 4/150\n",
      "106/106 [==============================] - 9s 89ms/step - loss: 0.0042 - val_loss: 4.4602e-04 - lr: 5.0000e-04\n",
      "Epoch 5/150\n",
      "106/106 [==============================] - 8s 72ms/step - loss: 0.0034 - val_loss: 0.0038 - lr: 5.0000e-04\n",
      "Epoch 6/150\n",
      "106/106 [==============================] - 7s 70ms/step - loss: 0.0032 - val_loss: 0.0014 - lr: 5.0000e-04\n",
      "Epoch 7/150\n",
      "106/106 [==============================] - 8s 79ms/step - loss: 0.0032 - val_loss: 7.8257e-04 - lr: 5.0000e-04\n",
      "Epoch 8/150\n",
      "106/106 [==============================] - 8s 78ms/step - loss: 0.0026 - val_loss: 3.1890e-04 - lr: 5.0000e-04\n",
      "Epoch 9/150\n",
      "106/106 [==============================] - 9s 82ms/step - loss: 0.0029 - val_loss: 2.9640e-04 - lr: 5.0000e-04\n",
      "Epoch 10/150\n",
      "106/106 [==============================] - 9s 86ms/step - loss: 0.0025 - val_loss: 2.2448e-04 - lr: 5.0000e-04\n",
      "Epoch 11/150\n",
      "106/106 [==============================] - 9s 81ms/step - loss: 0.0024 - val_loss: 2.5679e-04 - lr: 5.0000e-04\n",
      "Epoch 12/150\n",
      "106/106 [==============================] - 8s 77ms/step - loss: 0.0024 - val_loss: 5.3369e-04 - lr: 5.0000e-04\n",
      "Epoch 13/150\n",
      "106/106 [==============================] - 8s 71ms/step - loss: 0.0024 - val_loss: 6.5123e-04 - lr: 5.0000e-04\n",
      "Epoch 14/150\n",
      "106/106 [==============================] - 7s 70ms/step - loss: 0.0021 - val_loss: 2.5614e-04 - lr: 1.0000e-04\n",
      "Epoch 15/150\n",
      "106/106 [==============================] - 7s 68ms/step - loss: 0.0018 - val_loss: 2.6087e-04 - lr: 1.0000e-04\n",
      "Epoch 16/150\n",
      "106/106 [==============================] - 8s 72ms/step - loss: 0.0019 - val_loss: 2.5964e-04 - lr: 1.0000e-04\n",
      "Epoch 17/150\n",
      "106/106 [==============================] - 7s 69ms/step - loss: 0.0018 - val_loss: 2.8452e-04 - lr: 1.0000e-04\n",
      "Epoch 18/150\n",
      "106/106 [==============================] - 8s 73ms/step - loss: 0.0017 - val_loss: 2.4900e-04 - lr: 1.0000e-04\n",
      "Epoch 19/150\n",
      "106/106 [==============================] - 8s 71ms/step - loss: 0.0018 - val_loss: 2.9549e-04 - lr: 1.0000e-04\n",
      "Epoch 20/150\n",
      "106/106 [==============================] - 7s 68ms/step - loss: 0.0019 - val_loss: 3.8936e-04 - lr: 1.0000e-04\n",
      "Epoch 21/150\n",
      "106/106 [==============================] - 8s 74ms/step - loss: 0.0019 - val_loss: 2.8839e-04 - lr: 1.0000e-04\n",
      "Epoch 22/150\n",
      "106/106 [==============================] - 7s 68ms/step - loss: 0.0017 - val_loss: 3.6985e-04 - lr: 1.0000e-04\n",
      "Epoch 23/150\n",
      "106/106 [==============================] - 8s 72ms/step - loss: 0.0016 - val_loss: 2.5067e-04 - lr: 1.0000e-04\n",
      "Epoch 24/150\n",
      "106/106 [==============================] - 7s 69ms/step - loss: 0.0018 - val_loss: 2.8545e-04 - lr: 1.0000e-04\n",
      "Epoch 25/150\n",
      "106/106 [==============================] - 7s 70ms/step - loss: 0.0016 - val_loss: 2.3611e-04 - lr: 1.0000e-04\n",
      "Epoch 26/150\n",
      "106/106 [==============================] - 8s 72ms/step - loss: 0.0016 - val_loss: 2.5409e-04 - lr: 1.0000e-04\n",
      "Epoch 27/150\n",
      "106/106 [==============================] - 8s 71ms/step - loss: 0.0016 - val_loss: 2.3754e-04 - lr: 1.0000e-04\n",
      "Epoch 28/150\n",
      "106/106 [==============================] - 7s 67ms/step - loss: 0.0016 - val_loss: 2.3393e-04 - lr: 1.0000e-04\n",
      "Epoch 29/150\n",
      "106/106 [==============================] - 7s 66ms/step - loss: 0.0016 - val_loss: 3.1587e-04 - lr: 1.0000e-04\n",
      "Epoch 30/150\n",
      "106/106 [==============================] - 7s 70ms/step - loss: 0.0018 - val_loss: 4.0381e-04 - lr: 1.0000e-04\n"
     ]
    },
    {
     "data": {
      "text/plain": "<keras.src.callbacks.History at 0x27cd4dd7ed0>"
     },
     "execution_count": 17,
     "metadata": {},
     "output_type": "execute_result"
    }
   ],
   "source": [
    "from keras.src.layers import Bidirectional\n",
    "from keras.src.callbacks import ReduceLROnPlateau\n",
    "from keras.layers import GRU, Dropout, Dense\n",
    "from keras.optimizers import Adam\n",
    "from keras.models import Sequential\n",
    "from keras.callbacks import EarlyStopping, ModelCheckpoint, TensorBoard\n",
    "import datetime\n",
    "import pandas as pd\n",
    "import numpy as np\n",
    "from sklearn.preprocessing import MinMaxScaler\n",
    "from sklearn.model_selection import train_test_split\n",
    "\n",
    "# Data preparation\n",
    "df.dropna(subset=['RSI'], inplace=True)\n",
    "df.drop(['High', 'Low'], axis=1, errors='ignore', inplace=True)\n",
    "df['Mid_Price'] = (df['Open'] + df['Close']) / 2\n",
    "\n",
    "# Calculate SMA_50 and add to df\n",
    "df['SMA_50'] = df['Close'].rolling(window=50).mean()\n",
    "\n",
    "# Update your features list\n",
    "features_columns = ['Close', 'Volume', 'Signal_Line', 'Mid_Price', 'SMA_50', 'SMA_200']\n",
    "\n",
    "# Handling any NaN values\n",
    "df.dropna(inplace=True)\n",
    "\n",
    "# Normalize features\n",
    "scaler_features = MinMaxScaler(feature_range=(0, 1))\n",
    "df_scaled = scaler_features.fit_transform(df[features_columns])\n",
    "df_scaled = pd.DataFrame(df_scaled, columns=features_columns)\n",
    "\n",
    "\n",
    "# Define create_dataset function\n",
    "def create_dataset(dataset, look_back=60):\n",
    "    X, Y = [], []\n",
    "    for i in range(len(dataset) - look_back):\n",
    "        X.append(dataset[i:(i + look_back)])\n",
    "        Y.append(dataset[i + look_back, 0])  # Assuming 'Close' is at index 0\n",
    "    return np.array(X), np.array(Y)\n",
    "\n",
    "\n",
    "# Prepare the dataset\n",
    "look_back = 60\n",
    "X, Y = create_dataset(df_scaled.values, look_back)\n",
    "\n",
    "# Splitting data to training and testing sets\n",
    "training_data_len = int(len(df_scaled) * 0.8)\n",
    "X_train, X_test, Y_train, Y_test = X[:training_data_len], X[training_data_len:], Y[:training_data_len], Y[training_data_len:]\n",
    "\n",
    "# Define the GRU model\n",
    "n_features = len(features_columns)\n",
    "model = Sequential()\n",
    "model.add(Bidirectional(GRU(128, return_sequences=True, input_shape=(look_back, n_features))))\n",
    "model.add(Dropout(0.4)) \n",
    "model.add(Bidirectional(GRU(64, return_sequences=False)))\n",
    "model.add(Dropout(0.4))\n",
    "model.add(Dense(1))\n",
    "\n",
    "# Compile the model\n",
    "adam = Adam(learning_rate=0.0005)\n",
    "model.compile(optimizer=adam, loss='mean_squared_error')\n",
    "\n",
    "# Define callbacks\n",
    "early_stopping = EarlyStopping(monitor='val_loss', patience=20, restore_best_weights=True)\n",
    "model_checkpoint = ModelCheckpoint('best_model.keras', save_best_only=True, monitor='val_loss', mode='min')\n",
    "reduce_lr = ReduceLROnPlateau(monitor='val_loss', factor=0.2, patience=5, min_lr=0.0001)\n",
    "\n",
    "# Fit the model\n",
    "model.fit(X_train, Y_train, epochs=150, batch_size=16, validation_data=(X_test, Y_test),\n",
    "          callbacks=[early_stopping, model_checkpoint, reduce_lr])"
   ],
   "metadata": {
    "collapsed": false,
    "ExecuteTime": {
     "end_time": "2024-01-09T20:20:49.310169Z",
     "start_time": "2024-01-09T20:16:32.664290Z"
    }
   },
   "id": "71a3ee3c7e475504",
   "execution_count": 17
  },
  {
   "cell_type": "code",
   "outputs": [
    {
     "name": "stdout",
     "output_type": "stream",
     "text": [
      "12/12 [==============================] - 3s 26ms/step\n",
      "MSE: 928523.1899672545, MAE: 686.3759681457184, R^2: 0.9743006926597815\n"
     ]
    },
    {
     "data": {
      "text/plain": "         real     predicted\n0    19930.01  18141.865234\n1    20954.92  18853.992188\n2    20871.50  19667.015625\n3    21185.65  20388.818359\n4    21134.81  20855.812500\n..        ...           ...\n357  44145.11  43633.558594\n358  43968.32  43823.886719\n359  43929.02  43920.566406\n360  46951.04  43920.421875\n361  46750.36  44750.546875\n\n[362 rows x 2 columns]",
      "text/html": "<div>\n<style scoped>\n    .dataframe tbody tr th:only-of-type {\n        vertical-align: middle;\n    }\n\n    .dataframe tbody tr th {\n        vertical-align: top;\n    }\n\n    .dataframe thead th {\n        text-align: right;\n    }\n</style>\n<table border=\"1\" class=\"dataframe\">\n  <thead>\n    <tr style=\"text-align: right;\">\n      <th></th>\n      <th>real</th>\n      <th>predicted</th>\n    </tr>\n  </thead>\n  <tbody>\n    <tr>\n      <th>0</th>\n      <td>19930.01</td>\n      <td>18141.865234</td>\n    </tr>\n    <tr>\n      <th>1</th>\n      <td>20954.92</td>\n      <td>18853.992188</td>\n    </tr>\n    <tr>\n      <th>2</th>\n      <td>20871.50</td>\n      <td>19667.015625</td>\n    </tr>\n    <tr>\n      <th>3</th>\n      <td>21185.65</td>\n      <td>20388.818359</td>\n    </tr>\n    <tr>\n      <th>4</th>\n      <td>21134.81</td>\n      <td>20855.812500</td>\n    </tr>\n    <tr>\n      <th>...</th>\n      <td>...</td>\n      <td>...</td>\n    </tr>\n    <tr>\n      <th>357</th>\n      <td>44145.11</td>\n      <td>43633.558594</td>\n    </tr>\n    <tr>\n      <th>358</th>\n      <td>43968.32</td>\n      <td>43823.886719</td>\n    </tr>\n    <tr>\n      <th>359</th>\n      <td>43929.02</td>\n      <td>43920.566406</td>\n    </tr>\n    <tr>\n      <th>360</th>\n      <td>46951.04</td>\n      <td>43920.421875</td>\n    </tr>\n    <tr>\n      <th>361</th>\n      <td>46750.36</td>\n      <td>44750.546875</td>\n    </tr>\n  </tbody>\n</table>\n<p>362 rows × 2 columns</p>\n</div>"
     },
     "execution_count": 18,
     "metadata": {},
     "output_type": "execute_result"
    }
   ],
   "source": [
    "from sklearn.metrics import mean_squared_error, mean_absolute_error, r2_score\n",
    "\n",
    "# Ensure X_test is used for prediction, and it has the correct shape\n",
    "predicted = model.predict(X_test)\n",
    "\n",
    "# Inverse transform the predicted and real values\n",
    "# Make sure scaler_price was fitted to the 'Close' prices initially\n",
    "predicted_prices = scaler_price.inverse_transform(predicted)\n",
    "real_values = scaler_price.inverse_transform(Y_test.reshape(-1, 1))\n",
    "\n",
    "# Calculate evaluation metrics\n",
    "mse = mean_squared_error(real_values, predicted_prices)\n",
    "mae = mean_absolute_error(real_values, predicted_prices)\n",
    "r2 = r2_score(real_values, predicted_prices)\n",
    "\n",
    "# Prepare data for visualization\n",
    "visualize = {\n",
    "    'real': real_values.flatten(),\n",
    "    'predicted': predicted_prices.flatten()\n",
    "}\n",
    "\n",
    "# Print evaluation metrics\n",
    "print(f\"MSE: {mse}, MAE: {mae}, R^2: {r2}\")\n",
    "\n",
    "# Create a DataFrame for visualization\n",
    "df_vis = pd.DataFrame(visualize)\n",
    "df_vis\n",
    "\n",
    "\n",
    "# results: MSE: 651167, MAE:671.39, R^2: 0.9786"
   ],
   "metadata": {
    "collapsed": false,
    "ExecuteTime": {
     "end_time": "2024-01-09T20:20:52.273327900Z",
     "start_time": "2024-01-09T20:20:49.316168800Z"
    }
   },
   "id": "9691f39b0eca6aeb",
   "execution_count": 18
  },
  {
   "cell_type": "code",
   "outputs": [
    {
     "name": "stdout",
     "output_type": "stream",
     "text": [
      "53/53 [==============================] - 2s 29ms/step\n",
      "Epoch 1/150\n",
      "106/106 [==============================] - 19s 64ms/step - loss: 0.6831 - accuracy: 0.5793 - lr: 5.0000e-04\n",
      "Epoch 2/150\n",
      "106/106 [==============================] - 6s 61ms/step - loss: 0.6773 - accuracy: 0.5924 - lr: 5.0000e-04\n",
      "Epoch 3/150\n",
      "106/106 [==============================] - 7s 62ms/step - loss: 0.6756 - accuracy: 0.6025 - lr: 5.0000e-04\n",
      "Epoch 4/150\n",
      "106/106 [==============================] - 7s 65ms/step - loss: 0.6739 - accuracy: 0.6055 - lr: 5.0000e-04\n",
      "Epoch 5/150\n",
      "106/106 [==============================] - 7s 64ms/step - loss: 0.6741 - accuracy: 0.5948 - lr: 5.0000e-04\n",
      "Epoch 6/150\n",
      "106/106 [==============================] - 7s 64ms/step - loss: 0.6664 - accuracy: 0.6013 - lr: 5.0000e-04\n",
      "Epoch 7/150\n",
      "106/106 [==============================] - 7s 64ms/step - loss: 0.6657 - accuracy: 0.5912 - lr: 5.0000e-04\n",
      "Epoch 8/150\n",
      "106/106 [==============================] - 7s 65ms/step - loss: 0.6660 - accuracy: 0.6078 - lr: 5.0000e-04\n",
      "Epoch 9/150\n",
      "106/106 [==============================] - 7s 62ms/step - loss: 0.6630 - accuracy: 0.6043 - lr: 5.0000e-04\n",
      "Epoch 10/150\n",
      "106/106 [==============================] - 7s 67ms/step - loss: 0.6701 - accuracy: 0.5918 - lr: 5.0000e-04\n",
      "Epoch 11/150\n",
      "106/106 [==============================] - 7s 64ms/step - loss: 0.6640 - accuracy: 0.6055 - lr: 5.0000e-04\n",
      "Epoch 12/150\n",
      "106/106 [==============================] - 7s 64ms/step - loss: 0.6561 - accuracy: 0.6072 - lr: 5.0000e-04\n",
      "Epoch 13/150\n",
      "106/106 [==============================] - 7s 63ms/step - loss: 0.6615 - accuracy: 0.6037 - lr: 5.0000e-04\n",
      "Epoch 14/150\n",
      "106/106 [==============================] - 7s 64ms/step - loss: 0.6575 - accuracy: 0.6007 - lr: 5.0000e-04\n",
      "Epoch 15/150\n",
      "106/106 [==============================] - 7s 64ms/step - loss: 0.6548 - accuracy: 0.6150 - lr: 5.0000e-04\n",
      "Epoch 16/150\n",
      "106/106 [==============================] - 7s 67ms/step - loss: 0.6540 - accuracy: 0.6120 - lr: 5.0000e-04\n",
      "Epoch 17/150\n",
      "106/106 [==============================] - 8s 72ms/step - loss: 0.6524 - accuracy: 0.6298 - lr: 5.0000e-04\n",
      "Epoch 18/150\n",
      "106/106 [==============================] - 7s 70ms/step - loss: 0.6499 - accuracy: 0.6191 - lr: 5.0000e-04\n",
      "Epoch 19/150\n",
      "106/106 [==============================] - 7s 65ms/step - loss: 0.6529 - accuracy: 0.6061 - lr: 5.0000e-04\n",
      "Epoch 20/150\n",
      "106/106 [==============================] - 7s 64ms/step - loss: 0.6373 - accuracy: 0.6280 - lr: 5.0000e-04\n",
      "Epoch 21/150\n",
      "106/106 [==============================] - 7s 62ms/step - loss: 0.6409 - accuracy: 0.6275 - lr: 5.0000e-04\n",
      "Epoch 22/150\n",
      "106/106 [==============================] - 7s 62ms/step - loss: 0.6350 - accuracy: 0.6150 - lr: 5.0000e-04\n",
      "Epoch 23/150\n",
      "106/106 [==============================] - 7s 69ms/step - loss: 0.6263 - accuracy: 0.6435 - lr: 5.0000e-04\n",
      "Epoch 24/150\n",
      "106/106 [==============================] - 7s 64ms/step - loss: 0.6284 - accuracy: 0.6364 - lr: 5.0000e-04\n",
      "Epoch 25/150\n",
      "106/106 [==============================] - 7s 63ms/step - loss: 0.6196 - accuracy: 0.6435 - lr: 5.0000e-04\n",
      "Epoch 26/150\n",
      "106/106 [==============================] - 7s 64ms/step - loss: 0.6156 - accuracy: 0.6387 - lr: 5.0000e-04\n",
      "Epoch 27/150\n",
      "106/106 [==============================] - 7s 65ms/step - loss: 0.6138 - accuracy: 0.6536 - lr: 5.0000e-04\n",
      "Epoch 28/150\n",
      "106/106 [==============================] - 7s 62ms/step - loss: 0.6039 - accuracy: 0.6619 - lr: 5.0000e-04\n",
      "Epoch 29/150\n",
      "106/106 [==============================] - 7s 62ms/step - loss: 0.6081 - accuracy: 0.6613 - lr: 5.0000e-04\n",
      "Epoch 30/150\n",
      "106/106 [==============================] - 7s 68ms/step - loss: 0.5989 - accuracy: 0.6583 - lr: 5.0000e-04\n",
      "Epoch 31/150\n",
      "106/106 [==============================] - 7s 67ms/step - loss: 0.5938 - accuracy: 0.6732 - lr: 5.0000e-04\n",
      "Epoch 32/150\n",
      "106/106 [==============================] - 7s 63ms/step - loss: 0.5829 - accuracy: 0.6869 - lr: 5.0000e-04\n",
      "Epoch 33/150\n",
      "106/106 [==============================] - 7s 64ms/step - loss: 0.5802 - accuracy: 0.6601 - lr: 5.0000e-04\n",
      "Epoch 34/150\n",
      "106/106 [==============================] - 7s 65ms/step - loss: 0.5774 - accuracy: 0.7035 - lr: 5.0000e-04\n",
      "Epoch 35/150\n",
      "106/106 [==============================] - 6s 61ms/step - loss: 0.5728 - accuracy: 0.6910 - lr: 5.0000e-04\n",
      "Epoch 36/150\n",
      "106/106 [==============================] - 7s 65ms/step - loss: 0.5711 - accuracy: 0.6958 - lr: 5.0000e-04\n",
      "Epoch 37/150\n",
      "106/106 [==============================] - 7s 69ms/step - loss: 0.5718 - accuracy: 0.6809 - lr: 5.0000e-04\n",
      "Epoch 38/150\n",
      "106/106 [==============================] - 7s 66ms/step - loss: 0.5565 - accuracy: 0.7017 - lr: 5.0000e-04\n",
      "Epoch 39/150\n",
      "106/106 [==============================] - 7s 68ms/step - loss: 0.5651 - accuracy: 0.7011 - lr: 5.0000e-04\n",
      "Epoch 40/150\n",
      "106/106 [==============================] - 8s 74ms/step - loss: 0.5634 - accuracy: 0.6934 - lr: 5.0000e-04\n",
      "Epoch 41/150\n",
      "106/106 [==============================] - 7s 68ms/step - loss: 0.5458 - accuracy: 0.7314 - lr: 5.0000e-04\n",
      "Epoch 42/150\n",
      "106/106 [==============================] - 8s 73ms/step - loss: 0.5664 - accuracy: 0.7071 - lr: 5.0000e-04\n",
      "Epoch 43/150\n",
      "106/106 [==============================] - 8s 73ms/step - loss: 0.5563 - accuracy: 0.7100 - lr: 5.0000e-04\n",
      "Epoch 44/150\n",
      "106/106 [==============================] - 7s 69ms/step - loss: 0.5469 - accuracy: 0.7207 - lr: 5.0000e-04\n",
      "Epoch 45/150\n",
      "106/106 [==============================] - 7s 68ms/step - loss: 0.5404 - accuracy: 0.7094 - lr: 5.0000e-04\n",
      "Epoch 46/150\n",
      "106/106 [==============================] - 7s 67ms/step - loss: 0.5396 - accuracy: 0.7255 - lr: 5.0000e-04\n",
      "Epoch 47/150\n",
      "106/106 [==============================] - 7s 70ms/step - loss: 0.5383 - accuracy: 0.7243 - lr: 5.0000e-04\n",
      "Epoch 48/150\n",
      "106/106 [==============================] - 7s 70ms/step - loss: 0.5317 - accuracy: 0.7267 - lr: 5.0000e-04\n",
      "Epoch 49/150\n",
      "106/106 [==============================] - 8s 75ms/step - loss: 0.5236 - accuracy: 0.7350 - lr: 5.0000e-04\n",
      "Epoch 50/150\n",
      "106/106 [==============================] - 8s 75ms/step - loss: 0.5334 - accuracy: 0.7267 - lr: 5.0000e-04\n",
      "Epoch 51/150\n",
      "106/106 [==============================] - 8s 77ms/step - loss: 0.5311 - accuracy: 0.7261 - lr: 5.0000e-04\n",
      "Epoch 52/150\n",
      "106/106 [==============================] - 8s 78ms/step - loss: 0.5335 - accuracy: 0.7267 - lr: 5.0000e-04\n",
      "Epoch 53/150\n",
      "106/106 [==============================] - 7s 68ms/step - loss: 0.5258 - accuracy: 0.7225 - lr: 5.0000e-04\n",
      "Epoch 54/150\n",
      "106/106 [==============================] - 7s 66ms/step - loss: 0.5090 - accuracy: 0.7415 - lr: 5.0000e-04\n",
      "Epoch 55/150\n",
      "106/106 [==============================] - 7s 65ms/step - loss: 0.5082 - accuracy: 0.7510 - lr: 5.0000e-04\n",
      "Epoch 56/150\n",
      "106/106 [==============================] - 7s 70ms/step - loss: 0.5055 - accuracy: 0.7463 - lr: 5.0000e-04\n",
      "Epoch 57/150\n",
      "106/106 [==============================] - 7s 66ms/step - loss: 0.5199 - accuracy: 0.7308 - lr: 5.0000e-04\n",
      "Epoch 58/150\n",
      "106/106 [==============================] - 7s 69ms/step - loss: 0.5041 - accuracy: 0.7493 - lr: 5.0000e-04\n",
      "Epoch 59/150\n",
      "106/106 [==============================] - 7s 67ms/step - loss: 0.5081 - accuracy: 0.7421 - lr: 5.0000e-04\n",
      "Epoch 60/150\n",
      "106/106 [==============================] - 8s 74ms/step - loss: 0.5119 - accuracy: 0.7481 - lr: 5.0000e-04\n",
      "Epoch 61/150\n",
      "106/106 [==============================] - 9s 85ms/step - loss: 0.5021 - accuracy: 0.7487 - lr: 5.0000e-04\n",
      "Epoch 62/150\n",
      "106/106 [==============================] - 7s 70ms/step - loss: 0.4949 - accuracy: 0.7605 - lr: 5.0000e-04\n",
      "Epoch 63/150\n",
      "106/106 [==============================] - 8s 72ms/step - loss: 0.4858 - accuracy: 0.7594 - lr: 5.0000e-04\n",
      "Epoch 64/150\n",
      "106/106 [==============================] - 7s 69ms/step - loss: 0.4994 - accuracy: 0.7510 - lr: 5.0000e-04\n",
      "Epoch 65/150\n",
      "106/106 [==============================] - 8s 71ms/step - loss: 0.4867 - accuracy: 0.7617 - lr: 5.0000e-04\n",
      "Epoch 66/150\n",
      "106/106 [==============================] - 7s 68ms/step - loss: 0.4951 - accuracy: 0.7594 - lr: 5.0000e-04\n",
      "Epoch 67/150\n",
      "106/106 [==============================] - 7s 69ms/step - loss: 0.4755 - accuracy: 0.7641 - lr: 5.0000e-04\n",
      "Epoch 68/150\n",
      "106/106 [==============================] - 7s 70ms/step - loss: 0.4818 - accuracy: 0.7588 - lr: 5.0000e-04\n",
      "Epoch 69/150\n",
      "106/106 [==============================] - 7s 70ms/step - loss: 0.4799 - accuracy: 0.7605 - lr: 5.0000e-04\n",
      "Epoch 70/150\n",
      "106/106 [==============================] - 7s 66ms/step - loss: 0.4959 - accuracy: 0.7576 - lr: 5.0000e-04\n",
      "Epoch 71/150\n",
      "106/106 [==============================] - 7s 67ms/step - loss: 0.4817 - accuracy: 0.7582 - lr: 5.0000e-04\n",
      "Epoch 72/150\n",
      "106/106 [==============================] - 7s 70ms/step - loss: 0.4702 - accuracy: 0.7718 - lr: 5.0000e-04\n",
      "Epoch 73/150\n",
      "106/106 [==============================] - 7s 71ms/step - loss: 0.4743 - accuracy: 0.7665 - lr: 5.0000e-04\n",
      "Epoch 74/150\n",
      "106/106 [==============================] - 7s 68ms/step - loss: 0.4669 - accuracy: 0.7712 - lr: 5.0000e-04\n",
      "Epoch 75/150\n",
      "106/106 [==============================] - 7s 65ms/step - loss: 0.4624 - accuracy: 0.7706 - lr: 5.0000e-04\n",
      "Epoch 76/150\n",
      "106/106 [==============================] - 7s 66ms/step - loss: 0.4661 - accuracy: 0.7772 - lr: 5.0000e-04\n",
      "Epoch 77/150\n",
      "106/106 [==============================] - 8s 72ms/step - loss: 0.5064 - accuracy: 0.7534 - lr: 5.0000e-04\n",
      "Epoch 78/150\n",
      "106/106 [==============================] - 7s 67ms/step - loss: 0.4704 - accuracy: 0.7730 - lr: 5.0000e-04\n",
      "Epoch 79/150\n",
      "106/106 [==============================] - 7s 70ms/step - loss: 0.4670 - accuracy: 0.7582 - lr: 5.0000e-04\n",
      "Epoch 80/150\n",
      "106/106 [==============================] - 7s 68ms/step - loss: 0.4595 - accuracy: 0.7926 - lr: 5.0000e-04\n",
      "Epoch 81/150\n",
      "106/106 [==============================] - 8s 74ms/step - loss: 0.5192 - accuracy: 0.7433 - lr: 5.0000e-04\n",
      "Epoch 82/150\n",
      "106/106 [==============================] - 7s 70ms/step - loss: 0.4726 - accuracy: 0.7742 - lr: 5.0000e-04\n",
      "Epoch 83/150\n",
      "106/106 [==============================] - 8s 73ms/step - loss: 0.4691 - accuracy: 0.7718 - lr: 5.0000e-04\n",
      "Epoch 84/150\n",
      "106/106 [==============================] - 7s 67ms/step - loss: 0.4570 - accuracy: 0.7843 - lr: 5.0000e-04\n",
      "Epoch 85/150\n",
      "106/106 [==============================] - 7s 69ms/step - loss: 0.4543 - accuracy: 0.7802 - lr: 5.0000e-04\n",
      "Epoch 86/150\n",
      "106/106 [==============================] - 7s 67ms/step - loss: 0.4526 - accuracy: 0.7766 - lr: 5.0000e-04\n",
      "Epoch 87/150\n",
      "106/106 [==============================] - 7s 69ms/step - loss: 0.4432 - accuracy: 0.7932 - lr: 5.0000e-04\n",
      "Epoch 88/150\n",
      "106/106 [==============================] - 7s 70ms/step - loss: 0.4442 - accuracy: 0.8051 - lr: 5.0000e-04\n",
      "Epoch 89/150\n",
      "106/106 [==============================] - 8s 71ms/step - loss: 0.4413 - accuracy: 0.7998 - lr: 5.0000e-04\n",
      "Epoch 90/150\n",
      "106/106 [==============================] - 7s 67ms/step - loss: 0.4416 - accuracy: 0.7825 - lr: 5.0000e-04\n",
      "Epoch 91/150\n",
      "106/106 [==============================] - 7s 67ms/step - loss: 0.4277 - accuracy: 0.8057 - lr: 5.0000e-04\n",
      "Epoch 92/150\n",
      "106/106 [==============================] - 7s 67ms/step - loss: 0.4525 - accuracy: 0.7778 - lr: 5.0000e-04\n",
      "Epoch 93/150\n",
      "106/106 [==============================] - 8s 72ms/step - loss: 0.4393 - accuracy: 0.7944 - lr: 5.0000e-04\n",
      "Epoch 94/150\n",
      "106/106 [==============================] - 8s 79ms/step - loss: 0.4269 - accuracy: 0.8027 - lr: 5.0000e-04\n",
      "Epoch 95/150\n",
      "106/106 [==============================] - 7s 70ms/step - loss: 0.4231 - accuracy: 0.7986 - lr: 5.0000e-04\n",
      "Epoch 96/150\n",
      "106/106 [==============================] - 7s 69ms/step - loss: 0.4246 - accuracy: 0.7986 - lr: 5.0000e-04\n",
      "Epoch 97/150\n",
      "106/106 [==============================] - 7s 65ms/step - loss: 0.4263 - accuracy: 0.8105 - lr: 5.0000e-04\n",
      "Epoch 98/150\n",
      "106/106 [==============================] - 7s 65ms/step - loss: 0.4159 - accuracy: 0.8093 - lr: 5.0000e-04\n",
      "Epoch 99/150\n",
      "106/106 [==============================] - 7s 69ms/step - loss: 0.4079 - accuracy: 0.8170 - lr: 5.0000e-04\n",
      "Epoch 100/150\n",
      "106/106 [==============================] - 7s 66ms/step - loss: 0.4288 - accuracy: 0.7968 - lr: 5.0000e-04\n",
      "Epoch 101/150\n",
      "106/106 [==============================] - 7s 67ms/step - loss: 0.4175 - accuracy: 0.8057 - lr: 5.0000e-04\n",
      "Epoch 102/150\n",
      "106/106 [==============================] - 7s 69ms/step - loss: 0.4041 - accuracy: 0.8134 - lr: 5.0000e-04\n",
      "Epoch 103/150\n",
      "106/106 [==============================] - 7s 68ms/step - loss: 0.4143 - accuracy: 0.8057 - lr: 5.0000e-04\n",
      "Epoch 104/150\n",
      "106/106 [==============================] - 7s 67ms/step - loss: 0.4028 - accuracy: 0.8200 - lr: 5.0000e-04\n",
      "Epoch 105/150\n",
      "106/106 [==============================] - 7s 70ms/step - loss: 0.4260 - accuracy: 0.8045 - lr: 5.0000e-04\n",
      "Epoch 106/150\n",
      "106/106 [==============================] - 7s 66ms/step - loss: 0.4055 - accuracy: 0.8122 - lr: 5.0000e-04\n",
      "Epoch 107/150\n",
      "106/106 [==============================] - 7s 68ms/step - loss: 0.3970 - accuracy: 0.8176 - lr: 5.0000e-04\n",
      "Epoch 108/150\n",
      "106/106 [==============================] - 7s 71ms/step - loss: 0.4113 - accuracy: 0.8116 - lr: 5.0000e-04\n",
      "Epoch 109/150\n",
      "106/106 [==============================] - 7s 69ms/step - loss: 0.3953 - accuracy: 0.8212 - lr: 5.0000e-04\n",
      "Epoch 110/150\n",
      "106/106 [==============================] - 7s 71ms/step - loss: 0.3942 - accuracy: 0.8140 - lr: 5.0000e-04\n",
      "Epoch 111/150\n",
      "106/106 [==============================] - 7s 67ms/step - loss: 0.4016 - accuracy: 0.8200 - lr: 5.0000e-04\n",
      "Epoch 112/150\n",
      "106/106 [==============================] - 7s 65ms/step - loss: 0.3838 - accuracy: 0.8283 - lr: 5.0000e-04\n",
      "Epoch 113/150\n",
      "106/106 [==============================] - 7s 65ms/step - loss: 0.3946 - accuracy: 0.8247 - lr: 5.0000e-04\n",
      "Epoch 114/150\n",
      "106/106 [==============================] - 7s 65ms/step - loss: 0.3716 - accuracy: 0.8324 - lr: 5.0000e-04\n",
      "Epoch 115/150\n",
      "106/106 [==============================] - 7s 68ms/step - loss: 0.3774 - accuracy: 0.8301 - lr: 5.0000e-04\n",
      "Epoch 116/150\n",
      "106/106 [==============================] - 7s 68ms/step - loss: 0.3967 - accuracy: 0.8164 - lr: 5.0000e-04\n",
      "Epoch 117/150\n",
      "106/106 [==============================] - 7s 68ms/step - loss: 0.3880 - accuracy: 0.8170 - lr: 5.0000e-04\n",
      "Epoch 118/150\n",
      "106/106 [==============================] - 7s 68ms/step - loss: 0.3777 - accuracy: 0.8330 - lr: 5.0000e-04\n",
      "Epoch 119/150\n",
      "106/106 [==============================] - 7s 67ms/step - loss: 0.4063 - accuracy: 0.8176 - lr: 5.0000e-04\n",
      "Epoch 120/150\n",
      "106/106 [==============================] - 8s 72ms/step - loss: 0.3717 - accuracy: 0.8271 - lr: 5.0000e-04\n",
      "Epoch 121/150\n",
      "106/106 [==============================] - 7s 71ms/step - loss: 0.3659 - accuracy: 0.8354 - lr: 5.0000e-04\n",
      "Epoch 122/150\n",
      "106/106 [==============================] - 8s 77ms/step - loss: 0.3612 - accuracy: 0.8324 - lr: 5.0000e-04\n",
      "Epoch 123/150\n",
      "106/106 [==============================] - 7s 66ms/step - loss: 0.3691 - accuracy: 0.8283 - lr: 5.0000e-04\n",
      "Epoch 124/150\n",
      "106/106 [==============================] - 8s 73ms/step - loss: 0.3723 - accuracy: 0.8336 - lr: 5.0000e-04\n",
      "Epoch 125/150\n",
      "106/106 [==============================] - 7s 66ms/step - loss: 0.3709 - accuracy: 0.8360 - lr: 5.0000e-04\n",
      "Epoch 126/150\n",
      "106/106 [==============================] - 7s 71ms/step - loss: 0.3897 - accuracy: 0.8223 - lr: 5.0000e-04\n",
      "Epoch 127/150\n",
      "106/106 [==============================] - 8s 78ms/step - loss: 0.3576 - accuracy: 0.8348 - lr: 5.0000e-04\n",
      "Epoch 128/150\n",
      "106/106 [==============================] - 9s 81ms/step - loss: 0.3526 - accuracy: 0.8431 - lr: 5.0000e-04\n",
      "Epoch 129/150\n",
      "106/106 [==============================] - 8s 78ms/step - loss: 0.3607 - accuracy: 0.8384 - lr: 5.0000e-04\n",
      "Epoch 130/150\n",
      "106/106 [==============================] - 7s 69ms/step - loss: 0.3711 - accuracy: 0.8396 - lr: 5.0000e-04\n",
      "Epoch 131/150\n",
      "106/106 [==============================] - 7s 67ms/step - loss: 0.3592 - accuracy: 0.8295 - lr: 5.0000e-04\n",
      "Epoch 132/150\n",
      "106/106 [==============================] - 7s 68ms/step - loss: 0.3665 - accuracy: 0.8414 - lr: 5.0000e-04\n",
      "Epoch 133/150\n",
      "106/106 [==============================] - 8s 76ms/step - loss: 0.3505 - accuracy: 0.8538 - lr: 5.0000e-04\n",
      "Epoch 134/150\n",
      "106/106 [==============================] - 7s 68ms/step - loss: 0.3543 - accuracy: 0.8503 - lr: 5.0000e-04\n",
      "Epoch 135/150\n",
      "106/106 [==============================] - 8s 72ms/step - loss: 0.3659 - accuracy: 0.8318 - lr: 5.0000e-04\n",
      "Epoch 136/150\n",
      "106/106 [==============================] - 8s 72ms/step - loss: 0.3502 - accuracy: 0.8408 - lr: 5.0000e-04\n",
      "Epoch 137/150\n",
      "106/106 [==============================] - 8s 72ms/step - loss: 0.3456 - accuracy: 0.8402 - lr: 5.0000e-04\n",
      "Epoch 138/150\n",
      "106/106 [==============================] - 7s 69ms/step - loss: 0.3462 - accuracy: 0.8515 - lr: 5.0000e-04\n",
      "Epoch 139/150\n",
      "106/106 [==============================] - 7s 67ms/step - loss: 0.3205 - accuracy: 0.8544 - lr: 5.0000e-04\n",
      "Epoch 140/150\n",
      "106/106 [==============================] - 8s 72ms/step - loss: 0.3331 - accuracy: 0.8604 - lr: 5.0000e-04\n",
      "Epoch 141/150\n",
      "106/106 [==============================] - 10s 92ms/step - loss: 0.3364 - accuracy: 0.8580 - lr: 5.0000e-04\n",
      "Epoch 142/150\n",
      "106/106 [==============================] - 8s 78ms/step - loss: 0.3325 - accuracy: 0.8509 - lr: 5.0000e-04\n",
      "Epoch 143/150\n",
      " 78/106 [=====================>........] - ETA: 2s - loss: 0.3431 - accuracy: 0.8518"
     ]
    },
    {
     "ename": "KeyboardInterrupt",
     "evalue": "",
     "output_type": "error",
     "traceback": [
      "\u001B[1;31m---------------------------------------------------------------------------\u001B[0m",
      "\u001B[1;31mKeyboardInterrupt\u001B[0m                         Traceback (most recent call last)",
      "Cell \u001B[1;32mIn[19], line 21\u001B[0m\n\u001B[0;32m     18\u001B[0m direction_model\u001B[38;5;241m.\u001B[39mcompile(optimizer\u001B[38;5;241m=\u001B[39mAdam(learning_rate\u001B[38;5;241m=\u001B[39m\u001B[38;5;241m0.0005\u001B[39m), loss\u001B[38;5;241m=\u001B[39m\u001B[38;5;124m'\u001B[39m\u001B[38;5;124mbinary_crossentropy\u001B[39m\u001B[38;5;124m'\u001B[39m, metrics\u001B[38;5;241m=\u001B[39m[\u001B[38;5;124m'\u001B[39m\u001B[38;5;124maccuracy\u001B[39m\u001B[38;5;124m'\u001B[39m])\n\u001B[0;32m     20\u001B[0m \u001B[38;5;66;03m# Обучение классификационной модели\u001B[39;00m\n\u001B[1;32m---> 21\u001B[0m \u001B[43mdirection_model\u001B[49m\u001B[38;5;241;43m.\u001B[39;49m\u001B[43mfit\u001B[49m\u001B[43m(\u001B[49m\u001B[43mX_train_direction\u001B[49m\u001B[43m,\u001B[49m\u001B[43m \u001B[49m\u001B[43mY_train_direction\u001B[49m\u001B[43m,\u001B[49m\u001B[43m \u001B[49m\u001B[43mepochs\u001B[49m\u001B[38;5;241;43m=\u001B[39;49m\u001B[38;5;241;43m150\u001B[39;49m\u001B[43m,\u001B[49m\u001B[43m \u001B[49m\u001B[43mbatch_size\u001B[49m\u001B[38;5;241;43m=\u001B[39;49m\u001B[38;5;241;43m16\u001B[39;49m\u001B[43m,\u001B[49m\u001B[43m \u001B[49m\u001B[43mcallbacks\u001B[49m\u001B[38;5;241;43m=\u001B[39;49m\u001B[43m[\u001B[49m\u001B[43mearly_stopping\u001B[49m\u001B[43m,\u001B[49m\u001B[43m \u001B[49m\u001B[43mreduce_lr\u001B[49m\u001B[43m]\u001B[49m\u001B[43m)\u001B[49m\n\u001B[0;32m     23\u001B[0m \u001B[38;5;66;03m# Предсказание направления движения цены на тестовых данных\u001B[39;00m\n\u001B[0;32m     24\u001B[0m \u001B[38;5;66;03m# Для этого сначала необходимо получить предсказанные цены моделью регрессии\u001B[39;00m\n\u001B[0;32m     25\u001B[0m predicted_test_prices \u001B[38;5;241m=\u001B[39m model\u001B[38;5;241m.\u001B[39mpredict(X_test)\n",
      "File \u001B[1;32m~\\AppData\\Local\\Packages\\PythonSoftwareFoundation.Python.3.11_qbz5n2kfra8p0\\LocalCache\\local-packages\\Python311\\site-packages\\keras\\src\\utils\\traceback_utils.py:65\u001B[0m, in \u001B[0;36mfilter_traceback.<locals>.error_handler\u001B[1;34m(*args, **kwargs)\u001B[0m\n\u001B[0;32m     63\u001B[0m filtered_tb \u001B[38;5;241m=\u001B[39m \u001B[38;5;28;01mNone\u001B[39;00m\n\u001B[0;32m     64\u001B[0m \u001B[38;5;28;01mtry\u001B[39;00m:\n\u001B[1;32m---> 65\u001B[0m     \u001B[38;5;28;01mreturn\u001B[39;00m \u001B[43mfn\u001B[49m\u001B[43m(\u001B[49m\u001B[38;5;241;43m*\u001B[39;49m\u001B[43margs\u001B[49m\u001B[43m,\u001B[49m\u001B[43m \u001B[49m\u001B[38;5;241;43m*\u001B[39;49m\u001B[38;5;241;43m*\u001B[39;49m\u001B[43mkwargs\u001B[49m\u001B[43m)\u001B[49m\n\u001B[0;32m     66\u001B[0m \u001B[38;5;28;01mexcept\u001B[39;00m \u001B[38;5;167;01mException\u001B[39;00m \u001B[38;5;28;01mas\u001B[39;00m e:\n\u001B[0;32m     67\u001B[0m     filtered_tb \u001B[38;5;241m=\u001B[39m _process_traceback_frames(e\u001B[38;5;241m.\u001B[39m__traceback__)\n",
      "File \u001B[1;32m~\\AppData\\Local\\Packages\\PythonSoftwareFoundation.Python.3.11_qbz5n2kfra8p0\\LocalCache\\local-packages\\Python311\\site-packages\\keras\\src\\engine\\training.py:1807\u001B[0m, in \u001B[0;36mModel.fit\u001B[1;34m(self, x, y, batch_size, epochs, verbose, callbacks, validation_split, validation_data, shuffle, class_weight, sample_weight, initial_epoch, steps_per_epoch, validation_steps, validation_batch_size, validation_freq, max_queue_size, workers, use_multiprocessing)\u001B[0m\n\u001B[0;32m   1799\u001B[0m \u001B[38;5;28;01mwith\u001B[39;00m tf\u001B[38;5;241m.\u001B[39mprofiler\u001B[38;5;241m.\u001B[39mexperimental\u001B[38;5;241m.\u001B[39mTrace(\n\u001B[0;32m   1800\u001B[0m     \u001B[38;5;124m\"\u001B[39m\u001B[38;5;124mtrain\u001B[39m\u001B[38;5;124m\"\u001B[39m,\n\u001B[0;32m   1801\u001B[0m     epoch_num\u001B[38;5;241m=\u001B[39mepoch,\n\u001B[1;32m   (...)\u001B[0m\n\u001B[0;32m   1804\u001B[0m     _r\u001B[38;5;241m=\u001B[39m\u001B[38;5;241m1\u001B[39m,\n\u001B[0;32m   1805\u001B[0m ):\n\u001B[0;32m   1806\u001B[0m     callbacks\u001B[38;5;241m.\u001B[39mon_train_batch_begin(step)\n\u001B[1;32m-> 1807\u001B[0m     tmp_logs \u001B[38;5;241m=\u001B[39m \u001B[38;5;28;43mself\u001B[39;49m\u001B[38;5;241;43m.\u001B[39;49m\u001B[43mtrain_function\u001B[49m\u001B[43m(\u001B[49m\u001B[43miterator\u001B[49m\u001B[43m)\u001B[49m\n\u001B[0;32m   1808\u001B[0m     \u001B[38;5;28;01mif\u001B[39;00m data_handler\u001B[38;5;241m.\u001B[39mshould_sync:\n\u001B[0;32m   1809\u001B[0m         context\u001B[38;5;241m.\u001B[39masync_wait()\n",
      "File \u001B[1;32m~\\AppData\\Local\\Packages\\PythonSoftwareFoundation.Python.3.11_qbz5n2kfra8p0\\LocalCache\\local-packages\\Python311\\site-packages\\tensorflow\\python\\util\\traceback_utils.py:150\u001B[0m, in \u001B[0;36mfilter_traceback.<locals>.error_handler\u001B[1;34m(*args, **kwargs)\u001B[0m\n\u001B[0;32m    148\u001B[0m filtered_tb \u001B[38;5;241m=\u001B[39m \u001B[38;5;28;01mNone\u001B[39;00m\n\u001B[0;32m    149\u001B[0m \u001B[38;5;28;01mtry\u001B[39;00m:\n\u001B[1;32m--> 150\u001B[0m   \u001B[38;5;28;01mreturn\u001B[39;00m \u001B[43mfn\u001B[49m\u001B[43m(\u001B[49m\u001B[38;5;241;43m*\u001B[39;49m\u001B[43margs\u001B[49m\u001B[43m,\u001B[49m\u001B[43m \u001B[49m\u001B[38;5;241;43m*\u001B[39;49m\u001B[38;5;241;43m*\u001B[39;49m\u001B[43mkwargs\u001B[49m\u001B[43m)\u001B[49m\n\u001B[0;32m    151\u001B[0m \u001B[38;5;28;01mexcept\u001B[39;00m \u001B[38;5;167;01mException\u001B[39;00m \u001B[38;5;28;01mas\u001B[39;00m e:\n\u001B[0;32m    152\u001B[0m   filtered_tb \u001B[38;5;241m=\u001B[39m _process_traceback_frames(e\u001B[38;5;241m.\u001B[39m__traceback__)\n",
      "File \u001B[1;32m~\\AppData\\Local\\Packages\\PythonSoftwareFoundation.Python.3.11_qbz5n2kfra8p0\\LocalCache\\local-packages\\Python311\\site-packages\\tensorflow\\python\\eager\\polymorphic_function\\polymorphic_function.py:832\u001B[0m, in \u001B[0;36mFunction.__call__\u001B[1;34m(self, *args, **kwds)\u001B[0m\n\u001B[0;32m    829\u001B[0m compiler \u001B[38;5;241m=\u001B[39m \u001B[38;5;124m\"\u001B[39m\u001B[38;5;124mxla\u001B[39m\u001B[38;5;124m\"\u001B[39m \u001B[38;5;28;01mif\u001B[39;00m \u001B[38;5;28mself\u001B[39m\u001B[38;5;241m.\u001B[39m_jit_compile \u001B[38;5;28;01melse\u001B[39;00m \u001B[38;5;124m\"\u001B[39m\u001B[38;5;124mnonXla\u001B[39m\u001B[38;5;124m\"\u001B[39m\n\u001B[0;32m    831\u001B[0m \u001B[38;5;28;01mwith\u001B[39;00m OptionalXlaContext(\u001B[38;5;28mself\u001B[39m\u001B[38;5;241m.\u001B[39m_jit_compile):\n\u001B[1;32m--> 832\u001B[0m   result \u001B[38;5;241m=\u001B[39m \u001B[38;5;28;43mself\u001B[39;49m\u001B[38;5;241;43m.\u001B[39;49m\u001B[43m_call\u001B[49m\u001B[43m(\u001B[49m\u001B[38;5;241;43m*\u001B[39;49m\u001B[43margs\u001B[49m\u001B[43m,\u001B[49m\u001B[43m \u001B[49m\u001B[38;5;241;43m*\u001B[39;49m\u001B[38;5;241;43m*\u001B[39;49m\u001B[43mkwds\u001B[49m\u001B[43m)\u001B[49m\n\u001B[0;32m    834\u001B[0m new_tracing_count \u001B[38;5;241m=\u001B[39m \u001B[38;5;28mself\u001B[39m\u001B[38;5;241m.\u001B[39mexperimental_get_tracing_count()\n\u001B[0;32m    835\u001B[0m without_tracing \u001B[38;5;241m=\u001B[39m (tracing_count \u001B[38;5;241m==\u001B[39m new_tracing_count)\n",
      "File \u001B[1;32m~\\AppData\\Local\\Packages\\PythonSoftwareFoundation.Python.3.11_qbz5n2kfra8p0\\LocalCache\\local-packages\\Python311\\site-packages\\tensorflow\\python\\eager\\polymorphic_function\\polymorphic_function.py:868\u001B[0m, in \u001B[0;36mFunction._call\u001B[1;34m(self, *args, **kwds)\u001B[0m\n\u001B[0;32m    865\u001B[0m   \u001B[38;5;28mself\u001B[39m\u001B[38;5;241m.\u001B[39m_lock\u001B[38;5;241m.\u001B[39mrelease()\n\u001B[0;32m    866\u001B[0m   \u001B[38;5;66;03m# In this case we have created variables on the first call, so we run the\u001B[39;00m\n\u001B[0;32m    867\u001B[0m   \u001B[38;5;66;03m# defunned version which is guaranteed to never create variables.\u001B[39;00m\n\u001B[1;32m--> 868\u001B[0m   \u001B[38;5;28;01mreturn\u001B[39;00m \u001B[43mtracing_compilation\u001B[49m\u001B[38;5;241;43m.\u001B[39;49m\u001B[43mcall_function\u001B[49m\u001B[43m(\u001B[49m\n\u001B[0;32m    869\u001B[0m \u001B[43m      \u001B[49m\u001B[43margs\u001B[49m\u001B[43m,\u001B[49m\u001B[43m \u001B[49m\u001B[43mkwds\u001B[49m\u001B[43m,\u001B[49m\u001B[43m \u001B[49m\u001B[38;5;28;43mself\u001B[39;49m\u001B[38;5;241;43m.\u001B[39;49m\u001B[43m_no_variable_creation_config\u001B[49m\n\u001B[0;32m    870\u001B[0m \u001B[43m  \u001B[49m\u001B[43m)\u001B[49m\n\u001B[0;32m    871\u001B[0m \u001B[38;5;28;01melif\u001B[39;00m \u001B[38;5;28mself\u001B[39m\u001B[38;5;241m.\u001B[39m_variable_creation_config \u001B[38;5;129;01mis\u001B[39;00m \u001B[38;5;129;01mnot\u001B[39;00m \u001B[38;5;28;01mNone\u001B[39;00m:\n\u001B[0;32m    872\u001B[0m   \u001B[38;5;66;03m# Release the lock early so that multiple threads can perform the call\u001B[39;00m\n\u001B[0;32m    873\u001B[0m   \u001B[38;5;66;03m# in parallel.\u001B[39;00m\n\u001B[0;32m    874\u001B[0m   \u001B[38;5;28mself\u001B[39m\u001B[38;5;241m.\u001B[39m_lock\u001B[38;5;241m.\u001B[39mrelease()\n",
      "File \u001B[1;32m~\\AppData\\Local\\Packages\\PythonSoftwareFoundation.Python.3.11_qbz5n2kfra8p0\\LocalCache\\local-packages\\Python311\\site-packages\\tensorflow\\python\\eager\\polymorphic_function\\tracing_compilation.py:139\u001B[0m, in \u001B[0;36mcall_function\u001B[1;34m(args, kwargs, tracing_options)\u001B[0m\n\u001B[0;32m    137\u001B[0m bound_args \u001B[38;5;241m=\u001B[39m function\u001B[38;5;241m.\u001B[39mfunction_type\u001B[38;5;241m.\u001B[39mbind(\u001B[38;5;241m*\u001B[39margs, \u001B[38;5;241m*\u001B[39m\u001B[38;5;241m*\u001B[39mkwargs)\n\u001B[0;32m    138\u001B[0m flat_inputs \u001B[38;5;241m=\u001B[39m function\u001B[38;5;241m.\u001B[39mfunction_type\u001B[38;5;241m.\u001B[39munpack_inputs(bound_args)\n\u001B[1;32m--> 139\u001B[0m \u001B[38;5;28;01mreturn\u001B[39;00m \u001B[43mfunction\u001B[49m\u001B[38;5;241;43m.\u001B[39;49m\u001B[43m_call_flat\u001B[49m\u001B[43m(\u001B[49m\u001B[43m  \u001B[49m\u001B[38;5;66;43;03m# pylint: disable=protected-access\u001B[39;49;00m\n\u001B[0;32m    140\u001B[0m \u001B[43m    \u001B[49m\u001B[43mflat_inputs\u001B[49m\u001B[43m,\u001B[49m\u001B[43m \u001B[49m\u001B[43mcaptured_inputs\u001B[49m\u001B[38;5;241;43m=\u001B[39;49m\u001B[43mfunction\u001B[49m\u001B[38;5;241;43m.\u001B[39;49m\u001B[43mcaptured_inputs\u001B[49m\n\u001B[0;32m    141\u001B[0m \u001B[43m\u001B[49m\u001B[43m)\u001B[49m\n",
      "File \u001B[1;32m~\\AppData\\Local\\Packages\\PythonSoftwareFoundation.Python.3.11_qbz5n2kfra8p0\\LocalCache\\local-packages\\Python311\\site-packages\\tensorflow\\python\\eager\\polymorphic_function\\concrete_function.py:1323\u001B[0m, in \u001B[0;36mConcreteFunction._call_flat\u001B[1;34m(self, tensor_inputs, captured_inputs)\u001B[0m\n\u001B[0;32m   1319\u001B[0m possible_gradient_type \u001B[38;5;241m=\u001B[39m gradients_util\u001B[38;5;241m.\u001B[39mPossibleTapeGradientTypes(args)\n\u001B[0;32m   1320\u001B[0m \u001B[38;5;28;01mif\u001B[39;00m (possible_gradient_type \u001B[38;5;241m==\u001B[39m gradients_util\u001B[38;5;241m.\u001B[39mPOSSIBLE_GRADIENT_TYPES_NONE\n\u001B[0;32m   1321\u001B[0m     \u001B[38;5;129;01mand\u001B[39;00m executing_eagerly):\n\u001B[0;32m   1322\u001B[0m   \u001B[38;5;66;03m# No tape is watching; skip to running the function.\u001B[39;00m\n\u001B[1;32m-> 1323\u001B[0m   \u001B[38;5;28;01mreturn\u001B[39;00m \u001B[38;5;28;43mself\u001B[39;49m\u001B[38;5;241;43m.\u001B[39;49m\u001B[43m_inference_function\u001B[49m\u001B[38;5;241;43m.\u001B[39;49m\u001B[43mcall_preflattened\u001B[49m\u001B[43m(\u001B[49m\u001B[43margs\u001B[49m\u001B[43m)\u001B[49m\n\u001B[0;32m   1324\u001B[0m forward_backward \u001B[38;5;241m=\u001B[39m \u001B[38;5;28mself\u001B[39m\u001B[38;5;241m.\u001B[39m_select_forward_and_backward_functions(\n\u001B[0;32m   1325\u001B[0m     args,\n\u001B[0;32m   1326\u001B[0m     possible_gradient_type,\n\u001B[0;32m   1327\u001B[0m     executing_eagerly)\n\u001B[0;32m   1328\u001B[0m forward_function, args_with_tangents \u001B[38;5;241m=\u001B[39m forward_backward\u001B[38;5;241m.\u001B[39mforward()\n",
      "File \u001B[1;32m~\\AppData\\Local\\Packages\\PythonSoftwareFoundation.Python.3.11_qbz5n2kfra8p0\\LocalCache\\local-packages\\Python311\\site-packages\\tensorflow\\python\\eager\\polymorphic_function\\atomic_function.py:216\u001B[0m, in \u001B[0;36mAtomicFunction.call_preflattened\u001B[1;34m(self, args)\u001B[0m\n\u001B[0;32m    214\u001B[0m \u001B[38;5;28;01mdef\u001B[39;00m \u001B[38;5;21mcall_preflattened\u001B[39m(\u001B[38;5;28mself\u001B[39m, args: Sequence[core\u001B[38;5;241m.\u001B[39mTensor]) \u001B[38;5;241m-\u001B[39m\u001B[38;5;241m>\u001B[39m Any:\n\u001B[0;32m    215\u001B[0m \u001B[38;5;250m  \u001B[39m\u001B[38;5;124;03m\"\"\"Calls with flattened tensor inputs and returns the structured output.\"\"\"\u001B[39;00m\n\u001B[1;32m--> 216\u001B[0m   flat_outputs \u001B[38;5;241m=\u001B[39m \u001B[38;5;28;43mself\u001B[39;49m\u001B[38;5;241;43m.\u001B[39;49m\u001B[43mcall_flat\u001B[49m\u001B[43m(\u001B[49m\u001B[38;5;241;43m*\u001B[39;49m\u001B[43margs\u001B[49m\u001B[43m)\u001B[49m\n\u001B[0;32m    217\u001B[0m   \u001B[38;5;28;01mreturn\u001B[39;00m \u001B[38;5;28mself\u001B[39m\u001B[38;5;241m.\u001B[39mfunction_type\u001B[38;5;241m.\u001B[39mpack_output(flat_outputs)\n",
      "File \u001B[1;32m~\\AppData\\Local\\Packages\\PythonSoftwareFoundation.Python.3.11_qbz5n2kfra8p0\\LocalCache\\local-packages\\Python311\\site-packages\\tensorflow\\python\\eager\\polymorphic_function\\atomic_function.py:251\u001B[0m, in \u001B[0;36mAtomicFunction.call_flat\u001B[1;34m(self, *args)\u001B[0m\n\u001B[0;32m    249\u001B[0m \u001B[38;5;28;01mwith\u001B[39;00m record\u001B[38;5;241m.\u001B[39mstop_recording():\n\u001B[0;32m    250\u001B[0m   \u001B[38;5;28;01mif\u001B[39;00m \u001B[38;5;28mself\u001B[39m\u001B[38;5;241m.\u001B[39m_bound_context\u001B[38;5;241m.\u001B[39mexecuting_eagerly():\n\u001B[1;32m--> 251\u001B[0m     outputs \u001B[38;5;241m=\u001B[39m \u001B[38;5;28;43mself\u001B[39;49m\u001B[38;5;241;43m.\u001B[39;49m\u001B[43m_bound_context\u001B[49m\u001B[38;5;241;43m.\u001B[39;49m\u001B[43mcall_function\u001B[49m\u001B[43m(\u001B[49m\n\u001B[0;32m    252\u001B[0m \u001B[43m        \u001B[49m\u001B[38;5;28;43mself\u001B[39;49m\u001B[38;5;241;43m.\u001B[39;49m\u001B[43mname\u001B[49m\u001B[43m,\u001B[49m\n\u001B[0;32m    253\u001B[0m \u001B[43m        \u001B[49m\u001B[38;5;28;43mlist\u001B[39;49m\u001B[43m(\u001B[49m\u001B[43margs\u001B[49m\u001B[43m)\u001B[49m\u001B[43m,\u001B[49m\n\u001B[0;32m    254\u001B[0m \u001B[43m        \u001B[49m\u001B[38;5;28;43mlen\u001B[39;49m\u001B[43m(\u001B[49m\u001B[38;5;28;43mself\u001B[39;49m\u001B[38;5;241;43m.\u001B[39;49m\u001B[43mfunction_type\u001B[49m\u001B[38;5;241;43m.\u001B[39;49m\u001B[43mflat_outputs\u001B[49m\u001B[43m)\u001B[49m\u001B[43m,\u001B[49m\n\u001B[0;32m    255\u001B[0m \u001B[43m    \u001B[49m\u001B[43m)\u001B[49m\n\u001B[0;32m    256\u001B[0m   \u001B[38;5;28;01melse\u001B[39;00m:\n\u001B[0;32m    257\u001B[0m     outputs \u001B[38;5;241m=\u001B[39m make_call_op_in_graph(\n\u001B[0;32m    258\u001B[0m         \u001B[38;5;28mself\u001B[39m,\n\u001B[0;32m    259\u001B[0m         \u001B[38;5;28mlist\u001B[39m(args),\n\u001B[0;32m    260\u001B[0m         \u001B[38;5;28mself\u001B[39m\u001B[38;5;241m.\u001B[39m_bound_context\u001B[38;5;241m.\u001B[39mfunction_call_options\u001B[38;5;241m.\u001B[39mas_attrs(),\n\u001B[0;32m    261\u001B[0m     )\n",
      "File \u001B[1;32m~\\AppData\\Local\\Packages\\PythonSoftwareFoundation.Python.3.11_qbz5n2kfra8p0\\LocalCache\\local-packages\\Python311\\site-packages\\tensorflow\\python\\eager\\context.py:1486\u001B[0m, in \u001B[0;36mContext.call_function\u001B[1;34m(self, name, tensor_inputs, num_outputs)\u001B[0m\n\u001B[0;32m   1484\u001B[0m cancellation_context \u001B[38;5;241m=\u001B[39m cancellation\u001B[38;5;241m.\u001B[39mcontext()\n\u001B[0;32m   1485\u001B[0m \u001B[38;5;28;01mif\u001B[39;00m cancellation_context \u001B[38;5;129;01mis\u001B[39;00m \u001B[38;5;28;01mNone\u001B[39;00m:\n\u001B[1;32m-> 1486\u001B[0m   outputs \u001B[38;5;241m=\u001B[39m \u001B[43mexecute\u001B[49m\u001B[38;5;241;43m.\u001B[39;49m\u001B[43mexecute\u001B[49m\u001B[43m(\u001B[49m\n\u001B[0;32m   1487\u001B[0m \u001B[43m      \u001B[49m\u001B[43mname\u001B[49m\u001B[38;5;241;43m.\u001B[39;49m\u001B[43mdecode\u001B[49m\u001B[43m(\u001B[49m\u001B[38;5;124;43m\"\u001B[39;49m\u001B[38;5;124;43mutf-8\u001B[39;49m\u001B[38;5;124;43m\"\u001B[39;49m\u001B[43m)\u001B[49m\u001B[43m,\u001B[49m\n\u001B[0;32m   1488\u001B[0m \u001B[43m      \u001B[49m\u001B[43mnum_outputs\u001B[49m\u001B[38;5;241;43m=\u001B[39;49m\u001B[43mnum_outputs\u001B[49m\u001B[43m,\u001B[49m\n\u001B[0;32m   1489\u001B[0m \u001B[43m      \u001B[49m\u001B[43minputs\u001B[49m\u001B[38;5;241;43m=\u001B[39;49m\u001B[43mtensor_inputs\u001B[49m\u001B[43m,\u001B[49m\n\u001B[0;32m   1490\u001B[0m \u001B[43m      \u001B[49m\u001B[43mattrs\u001B[49m\u001B[38;5;241;43m=\u001B[39;49m\u001B[43mattrs\u001B[49m\u001B[43m,\u001B[49m\n\u001B[0;32m   1491\u001B[0m \u001B[43m      \u001B[49m\u001B[43mctx\u001B[49m\u001B[38;5;241;43m=\u001B[39;49m\u001B[38;5;28;43mself\u001B[39;49m\u001B[43m,\u001B[49m\n\u001B[0;32m   1492\u001B[0m \u001B[43m  \u001B[49m\u001B[43m)\u001B[49m\n\u001B[0;32m   1493\u001B[0m \u001B[38;5;28;01melse\u001B[39;00m:\n\u001B[0;32m   1494\u001B[0m   outputs \u001B[38;5;241m=\u001B[39m execute\u001B[38;5;241m.\u001B[39mexecute_with_cancellation(\n\u001B[0;32m   1495\u001B[0m       name\u001B[38;5;241m.\u001B[39mdecode(\u001B[38;5;124m\"\u001B[39m\u001B[38;5;124mutf-8\u001B[39m\u001B[38;5;124m\"\u001B[39m),\n\u001B[0;32m   1496\u001B[0m       num_outputs\u001B[38;5;241m=\u001B[39mnum_outputs,\n\u001B[1;32m   (...)\u001B[0m\n\u001B[0;32m   1500\u001B[0m       cancellation_manager\u001B[38;5;241m=\u001B[39mcancellation_context,\n\u001B[0;32m   1501\u001B[0m   )\n",
      "File \u001B[1;32m~\\AppData\\Local\\Packages\\PythonSoftwareFoundation.Python.3.11_qbz5n2kfra8p0\\LocalCache\\local-packages\\Python311\\site-packages\\tensorflow\\python\\eager\\execute.py:53\u001B[0m, in \u001B[0;36mquick_execute\u001B[1;34m(op_name, num_outputs, inputs, attrs, ctx, name)\u001B[0m\n\u001B[0;32m     51\u001B[0m \u001B[38;5;28;01mtry\u001B[39;00m:\n\u001B[0;32m     52\u001B[0m   ctx\u001B[38;5;241m.\u001B[39mensure_initialized()\n\u001B[1;32m---> 53\u001B[0m   tensors \u001B[38;5;241m=\u001B[39m \u001B[43mpywrap_tfe\u001B[49m\u001B[38;5;241;43m.\u001B[39;49m\u001B[43mTFE_Py_Execute\u001B[49m\u001B[43m(\u001B[49m\u001B[43mctx\u001B[49m\u001B[38;5;241;43m.\u001B[39;49m\u001B[43m_handle\u001B[49m\u001B[43m,\u001B[49m\u001B[43m \u001B[49m\u001B[43mdevice_name\u001B[49m\u001B[43m,\u001B[49m\u001B[43m \u001B[49m\u001B[43mop_name\u001B[49m\u001B[43m,\u001B[49m\n\u001B[0;32m     54\u001B[0m \u001B[43m                                      \u001B[49m\u001B[43minputs\u001B[49m\u001B[43m,\u001B[49m\u001B[43m \u001B[49m\u001B[43mattrs\u001B[49m\u001B[43m,\u001B[49m\u001B[43m \u001B[49m\u001B[43mnum_outputs\u001B[49m\u001B[43m)\u001B[49m\n\u001B[0;32m     55\u001B[0m \u001B[38;5;28;01mexcept\u001B[39;00m core\u001B[38;5;241m.\u001B[39m_NotOkStatusException \u001B[38;5;28;01mas\u001B[39;00m e:\n\u001B[0;32m     56\u001B[0m   \u001B[38;5;28;01mif\u001B[39;00m name \u001B[38;5;129;01mis\u001B[39;00m \u001B[38;5;129;01mnot\u001B[39;00m \u001B[38;5;28;01mNone\u001B[39;00m:\n",
      "\u001B[1;31mKeyboardInterrupt\u001B[0m: "
     ]
    }
   ],
   "source": [
    "\n",
    "predicted_train_prices = model.predict(X_train)\n",
    "\n",
    "# Создание новой целевой переменной для направления движения цены\n",
    "# Если предсказанная цена больше текущей, то 1 (вверх), иначе 0 (вниз)\n",
    "Y_train_direction = np.where(predicted_train_prices[:-1].flatten() < Y_train[1:], 1, 0)\n",
    "\n",
    "# Теперь необходимо создать дополнительный датасет для обучения классификационной модели\n",
    "X_train_direction = X_train[1:]  # Убираем первый элемент, так как для него нет предсказания направления\n",
    "\n",
    "# Создание и обучение классификационной модели для предсказания направления\n",
    "direction_model = Sequential()\n",
    "direction_model.add(Bidirectional(GRU(128, return_sequences=True, input_shape=(look_back, n_features))))\n",
    "direction_model.add(Dropout(0.4)) \n",
    "direction_model.add(Bidirectional(GRU(64, return_sequences=False)))\n",
    "direction_model.add(Dropout(0.4))\n",
    "direction_model.add(Dense(1, activation='sigmoid'))  # Используем сигмоидальную функцию активации для классификации\n",
    "\n",
    "direction_model.compile(optimizer=Adam(learning_rate=0.0005), loss='binary_crossentropy', metrics=['accuracy'])\n",
    "\n",
    "# Обучение классификационной модели\n",
    "direction_model.fit(X_train_direction, Y_train_direction, epochs=150, batch_size=16, callbacks=[early_stopping, reduce_lr])\n",
    "\n",
    "# Предсказание направления движения цены на тестовых данных\n",
    "# Для этого сначала необходимо получить предсказанные цены моделью регрессии\n",
    "predicted_test_prices = model.predict(X_test)\n",
    "\n",
    "# Создание тестового набора для Y_test_direction\n",
    "Y_test_direction = np.where(predicted_test_prices[:-1].flatten() < Y_test[1:], 1, 0)\n",
    "X_test_direction = X_test[1:]  # Убираем первый элемент для соответствия Y_test_direction\n",
    "\n",
    "# Оценка классификационной модели на тестовых данных\n",
    "test_direction_accuracy = direction_model.evaluate(X_test_direction, Y_test_direction)\n"
   ],
   "metadata": {
    "collapsed": false,
    "ExecuteTime": {
     "end_time": "2024-01-09T20:38:27.956311700Z",
     "start_time": "2024-01-09T20:20:52.274327900Z"
    }
   },
   "id": "712228e359df7f04",
   "execution_count": 19
  },
  {
   "cell_type": "code",
   "outputs": [],
   "source": [
    "from keras.models import Sequential\n",
    "from keras.layers import Dense, GRU, Dropout, Bidirectional\n",
    "from keras.optimizers import Adam\n",
    "from keras.callbacks import EarlyStopping, ReduceLROnPlateau\n",
    "from sklearn.utils import class_weight\n",
    "import numpy as np\n",
    "import pandas as pd\n",
    "from sklearn.preprocessing import MinMaxScaler\n",
    "from sklearn.model_selection import train_test_split\n",
    "\n",
    "# Предположим, что df - ваш DataFrame, и он уже содержит все необходимые признаки\n",
    "# Включая 'Close', 'Volume', 'RSI', 'MACD' и другие технические индикаторы\n",
    "\n",
    "# Нормализация признаков\n",
    "scaler = MinMaxScaler(feature_range=(0, 1))\n",
    "scaled_data = scaler.fit_transform(df)\n",
    "\n",
    "# Создание целевой переменной для классификации\n",
    "df['Target'] = (df['Close'].shift(-1) > df['Close']).astype(int)\n",
    "\n",
    "# Определение функции для создания датасета\n",
    "def create_dataset(X, y, time_steps=1):\n",
    "    Xs, ys = [], []\n",
    "    for i in range(len(X) - time_steps):\n",
    "        Xs.append(X[i:(i + time_steps)])\n",
    "        ys.append(y[i + time_steps])\n",
    "    return np.array(Xs), np.array(ys)\n",
    "\n",
    "# Создание датасета\n",
    "time_steps = 60\n",
    "X, y = create_dataset(scaled_data, df['Target'].values, time_steps)\n",
    "X_train, X_test, y_train, y_test = train_test_split(X, y, test_size=0.2, random_state=0)\n",
    "\n",
    "# Расчет весов классов\n",
    "weights = class_weight.compute_class_weight('balanced', np.unique(y_train), y_train)\n",
    "class_weights = {i: weights[i] for i in range(2)}\n",
    "\n",
    "# Создание модели\n",
    "model = Sequential()\n",
    "model.add(Bidirectional(GRU(50, return_sequences=True, input_shape=(X_train.shape[1], X_train.shape[2]))))\n",
    "model.add(Dropout(0.2))\n",
    "model.add(Bidirectional(GRU(50)))\n",
    "model.add(Dropout(0.2))\n",
    "model.add(Dense(1, activation='sigmoid'))\n",
    "\n",
    "model.compile(optimizer=Adam(learning_rate=0.001), loss='binary_crossentropy', metrics=['accuracy'])\n",
    "\n",
    "# Обучение модели\n",
    "callbacks = [EarlyStopping(monitor='val_loss', patience=10),\n",
    "             ReduceLROnPlateau(monitor='val_loss', factor=0.2, patience=5, min_lr=0.00001)]\n",
    "\n",
    "history = model.fit(X_train, y_train, epochs=100, batch_size=32, \n",
    "                    validation_data=(X_test, y_test), \n",
    "                    class_weight=class_weights, callbacks=callbacks)\n"
   ],
   "metadata": {
    "collapsed": false,
    "ExecuteTime": {
     "end_time": "2024-01-09T20:38:27.985311500Z",
     "start_time": "2024-01-09T20:38:27.960310300Z"
    }
   },
   "id": "3e9ad35ed0ca2929",
   "execution_count": null
  },
  {
   "cell_type": "code",
   "outputs": [],
   "source": [
    "test_direction_accuracy"
   ],
   "metadata": {
    "collapsed": false,
    "ExecuteTime": {
     "start_time": "2024-01-09T20:38:27.964310600Z"
    }
   },
   "id": "5a0779023fc17c1",
   "execution_count": null
  },
  {
   "cell_type": "code",
   "outputs": [],
   "source": [
    "last_sequence = x_test[-1:]\n",
    "future_predictions = []\n",
    "\n",
    "for _ in range(10):\n",
    "    current_pred = model.predict(last_sequence)\n",
    "    future_predictions.append(current_pred[0, 0])\n",
    "\n",
    "    new_sequence = np.roll(last_sequence, -1, axis=1)\n",
    "    new_sequence[0, -1, :] = np.zeros(last_sequence.shape[2])\n",
    "    new_sequence[0, -1, 0] = current_pred[0, 0]  \n",
    "\n",
    "    last_sequence = new_sequence\n",
    "\n",
    "future_prices = scaler_price.inverse_transform(np.array(future_predictions).reshape(-1, 1))\n",
    "\n",
    "for i, price in enumerate(future_prices):\n",
    "    print(f\"Day {i + 1}: Predicted Price - {price[0]}\")"
   ],
   "metadata": {
    "collapsed": false,
    "ExecuteTime": {
     "start_time": "2024-01-09T20:38:27.970311400Z"
    }
   },
   "id": "a2055fe221c81f2f",
   "execution_count": null
  },
  {
   "cell_type": "code",
   "outputs": [],
   "source": [
    "df['SMA_50'] = df['Close'].rolling(window=50).mean()\n",
    "df['SMA_50'] = df['SMA_50'].fillna(method='bfill').fillna(method='ffill')\n",
    "\n",
    "df['SMA_200'] = df['Close'].rolling(window=200).mean()\n",
    "df['SMA_200'] = df['SMA_200'].fillna(method='bfill').fillna(method='ffill')"
   ],
   "metadata": {
    "collapsed": false,
    "ExecuteTime": {
     "start_time": "2024-01-09T20:38:27.975313200Z"
    }
   },
   "id": "7ba83752e785f073",
   "execution_count": null
  },
  {
   "cell_type": "code",
   "outputs": [],
   "source": [
    "# import plotly.graph_objs as go\n",
    "# from plotly.offline import plot\n",
    "# import matplotlib.pyplot as plt\n",
    "# \n",
    "# \n",
    "# real_data = go.Scatter(\n",
    "#     x=df.index, \n",
    "#     y=df['Close'], \n",
    "#     mode='lines',\n",
    "#     name='Real Data'\n",
    "# )\n",
    "# \n",
    "# predicted_data = go.Scatter(\n",
    "#     x=df.index, \n",
    "#     y=predicted_prices, \n",
    "#     mode='lines',\n",
    "#     name='Predicted Data'\n",
    "# )\n",
    "# \n",
    "# SMA_50 = go.Scatter(\n",
    "#     x=df.index, \n",
    "#     y=df['SMA_50'], \n",
    "#     mode='lines',\n",
    "#     name='50-period SMA',\n",
    "#     line=dict(color='orange')\n",
    "# )\n",
    "# \n",
    "# SMA_200 = go.Scatter(\n",
    "#     x=df.index, \n",
    "#     y=df['SMA_200'], \n",
    "#     mode='lines',\n",
    "#     name='200-period SMA',\n",
    "#     line=dict(color='green')\n",
    "# )\n",
    "# \n",
    "# signal_line = go.Scatter(\n",
    "#     x=df.index, \n",
    "#     y=df['Signal_Line'], \n",
    "#     mode='lines',\n",
    "#     name='Signal_Line',\n",
    "#     line=dict(color='#ee2122')\n",
    "# )\n",
    "# \n",
    "# MACD_histogram = go.Scatter(\n",
    "#     x=df.index, \n",
    "#     y=df['MACD_Histogram'], \n",
    "#     mode='lines',\n",
    "#     name='MACD_Histogram',\n",
    "#     line=dict(color='#f123e1')\n",
    "# )\n",
    "# \n",
    "# MACD = go.Scatter(\n",
    "#     x=df.index, \n",
    "#     y=df['MACD'], \n",
    "#     mode='lines',\n",
    "#     name='MACD',\n",
    "#     line=dict(color='#11bbbb')\n",
    "# )\n",
    "# \n",
    "# RSI = go.Scatter(\n",
    "#     x=df.index, \n",
    "#     y=df['RSI'], \n",
    "#     mode='lines',\n",
    "#     name='RSI',\n",
    "#     line=dict(color='#bb12bb')\n",
    "# )\n",
    "# \n",
    "# fig = go.Figure()\n",
    "# \n",
    "# fig.add_trace(real_data)\n",
    "# fig.add_trace(predicted_data)\n",
    "# fig.add_trace(SMA_50)\n",
    "# fig.add_trace(SMA_200)\n",
    "# fig.add_trace(signal_line)\n",
    "# fig.add_trace(MACD_histogram)\n",
    "# fig.add_trace(MACD)\n",
    "# fig.add_trace(RSI)\n",
    "# \n",
    "# fig.update_layout(\n",
    "#     title='BTC Real/Predicted with Moving Averages',\n",
    "#     xaxis_title='Time Periods',\n",
    "#     yaxis_title='Values',\n",
    "#     hovermode='x'\n",
    "# )\n",
    "# \n",
    "# plot(fig, filename='interactive_graph.html')\n"
   ],
   "metadata": {
    "collapsed": false,
    "ExecuteTime": {
     "start_time": "2024-01-09T20:38:27.981312700Z"
    }
   },
   "id": "3bbf42b567e32738",
   "execution_count": null
  },
  {
   "cell_type": "code",
   "outputs": [],
   "source": [
    "import pandas as pd\n",
    "import matplotlib.pyplot as plt\n",
    "\n",
    "# Определение SMA\n",
    "df['SMA_50'] = df['Close'].rolling(window=50).mean().bfill().ffill()\n",
    "df['SMA_200'] = df['Close'].rolling(window=200).mean().bfill().ffill()\n",
    "\n",
    "# Расчет индекса для предсказанных цен\n",
    "start_point = training_data_len + sequence_length\n",
    "end_point = start_point + len(predicted_prices)\n",
    "predicted_index = df.index[start_point:end_point]\n",
    "\n",
    "# Создание DataFrame для предсказанных цен\n",
    "# Предполагаем, что predicted_prices - это массив numpy, полученный после обратного масштабирования\n",
    "predicted_df = pd.DataFrame(predicted_prices, index=predicted_index, columns=['Predicted'])\n",
    "\n",
    "# Визуализация\n",
    "plt.figure(figsize=(14, 7))\n",
    "plt.plot(df['Close'], label='Real Data')\n",
    "plt.plot(predicted_df['Predicted'], label='Predicted Data')\n",
    "\n",
    "# Ваши линии для SMA, если вы хотите их добавить\n",
    "# plt.plot(df['SMA_50'], label='50-period SMA', color='orange') \n",
    "# plt.plot(df['SMA_200'], label='200-period SMA', color='green')\n",
    "\n",
    "# Настройки графика\n",
    "plt.title('BTC Real/Predicted with Moving Averages')\n",
    "plt.xlabel('Time Periods')\n",
    "plt.ylabel('Values')\n",
    "plt.legend()\n",
    "\n",
    "# Отображение графика\n",
    "plt.show()\n"
   ],
   "metadata": {
    "collapsed": false,
    "ExecuteTime": {
     "end_time": "2024-01-09T20:38:27.989314500Z",
     "start_time": "2024-01-09T20:38:27.986316800Z"
    }
   },
   "id": "43b773578af09ce4",
   "execution_count": null
  },
  {
   "cell_type": "code",
   "outputs": [],
   "source": [
    "import plotly.graph_objs as go\n",
    "from plotly.offline import plot\n",
    "import matplotlib.pyplot as plt\n",
    "\n",
    "predicted_index = df.index[start_point:end_point]\n",
    "predicted_prices_series = pd.Series(predicted_prices.flatten(), index=predicted_index)\n",
    "\n",
    "df['SMA_50'] = df['Close'].rolling(window=50).mean()\n",
    "df['SMA_50'] = df['SMA_50'].fillna(method='bfill').fillna(method='ffill')\n",
    "\n",
    "df['SMA_200'] = df['Close'].rolling(window=200).mean()\n",
    "df['SMA_200'] = df['SMA_200'].fillna(method='bfill').fillna(method='ffill')\n",
    "\n",
    "real_data = go.Scatter(\n",
    "    x=df.index,\n",
    "    y=df['Close'],\n",
    "    mode='lines',\n",
    "    name='Real Data'\n",
    ")\n",
    "\n",
    "predicted_data = go.Scatter(\n",
    "    x=predicted_index,\n",
    "    y=predicted_prices_series,\n",
    "    mode='lines',\n",
    "    name='Predicted Data'\n",
    ")\n",
    "\n",
    "SMA_50 = go.Scatter(\n",
    "    x=df.index,\n",
    "    y=df['SMA_50'],\n",
    "    mode='lines',\n",
    "    name='50-period SMA',\n",
    "    line=dict(color='orange')\n",
    ")\n",
    "\n",
    "SMA_200 = go.Scatter(\n",
    "    x=df.index,\n",
    "    y=df['SMA_200'],\n",
    "    mode='lines',\n",
    "    name='200-period SMA',\n",
    "    line=dict(color='green')\n",
    ")\n",
    "\n",
    "signal_line = go.Scatter(\n",
    "    x=df.index,\n",
    "    y=df['Signal_Line'],\n",
    "    mode='lines',\n",
    "    name='Signal_Line',\n",
    "    line=dict(color='#ee2122')\n",
    ")\n",
    "\n",
    "MACD_histogram = go.Scatter(\n",
    "    x=df.index,\n",
    "    y=df['MACD_Histogram'],\n",
    "    mode='lines',\n",
    "    name='MACD_Histogram',\n",
    "    line=dict(color='#f123e1')\n",
    ")\n",
    "\n",
    "MACD = go.Scatter(\n",
    "    x=df.index,\n",
    "    y=df['MACD'],\n",
    "    mode='lines',\n",
    "    name='MACD',\n",
    "    line=dict(color='#11bbbb')\n",
    ")\n",
    "\n",
    "RSI = go.Scatter(\n",
    "    x=df.index,\n",
    "    y=df['RSI'],\n",
    "    mode='lines',\n",
    "    name='RSI',\n",
    "    line=dict(color='#bb12bb')\n",
    ")\n",
    "\n",
    "fig = go.Figure()\n",
    "\n",
    "fig.add_trace(real_data)\n",
    "fig.add_trace(predicted_data)\n",
    "fig.add_trace(SMA_50)\n",
    "fig.add_trace(SMA_200)\n",
    "fig.add_trace(signal_line)\n",
    "fig.add_trace(MACD_histogram)\n",
    "fig.add_trace(MACD)\n",
    "fig.add_trace(RSI)\n",
    "\n",
    "fig.update_layout(\n",
    "    title='BTC Real/Predicted with Moving Averages',\n",
    "    xaxis_title='Time Periods',\n",
    "    yaxis_title='Values',\n",
    "    hovermode='x'\n",
    ")\n",
    "\n",
    "plot(fig, filename='interactive_graph.html')\n"
   ],
   "metadata": {
    "collapsed": false,
    "ExecuteTime": {
     "start_time": "2024-01-09T20:38:27.989314500Z"
    }
   },
   "id": "56c2e11e2e55b390",
   "execution_count": null
  },
  {
   "cell_type": "code",
   "outputs": [],
   "source": [
    "# # Предполагаем, что df_scaled - это ваш масштабированный DataFrame\n",
    "# features_importance = {}\n",
    "# original_features = features_columns.copy()\n",
    "# \n",
    "# for feature in original_features:\n",
    "#     # Удалить признак из набора данных\n",
    "#     temp_features = original_features.copy()\n",
    "#     temp_features.remove(feature)\n",
    "#     temp_df_scaled = df_scaled[temp_features]\n",
    "# \n",
    "#     # Подготовить новые наборы данных\n",
    "#     x_train_temp, y_train_temp = create_dataset(temp_df_scaled[:training_data_len], sequence_length)\n",
    "#     x_test_temp, y_test_temp = create_dataset(temp_df_scaled[training_data_len:], sequence_length)\n",
    "# \n",
    "#     # Обучить модель\n",
    "#     temp_model = build_model(sequence_length, len(temp_features))  # функция build_model должна быть определена\n",
    "#     temp_model.fit(x_train_temp, y_train_temp, epochs=100, batch_size=32, validation_data=(x_test_temp, y_test_temp), callbacks=[early_stopping, model_checkpoint])\n",
    "# \n",
    "#     # Оценить производительность\n",
    "#     predictions_temp = temp_model.predict(x_test_temp)\n",
    "#     mse_temp = mean_squared_error(y_test_temp, predictions_temp)\n",
    "# \n",
    "#     # Сохранить изменение производительности\n",
    "#     features_importance[feature] = baseline_mse - mse_temp\n",
    "# \n",
    "# # Отобразить изменение производительности\n",
    "# plt.barh(range(len(features_importance)), list(features_importance.values()), align='center')\n",
    "# plt.yticks(range(len(features_importance)), list(features_importance.keys()))\n",
    "# plt.xlabel('Изменение MSE')\n",
    "# plt.title('Изменение производительности после удаления признака')\n",
    "# plt.show()\n"
   ],
   "metadata": {
    "collapsed": false,
    "ExecuteTime": {
     "end_time": "2024-01-09T20:38:28.035319900Z",
     "start_time": "2024-01-09T20:38:27.993312Z"
    }
   },
   "id": "918773a5df22dd7",
   "execution_count": null
  }
 ],
 "metadata": {
  "kernelspec": {
   "display_name": "Python 3",
   "language": "python",
   "name": "python3"
  },
  "language_info": {
   "codemirror_mode": {
    "name": "ipython",
    "version": 2
   },
   "file_extension": ".py",
   "mimetype": "text/x-python",
   "name": "python",
   "nbconvert_exporter": "python",
   "pygments_lexer": "ipython2",
   "version": "2.7.6"
  }
 },
 "nbformat": 4,
 "nbformat_minor": 5
}
