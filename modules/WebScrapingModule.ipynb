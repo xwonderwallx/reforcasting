{
 "cells": [
  {
   "cell_type": "code",
   "outputs": [
    {
     "name": "stdout",
     "output_type": "stream",
     "text": [
      "average_sentiment: 0.02699238695459116\n",
      "Общий настрой рынка: Позитивный\n"
     ]
    }
   ],
   "source": [
    "from modules.WebScraper import WebScraper\n",
    "from textblob import TextBlob\n",
    "import numpy as np\n",
    "\n",
    "sentiments = []\n",
    "\n",
    "scraper = WebScraper()\n",
    "news = scraper.search_and_scrape('bitcoin 24.02.2022')\n",
    "\n",
    "for article in news:\n",
    "    for paragraph in article:\n",
    "        blob = TextBlob(paragraph)\n",
    "        sentiments.append(blob.sentiment.polarity)\n",
    "\n",
    "average_sentiment = np.mean(sentiments)\n",
    "\n",
    "print(f\"average_sentiment: {average_sentiment}\")\n",
    "\n",
    "if average_sentiment > 0:\n",
    "    print(\"Общий настрой рынка: Позитивный\")\n",
    "elif average_sentiment < 0:\n",
    "    print(\"Общий настрой рынка: Негативный\")\n",
    "else:\n",
    "    print(\"Общий настрой рынка: Нейтральный\")\n"
   ],
   "metadata": {
    "collapsed": false,
    "ExecuteTime": {
     "end_time": "2024-01-09T20:11:14.581396Z",
     "start_time": "2024-01-09T20:10:47.792207600Z"
    }
   },
   "id": "df0e430e62c419c5",
   "execution_count": 27
  },
  {
   "cell_type": "code",
   "outputs": [
    {
     "name": "stdout",
     "output_type": "stream",
     "text": [
      "Negative: -0.9275\n",
      "Negative: -0.9288\n",
      "Positive: 0.9637\n",
      "Negative: -0.2494\n",
      "Positive: 0.9857\n",
      "Negative: -0.9779\n",
      "Negative: -0.5023\n",
      "Positive: 0.9994\n",
      "Positive: 0.7191\n",
      "Positive: 0.999\n",
      "Total Positive: 4.6669\n",
      "Total Negative: 3.5859\n",
      "Total Neutral: 0\n"
     ]
    }
   ],
   "source": [
    "from vaderSentiment.vaderSentiment import SentimentIntensityAnalyzer\n",
    "\n",
    "analyzer = SentimentIntensityAnalyzer()\n",
    "\n",
    "positive = 0\n",
    "negative = 0\n",
    "neutral = 0\n",
    "\n",
    "for text in news:\n",
    "    sentiment = analyzer.polarity_scores(text)\n",
    "    \n",
    "    if sentiment['compound'] >= 0.05:\n",
    "        positive += sentiment['compound']\n",
    "        print(f\"Positive: {sentiment['compound']}\")\n",
    "    elif sentiment['compound'] <= -0.05:\n",
    "        negative -= sentiment['compound']\n",
    "        print(f\"Negative: {sentiment['compound']}\")\n",
    "    else:\n",
    "        neutral += sentiment['compound']\n",
    "        print(f\"Neutral: {sentiment['compound']}\")\n",
    "        \n",
    "print(f'Total Positive: {positive}')\n",
    "print(f'Total Negative: {negative}')\n",
    "print(f'Total Neutral: {neutral}')\n"
   ],
   "metadata": {
    "collapsed": false,
    "ExecuteTime": {
     "end_time": "2024-01-09T20:13:05.346476600Z",
     "start_time": "2024-01-09T20:13:04.326595700Z"
    }
   },
   "id": "281f16740985ed90",
   "execution_count": 32
  }
 ],
 "metadata": {
  "kernelspec": {
   "display_name": "Python 3",
   "language": "python",
   "name": "python3"
  },
  "language_info": {
   "codemirror_mode": {
    "name": "ipython",
    "version": 2
   },
   "file_extension": ".py",
   "mimetype": "text/x-python",
   "name": "python",
   "nbconvert_exporter": "python",
   "pygments_lexer": "ipython2",
   "version": "2.7.6"
  }
 },
 "nbformat": 4,
 "nbformat_minor": 5
}
