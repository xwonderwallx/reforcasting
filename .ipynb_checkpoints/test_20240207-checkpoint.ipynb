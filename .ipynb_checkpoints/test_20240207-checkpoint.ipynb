{
 "cells": [
  {
   "cell_type": "code",
   "outputs": [],
   "source": [],
   "metadata": {
    "collapsed": false,
    "ExecuteTime": {
     "end_time": "2024-02-21T16:53:14.695684500Z",
     "start_time": "2024-02-21T16:53:14.639682100Z"
    }
   },
   "id": "f73adb1c54bdd2c",
   "execution_count": null
  },
  {
   "cell_type": "code",
   "outputs": [
    {
     "name": "stdout",
     "output_type": "stream",
     "text": [
      "WARNING:tensorflow:From E:\\_programming\\projects\\reforecast_model\\venv\\lib\\site-packages\\keras\\src\\losses.py:2976: The name tf.losses.sparse_softmax_cross_entropy is deprecated. Please use tf.compat.v1.losses.sparse_softmax_cross_entropy instead.\n",
      "binance\n"
     ]
    },
    {
     "ename": "FileNotFoundError",
     "evalue": "[Errno 2] No such file or directory: './includes/config.json'",
     "output_type": "error",
     "traceback": [
      "\u001B[1;31m---------------------------------------------------------------------------\u001B[0m",
      "\u001B[1;31mFileNotFoundError\u001B[0m                         Traceback (most recent call last)",
      "Cell \u001B[1;32mIn[1], line 4\u001B[0m\n\u001B[0;32m      1\u001B[0m \u001B[38;5;28;01mfrom\u001B[39;00m \u001B[38;5;21;01msrc\u001B[39;00m\u001B[38;5;21;01m.\u001B[39;00m\u001B[38;5;21;01mbase\u001B[39;00m\u001B[38;5;21;01m.\u001B[39;00m\u001B[38;5;21;01menums\u001B[39;00m\u001B[38;5;21;01m.\u001B[39;00m\u001B[38;5;21;01mmain\u001B[39;00m\u001B[38;5;21;01m.\u001B[39;00m\u001B[38;5;21;01mModules\u001B[39;00m \u001B[38;5;28;01mimport\u001B[39;00m Modules\n\u001B[0;32m      2\u001B[0m \u001B[38;5;28;01mfrom\u001B[39;00m \u001B[38;5;21;01msrc\u001B[39;00m\u001B[38;5;21;01m.\u001B[39;00m\u001B[38;5;21;01mmodules\u001B[39;00m\u001B[38;5;21;01m.\u001B[39;00m\u001B[38;5;21;01mml\u001B[39;00m\u001B[38;5;21;01m.\u001B[39;00m\u001B[38;5;21;01mcdata\u001B[39;00m\u001B[38;5;21;01m.\u001B[39;00m\u001B[38;5;21;01mV2\u001B[39;00m\u001B[38;5;21;01m.\u001B[39;00m\u001B[38;5;21;01mclasses\u001B[39;00m\u001B[38;5;21;01m.\u001B[39;00m\u001B[38;5;21;01mTrainer\u001B[39;00m \u001B[38;5;28;01mimport\u001B[39;00m Trainer\n\u001B[1;32m----> 4\u001B[0m trainer \u001B[38;5;241m=\u001B[39m \u001B[43mTrainer\u001B[49m\u001B[43m(\u001B[49m\u001B[43mml_module_name\u001B[49m\u001B[38;5;241;43m=\u001B[39;49m\u001B[43mModules\u001B[49m\u001B[38;5;241;43m.\u001B[39;49m\u001B[43mCData\u001B[49m\u001B[43m)\u001B[49m\n",
      "File \u001B[1;32mE:\\_programming\\projects\\reforecast_model\\src\\base\\classes\\BaseTrainer.py:49\u001B[0m, in \u001B[0;36mBaseTrainer.__init__\u001B[1;34m(self, ml_module_name)\u001B[0m\n\u001B[0;32m     47\u001B[0m \u001B[38;5;28;01mdef\u001B[39;00m \u001B[38;5;21m__init__\u001B[39m(\u001B[38;5;28mself\u001B[39m, ml_module_name: Modules \u001B[38;5;241m=\u001B[39m Modules\u001B[38;5;241m.\u001B[39mCData):\n\u001B[0;32m     48\u001B[0m     \u001B[38;5;66;03m# TODO set another sourceMarkets to the config file\u001B[39;00m\n\u001B[1;32m---> 49\u001B[0m     \u001B[38;5;28mself\u001B[39m\u001B[38;5;241m.\u001B[39m_dataset_paths \u001B[38;5;241m=\u001B[39m \u001B[43mExchangeDataHelper\u001B[49m\u001B[38;5;241;43m.\u001B[39;49m\u001B[43mpaths_to_trading_pairs_exchange_data\u001B[49m\u001B[43m(\u001B[49m\n\u001B[0;32m     50\u001B[0m \u001B[43m        \u001B[49m\u001B[43msource_market\u001B[49m\u001B[38;5;241;43m=\u001B[39;49m\u001B[43mSourceMarket\u001B[49m\u001B[38;5;241;43m.\u001B[39;49m\u001B[43mBinance\u001B[49m\u001B[43m)\u001B[49m  \u001B[38;5;66;03m# List of paths to CSV files\u001B[39;00m\n\u001B[0;32m     51\u001B[0m     \u001B[38;5;28mself\u001B[39m\u001B[38;5;241m.\u001B[39m_timer \u001B[38;5;241m=\u001B[39m Timer()\n\u001B[0;32m     52\u001B[0m     \u001B[38;5;28mself\u001B[39m\u001B[38;5;241m.\u001B[39m_ml_helper \u001B[38;5;241m=\u001B[39m MLConfig(ml_module_name\u001B[38;5;241m=\u001B[39mml_module_name)\n",
      "File \u001B[1;32mE:\\_programming\\projects\\reforecast_model\\src\\base\\helpers\\ExchangeDataHelper.py:54\u001B[0m, in \u001B[0;36mExchangeDataHelper.paths_to_trading_pairs_exchange_data\u001B[1;34m(source_market)\u001B[0m\n\u001B[0;32m     52\u001B[0m \u001B[38;5;129m@staticmethod\u001B[39m\n\u001B[0;32m     53\u001B[0m \u001B[38;5;28;01mdef\u001B[39;00m \u001B[38;5;21mpaths_to_trading_pairs_exchange_data\u001B[39m(source_market: SourceMarket \u001B[38;5;241m=\u001B[39m SourceMarket\u001B[38;5;241m.\u001B[39mBinance):\n\u001B[1;32m---> 54\u001B[0m     trading_pairs \u001B[38;5;241m=\u001B[39m \u001B[43mExchangeDataHelper\u001B[49m\u001B[38;5;241;43m.\u001B[39;49m\u001B[43msource_market_trading_pairs\u001B[49m\u001B[43m(\u001B[49m\u001B[43msource_market\u001B[49m\u001B[38;5;241;43m=\u001B[39;49m\u001B[43msource_market\u001B[49m\u001B[38;5;241;43m.\u001B[39;49m\u001B[43mvalue\u001B[49m\u001B[43m)\u001B[49m\n\u001B[0;32m     55\u001B[0m     exchange_data_folder_path \u001B[38;5;241m=\u001B[39m ExchangeDataHelper\u001B[38;5;241m.\u001B[39mpath_to_exchange_data_folder()\n\u001B[0;32m     56\u001B[0m     paths \u001B[38;5;241m=\u001B[39m []\n",
      "File \u001B[1;32mE:\\_programming\\projects\\reforecast_model\\src\\base\\helpers\\ExchangeDataHelper.py:50\u001B[0m, in \u001B[0;36mExchangeDataHelper.source_market_trading_pairs\u001B[1;34m(source_market)\u001B[0m\n\u001B[0;32m     47\u001B[0m \u001B[38;5;129m@staticmethod\u001B[39m\n\u001B[0;32m     48\u001B[0m \u001B[38;5;28;01mdef\u001B[39;00m \u001B[38;5;21msource_market_trading_pairs\u001B[39m(source_market: SourceMarket \u001B[38;5;241m=\u001B[39m SourceMarket\u001B[38;5;241m.\u001B[39mBinance):\n\u001B[0;32m     49\u001B[0m     \u001B[38;5;28mprint\u001B[39m(source_market)\n\u001B[1;32m---> 50\u001B[0m     \u001B[38;5;28;01mreturn\u001B[39;00m \u001B[43mConfig\u001B[49m\u001B[43m(\u001B[49m\u001B[43m)\u001B[49m\u001B[38;5;241m.\u001B[39mtrading_pairs[source_market]\n",
      "File \u001B[1;32mE:\\_programming\\projects\\reforecast_model\\src\\base\\services\\Config.py:37\u001B[0m, in \u001B[0;36mConfig.__init__\u001B[1;34m(self)\u001B[0m\n\u001B[0;32m     32\u001B[0m \u001B[38;5;28;01mdef\u001B[39;00m \u001B[38;5;21m__init__\u001B[39m(\u001B[38;5;28mself\u001B[39m):\n\u001B[0;32m     33\u001B[0m \u001B[38;5;250m    \u001B[39m\u001B[38;5;124;03m\"\"\"\u001B[39;00m\n\u001B[0;32m     34\u001B[0m \u001B[38;5;124;03m    Initializes the Config object by loading the configuration from the `Settings` service.\u001B[39;00m\n\u001B[0;32m     35\u001B[0m \u001B[38;5;124;03m    The configuration is expected to be a dictionary with nested dictionaries for various settings.\u001B[39;00m\n\u001B[0;32m     36\u001B[0m \u001B[38;5;124;03m    \"\"\"\u001B[39;00m\n\u001B[1;32m---> 37\u001B[0m     \u001B[38;5;28mself\u001B[39m\u001B[38;5;241m.\u001B[39m__config \u001B[38;5;241m=\u001B[39m \u001B[43mSettings\u001B[49m\u001B[38;5;241;43m.\u001B[39;49m\u001B[43mget\u001B[49m\u001B[43m(\u001B[49m\u001B[43m)\u001B[49m[\u001B[38;5;124m'\u001B[39m\u001B[38;5;124mconfiguration\u001B[39m\u001B[38;5;124m'\u001B[39m]\n\u001B[0;32m     38\u001B[0m     \u001B[38;5;28mself\u001B[39m\u001B[38;5;241m.\u001B[39m__paths \u001B[38;5;241m=\u001B[39m \u001B[38;5;28mself\u001B[39m\u001B[38;5;241m.\u001B[39m__config[\u001B[38;5;124m'\u001B[39m\u001B[38;5;124mpaths\u001B[39m\u001B[38;5;124m'\u001B[39m]\n\u001B[0;32m     39\u001B[0m     \u001B[38;5;28mself\u001B[39m\u001B[38;5;241m.\u001B[39m__exchange_data \u001B[38;5;241m=\u001B[39m \u001B[38;5;28mself\u001B[39m\u001B[38;5;241m.\u001B[39m__config[\u001B[38;5;124m'\u001B[39m\u001B[38;5;124mexchange_data\u001B[39m\u001B[38;5;124m'\u001B[39m]\n",
      "File \u001B[1;32mE:\\_programming\\projects\\reforecast_model\\src\\base\\services\\Settings.py:34\u001B[0m, in \u001B[0;36mSettings.get\u001B[1;34m()\u001B[0m\n\u001B[0;32m     23\u001B[0m \u001B[38;5;129m@staticmethod\u001B[39m\n\u001B[0;32m     24\u001B[0m \u001B[38;5;28;01mdef\u001B[39;00m \u001B[38;5;21mget\u001B[39m():\n\u001B[0;32m     25\u001B[0m \u001B[38;5;250m    \u001B[39m\u001B[38;5;124;03m\"\"\"\u001B[39;00m\n\u001B[0;32m     26\u001B[0m \u001B[38;5;124;03m    Reads and returns the settings from the JSON file.\u001B[39;00m\n\u001B[0;32m     27\u001B[0m \n\u001B[1;32m   (...)\u001B[0m\n\u001B[0;32m     32\u001B[0m \u001B[38;5;124;03m        dict: The settings contained in the JSON file.\u001B[39;00m\n\u001B[0;32m     33\u001B[0m \u001B[38;5;124;03m    \"\"\"\u001B[39;00m\n\u001B[1;32m---> 34\u001B[0m     \u001B[38;5;28;01mwith\u001B[39;00m \u001B[38;5;28;43mopen\u001B[39;49m\u001B[43m(\u001B[49m\u001B[43mSettings\u001B[49m\u001B[38;5;241;43m.\u001B[39;49m\u001B[43mSETTINGS_PATH\u001B[49m\u001B[43m,\u001B[49m\u001B[43m \u001B[49m\u001B[38;5;124;43m'\u001B[39;49m\u001B[38;5;124;43mr\u001B[39;49m\u001B[38;5;124;43m'\u001B[39;49m\u001B[43m)\u001B[49m \u001B[38;5;28;01mas\u001B[39;00m settings_json:\n\u001B[0;32m     35\u001B[0m         \u001B[38;5;28;01mreturn\u001B[39;00m json\u001B[38;5;241m.\u001B[39mload(settings_json)\n",
      "\u001B[1;31mFileNotFoundError\u001B[0m: [Errno 2] No such file or directory: './includes/config.json'"
     ]
    }
   ],
   "source": [
    "from src.base.enums.main.Modules import Modules\n",
    "from src.modules.ml.cdata.V2.classes.Trainer import Trainer\n",
    "\n",
    "trainer = Trainer(ml_module_name=Modules.CData)"
   ],
   "metadata": {
    "collapsed": false,
    "ExecuteTime": {
     "end_time": "2024-02-21T16:53:25.390328500Z",
     "start_time": "2024-02-21T16:53:14.665682400Z"
    }
   },
   "id": "a1eee6e1adb4d74a",
   "execution_count": 1
  },
  {
   "cell_type": "code",
   "outputs": [],
   "source": [
    "trainer"
   ],
   "metadata": {
    "collapsed": false,
    "ExecuteTime": {
     "end_time": "2024-02-21T16:53:25.435325500Z",
     "start_time": "2024-02-21T16:53:25.395326900Z"
    }
   },
   "id": "1129dc63ac772523",
   "execution_count": null
  },
  {
   "cell_type": "code",
   "outputs": [],
   "source": [
    "from src.base.services.MLConfig import MLConfig\n",
    "\n",
    "print(MLConfig(Modules.CData).configured_model)"
   ],
   "metadata": {
    "collapsed": false,
    "ExecuteTime": {
     "start_time": "2024-02-21T16:53:25.400329200Z"
    }
   },
   "id": "727adfd7cbae6dd4",
   "execution_count": null
  },
  {
   "cell_type": "markdown",
   "source": [],
   "metadata": {
    "collapsed": false
   },
   "id": "e0d63302f3182654"
  },
  {
   "cell_type": "code",
   "outputs": [],
   "source": [
    "print('start')\n",
    "\n",
    "from src.base.helpers.LogHelper import LogHelper\n",
    "from src.base.enums.ml.TrainingType import TrainingType\n",
    "\n",
    "result = trainer.train(TrainingType.Multiple)\n",
    "LogHelper.pretty_print(result, '\\nTrained: ')"
   ],
   "metadata": {
    "collapsed": false,
    "ExecuteTime": {
     "start_time": "2024-02-21T16:53:25.405328Z"
    }
   },
   "id": "3933de4f746bd486",
   "execution_count": null
  },
  {
   "cell_type": "code",
   "outputs": [],
   "source": [],
   "metadata": {
    "collapsed": false,
    "ExecuteTime": {
     "start_time": "2024-02-21T16:53:25.408328800Z"
    }
   },
   "id": "b52aae1ae50e4961",
   "execution_count": null
  }
 ],
 "metadata": {
  "kernelspec": {
   "display_name": "Python 3",
   "language": "python",
   "name": "python3"
  },
  "language_info": {
   "codemirror_mode": {
    "name": "ipython",
    "version": 2
   },
   "file_extension": ".py",
   "mimetype": "text/x-python",
   "name": "python",
   "nbconvert_exporter": "python",
   "pygments_lexer": "ipython2",
   "version": "2.7.6"
  }
 },
 "nbformat": 4,
 "nbformat_minor": 5
}
