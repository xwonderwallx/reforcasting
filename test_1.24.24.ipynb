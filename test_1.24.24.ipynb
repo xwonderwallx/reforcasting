{
 "cells": [
  {
   "cell_type": "code",
   "execution_count": null,
   "id": "initial_id",
   "metadata": {
    "collapsed": true
   },
   "outputs": [],
   "source": []
  },
  {
   "cell_type": "code",
   "outputs": [],
   "source": [
    "# preparation"
   ],
   "metadata": {
    "collapsed": false
   },
   "id": "2872d952bd810453"
  },
  {
   "cell_type": "code",
   "outputs": [],
   "source": [
    "from src.services.Settings import Settings\n",
    "import pandas as pd\n",
    "from src.classes.CPreparer import CPreparer\n",
    "from src.handlers.BinanceHandler import BinanceHandler\n",
    "\n",
    "# file_path = ''\n",
    "# \n",
    "# params = {\n",
    "#     'symbol': 'BTCUSDT',\n",
    "#     'timeframe': '1d',\n",
    "#     'file_name': file_path\n",
    "# }\n",
    "settings = Settings.get_settings()\n",
    "data = BinanceHandler(settings['handler_cdata']).handle()\n",
    "data"
   ],
   "metadata": {
    "collapsed": false,
    "ExecuteTime": {
     "end_time": "2024-01-25T19:43:21.849922Z",
     "start_time": "2024-01-25T19:43:11.094792900Z"
    }
   },
   "id": "7538414f55c025ee",
   "execution_count": 6
  },
  {
   "cell_type": "code",
   "outputs": [],
   "source": [
    "data"
   ],
   "metadata": {
    "collapsed": false,
    "ExecuteTime": {
     "end_time": "2024-01-25T19:43:26.737180200Z",
     "start_time": "2024-01-25T19:43:26.729181500Z"
    }
   },
   "id": "dd06c74f07b72df2",
   "execution_count": 7
  },
  {
   "cell_type": "code",
   "outputs": [],
   "source": [],
   "metadata": {
    "collapsed": false
   },
   "id": "19a0c539043c8a50"
  },
  {
   "cell_type": "code",
   "outputs": [],
   "source": [
    "import pandas as pd\n",
    "\n",
    "file_path = 'btc_data.csv'\n",
    "crypto_data = pd.read_csv(file_path)\n"
   ],
   "metadata": {
    "collapsed": false,
    "ExecuteTime": {
     "end_time": "2024-01-25T17:18:35.779560200Z",
     "start_time": "2024-01-25T17:18:35.133100500Z"
    }
   },
   "id": "c75a14cbdf6ccddb",
   "execution_count": 1
  },
  {
   "cell_type": "code",
   "outputs": [
    {
     "data": {
      "text/plain": "          Timestamp      Open      High       Low     Close        Volume\n0     1502928000000   4261.48   4485.39   4200.74   4285.08    795.150377\n1     1503014400000   4285.08   4371.52   3938.77   4108.37   1199.888264\n2     1503100800000   4108.37   4184.69   3850.00   4139.98    381.309763\n3     1503187200000   4120.98   4211.08   4032.62   4086.29    467.083022\n4     1503273600000   4069.13   4119.62   3911.79   4016.00    691.743060\n...             ...       ...       ...       ...       ...           ...\n2348  1705795200000  41696.05  41881.39  41500.98  41580.33  11730.163010\n2349  1705881600000  41580.32  41689.65  39431.58  39568.02  55426.199110\n2350  1705968000000  39568.02  40176.74  38555.00  39897.60  57956.633510\n2351  1706054400000  39897.59  40555.00  39484.19  40084.88  39293.828610\n2352  1706140800000  40084.89  40300.24  39579.58  39645.36  22220.416830\n\n[2353 rows x 6 columns]",
      "text/html": "<div>\n<style scoped>\n    .dataframe tbody tr th:only-of-type {\n        vertical-align: middle;\n    }\n\n    .dataframe tbody tr th {\n        vertical-align: top;\n    }\n\n    .dataframe thead th {\n        text-align: right;\n    }\n</style>\n<table border=\"1\" class=\"dataframe\">\n  <thead>\n    <tr style=\"text-align: right;\">\n      <th></th>\n      <th>Timestamp</th>\n      <th>Open</th>\n      <th>High</th>\n      <th>Low</th>\n      <th>Close</th>\n      <th>Volume</th>\n    </tr>\n  </thead>\n  <tbody>\n    <tr>\n      <th>0</th>\n      <td>1502928000000</td>\n      <td>4261.48</td>\n      <td>4485.39</td>\n      <td>4200.74</td>\n      <td>4285.08</td>\n      <td>795.150377</td>\n    </tr>\n    <tr>\n      <th>1</th>\n      <td>1503014400000</td>\n      <td>4285.08</td>\n      <td>4371.52</td>\n      <td>3938.77</td>\n      <td>4108.37</td>\n      <td>1199.888264</td>\n    </tr>\n    <tr>\n      <th>2</th>\n      <td>1503100800000</td>\n      <td>4108.37</td>\n      <td>4184.69</td>\n      <td>3850.00</td>\n      <td>4139.98</td>\n      <td>381.309763</td>\n    </tr>\n    <tr>\n      <th>3</th>\n      <td>1503187200000</td>\n      <td>4120.98</td>\n      <td>4211.08</td>\n      <td>4032.62</td>\n      <td>4086.29</td>\n      <td>467.083022</td>\n    </tr>\n    <tr>\n      <th>4</th>\n      <td>1503273600000</td>\n      <td>4069.13</td>\n      <td>4119.62</td>\n      <td>3911.79</td>\n      <td>4016.00</td>\n      <td>691.743060</td>\n    </tr>\n    <tr>\n      <th>...</th>\n      <td>...</td>\n      <td>...</td>\n      <td>...</td>\n      <td>...</td>\n      <td>...</td>\n      <td>...</td>\n    </tr>\n    <tr>\n      <th>2348</th>\n      <td>1705795200000</td>\n      <td>41696.05</td>\n      <td>41881.39</td>\n      <td>41500.98</td>\n      <td>41580.33</td>\n      <td>11730.163010</td>\n    </tr>\n    <tr>\n      <th>2349</th>\n      <td>1705881600000</td>\n      <td>41580.32</td>\n      <td>41689.65</td>\n      <td>39431.58</td>\n      <td>39568.02</td>\n      <td>55426.199110</td>\n    </tr>\n    <tr>\n      <th>2350</th>\n      <td>1705968000000</td>\n      <td>39568.02</td>\n      <td>40176.74</td>\n      <td>38555.00</td>\n      <td>39897.60</td>\n      <td>57956.633510</td>\n    </tr>\n    <tr>\n      <th>2351</th>\n      <td>1706054400000</td>\n      <td>39897.59</td>\n      <td>40555.00</td>\n      <td>39484.19</td>\n      <td>40084.88</td>\n      <td>39293.828610</td>\n    </tr>\n    <tr>\n      <th>2352</th>\n      <td>1706140800000</td>\n      <td>40084.89</td>\n      <td>40300.24</td>\n      <td>39579.58</td>\n      <td>39645.36</td>\n      <td>22220.416830</td>\n    </tr>\n  </tbody>\n</table>\n<p>2353 rows × 6 columns</p>\n</div>"
     },
     "execution_count": 2,
     "metadata": {},
     "output_type": "execute_result"
    }
   ],
   "source": [
    "crypto_data"
   ],
   "metadata": {
    "collapsed": false,
    "ExecuteTime": {
     "end_time": "2024-01-25T17:18:36.410705600Z",
     "start_time": "2024-01-25T17:18:36.362611300Z"
    }
   },
   "id": "1c99139110715c52",
   "execution_count": 2
  },
  {
   "cell_type": "code",
   "outputs": [],
   "source": [
    "from src.modules.cdata.classes.CPreparer import CPreparer\n",
    "# params = {\n",
    "#     'exchange_data_from_csv': crypto_data\n",
    "# }\n",
    "params = Settings.get_settings()\n",
    "\n",
    "boot = CPreparer(params)\n"
   ],
   "metadata": {
    "collapsed": false,
    "ExecuteTime": {
     "end_time": "2024-01-25T17:18:41.201879700Z",
     "start_time": "2024-01-25T17:18:40.461815700Z"
    }
   },
   "id": "23d2f2f1cabcf38e",
   "execution_count": 3
  },
  {
   "cell_type": "code",
   "outputs": [
    {
     "ename": "KeyError",
     "evalue": "'Close'",
     "output_type": "error",
     "traceback": [
      "\u001B[1;31m---------------------------------------------------------------------------\u001B[0m",
      "\u001B[1;31mKeyError\u001B[0m                                  Traceback (most recent call last)",
      "File \u001B[1;32m~\\AppData\\Local\\Packages\\PythonSoftwareFoundation.Python.3.11_qbz5n2kfra8p0\\LocalCache\\local-packages\\Python311\\site-packages\\pandas\\core\\indexes\\base.py:3790\u001B[0m, in \u001B[0;36mIndex.get_loc\u001B[1;34m(self, key)\u001B[0m\n\u001B[0;32m   3789\u001B[0m \u001B[38;5;28;01mtry\u001B[39;00m:\n\u001B[1;32m-> 3790\u001B[0m     \u001B[38;5;28;01mreturn\u001B[39;00m \u001B[38;5;28;43mself\u001B[39;49m\u001B[38;5;241;43m.\u001B[39;49m\u001B[43m_engine\u001B[49m\u001B[38;5;241;43m.\u001B[39;49m\u001B[43mget_loc\u001B[49m\u001B[43m(\u001B[49m\u001B[43mcasted_key\u001B[49m\u001B[43m)\u001B[49m\n\u001B[0;32m   3791\u001B[0m \u001B[38;5;28;01mexcept\u001B[39;00m \u001B[38;5;167;01mKeyError\u001B[39;00m \u001B[38;5;28;01mas\u001B[39;00m err:\n",
      "File \u001B[1;32mindex.pyx:152\u001B[0m, in \u001B[0;36mpandas._libs.index.IndexEngine.get_loc\u001B[1;34m()\u001B[0m\n",
      "File \u001B[1;32mindex.pyx:181\u001B[0m, in \u001B[0;36mpandas._libs.index.IndexEngine.get_loc\u001B[1;34m()\u001B[0m\n",
      "File \u001B[1;32mpandas\\_libs\\hashtable_class_helper.pxi:7080\u001B[0m, in \u001B[0;36mpandas._libs.hashtable.PyObjectHashTable.get_item\u001B[1;34m()\u001B[0m\n",
      "File \u001B[1;32mpandas\\_libs\\hashtable_class_helper.pxi:7088\u001B[0m, in \u001B[0;36mpandas._libs.hashtable.PyObjectHashTable.get_item\u001B[1;34m()\u001B[0m\n",
      "\u001B[1;31mKeyError\u001B[0m: 'Close'",
      "\nThe above exception was the direct cause of the following exception:\n",
      "\u001B[1;31mKeyError\u001B[0m                                  Traceback (most recent call last)",
      "Cell \u001B[1;32mIn[4], line 1\u001B[0m\n\u001B[1;32m----> 1\u001B[0m x_y_sets \u001B[38;5;241m=\u001B[39m \u001B[43mboot\u001B[49m\u001B[38;5;241;43m.\u001B[39;49m\u001B[43mprepare_data\u001B[49m\u001B[43m(\u001B[49m\u001B[43m)\u001B[49m\n\u001B[0;32m      2\u001B[0m x_y_sets\n",
      "File \u001B[1;32mE:\\_programming\\python\\reforecast_model\\src\\classes\\CPreparer.py:40\u001B[0m, in \u001B[0;36mCPreparer.prepare_data\u001B[1;34m(self)\u001B[0m\n\u001B[0;32m     38\u001B[0m df \u001B[38;5;241m=\u001B[39m \u001B[38;5;28mself\u001B[39m\u001B[38;5;241m.\u001B[39m__params[\u001B[38;5;124m'\u001B[39m\u001B[38;5;124mexchange_data_from_csv\u001B[39m\u001B[38;5;124m'\u001B[39m]\n\u001B[0;32m     39\u001B[0m df \u001B[38;5;241m=\u001B[39m \u001B[38;5;28mself\u001B[39m\u001B[38;5;241m.\u001B[39m__convert_data_columns_into_date_format(df)\n\u001B[1;32m---> 40\u001B[0m df \u001B[38;5;241m=\u001B[39m \u001B[38;5;28;43mself\u001B[39;49m\u001B[38;5;241;43m.\u001B[39;49m\u001B[43m__add_technical_indicators\u001B[49m\u001B[43m(\u001B[49m\u001B[43mdf\u001B[49m\u001B[43m)\u001B[49m\n\u001B[0;32m     42\u001B[0m \u001B[38;5;28;01mreturn\u001B[39;00m df\n",
      "File \u001B[1;32mE:\\_programming\\python\\reforecast_model\\src\\classes\\CPreparer.py:81\u001B[0m, in \u001B[0;36mCPreparer.__add_technical_indicators\u001B[1;34m(self, df)\u001B[0m\n\u001B[0;32m     80\u001B[0m \u001B[38;5;28;01mdef\u001B[39;00m \u001B[38;5;21m__add_technical_indicators\u001B[39m(\u001B[38;5;28mself\u001B[39m, df):\n\u001B[1;32m---> 81\u001B[0m     df[\u001B[38;5;124m'\u001B[39m\u001B[38;5;124mRSI\u001B[39m\u001B[38;5;124m'\u001B[39m] \u001B[38;5;241m=\u001B[39m \u001B[38;5;28;43mself\u001B[39;49m\u001B[38;5;241;43m.\u001B[39;49m\u001B[43m__calculate_rsi\u001B[49m\u001B[43m(\u001B[49m\u001B[43mdf\u001B[49m\u001B[43m,\u001B[49m\u001B[43m \u001B[49m\u001B[38;5;241;43m14\u001B[39;49m\u001B[43m)\u001B[49m\n\u001B[0;32m     82\u001B[0m     ema_12 \u001B[38;5;241m=\u001B[39m df[\u001B[38;5;124m'\u001B[39m\u001B[38;5;124mClose\u001B[39m\u001B[38;5;124m'\u001B[39m]\u001B[38;5;241m.\u001B[39mewm(span\u001B[38;5;241m=\u001B[39m\u001B[38;5;241m12\u001B[39m, adjust\u001B[38;5;241m=\u001B[39m\u001B[38;5;28;01mFalse\u001B[39;00m)\u001B[38;5;241m.\u001B[39mmean()\n\u001B[0;32m     83\u001B[0m     ema_26 \u001B[38;5;241m=\u001B[39m df[\u001B[38;5;124m'\u001B[39m\u001B[38;5;124mClose\u001B[39m\u001B[38;5;124m'\u001B[39m]\u001B[38;5;241m.\u001B[39mewm(span\u001B[38;5;241m=\u001B[39m\u001B[38;5;241m26\u001B[39m, adjust\u001B[38;5;241m=\u001B[39m\u001B[38;5;28;01mFalse\u001B[39;00m)\u001B[38;5;241m.\u001B[39mmean()\n",
      "File \u001B[1;32mE:\\_programming\\python\\reforecast_model\\src\\classes\\CPreparer.py:74\u001B[0m, in \u001B[0;36mCPreparer.__calculate_rsi\u001B[1;34m(self, df, window)\u001B[0m\n\u001B[0;32m     73\u001B[0m \u001B[38;5;28;01mdef\u001B[39;00m \u001B[38;5;21m__calculate_rsi\u001B[39m(\u001B[38;5;28mself\u001B[39m, df, window\u001B[38;5;241m=\u001B[39m\u001B[38;5;241m14\u001B[39m):\n\u001B[1;32m---> 74\u001B[0m     delta \u001B[38;5;241m=\u001B[39m \u001B[43mdf\u001B[49m\u001B[43m[\u001B[49m\u001B[38;5;124;43m'\u001B[39;49m\u001B[38;5;124;43mClose\u001B[39;49m\u001B[38;5;124;43m'\u001B[39;49m\u001B[43m]\u001B[49m\u001B[38;5;241m.\u001B[39mdiff()\n\u001B[0;32m     75\u001B[0m     gain \u001B[38;5;241m=\u001B[39m (delta\u001B[38;5;241m.\u001B[39mwhere(delta \u001B[38;5;241m>\u001B[39m \u001B[38;5;241m0\u001B[39m, \u001B[38;5;241m0\u001B[39m))\u001B[38;5;241m.\u001B[39mrolling(window\u001B[38;5;241m=\u001B[39mwindow)\u001B[38;5;241m.\u001B[39mmean()\n\u001B[0;32m     76\u001B[0m     loss \u001B[38;5;241m=\u001B[39m (\u001B[38;5;241m-\u001B[39mdelta\u001B[38;5;241m.\u001B[39mwhere(delta \u001B[38;5;241m<\u001B[39m \u001B[38;5;241m0\u001B[39m, \u001B[38;5;241m0\u001B[39m))\u001B[38;5;241m.\u001B[39mrolling(window\u001B[38;5;241m=\u001B[39mwindow)\u001B[38;5;241m.\u001B[39mmean()\n",
      "File \u001B[1;32m~\\AppData\\Local\\Packages\\PythonSoftwareFoundation.Python.3.11_qbz5n2kfra8p0\\LocalCache\\local-packages\\Python311\\site-packages\\pandas\\core\\frame.py:3893\u001B[0m, in \u001B[0;36mDataFrame.__getitem__\u001B[1;34m(self, key)\u001B[0m\n\u001B[0;32m   3891\u001B[0m \u001B[38;5;28;01mif\u001B[39;00m \u001B[38;5;28mself\u001B[39m\u001B[38;5;241m.\u001B[39mcolumns\u001B[38;5;241m.\u001B[39mnlevels \u001B[38;5;241m>\u001B[39m \u001B[38;5;241m1\u001B[39m:\n\u001B[0;32m   3892\u001B[0m     \u001B[38;5;28;01mreturn\u001B[39;00m \u001B[38;5;28mself\u001B[39m\u001B[38;5;241m.\u001B[39m_getitem_multilevel(key)\n\u001B[1;32m-> 3893\u001B[0m indexer \u001B[38;5;241m=\u001B[39m \u001B[38;5;28;43mself\u001B[39;49m\u001B[38;5;241;43m.\u001B[39;49m\u001B[43mcolumns\u001B[49m\u001B[38;5;241;43m.\u001B[39;49m\u001B[43mget_loc\u001B[49m\u001B[43m(\u001B[49m\u001B[43mkey\u001B[49m\u001B[43m)\u001B[49m\n\u001B[0;32m   3894\u001B[0m \u001B[38;5;28;01mif\u001B[39;00m is_integer(indexer):\n\u001B[0;32m   3895\u001B[0m     indexer \u001B[38;5;241m=\u001B[39m [indexer]\n",
      "File \u001B[1;32m~\\AppData\\Local\\Packages\\PythonSoftwareFoundation.Python.3.11_qbz5n2kfra8p0\\LocalCache\\local-packages\\Python311\\site-packages\\pandas\\core\\indexes\\base.py:3797\u001B[0m, in \u001B[0;36mIndex.get_loc\u001B[1;34m(self, key)\u001B[0m\n\u001B[0;32m   3792\u001B[0m     \u001B[38;5;28;01mif\u001B[39;00m \u001B[38;5;28misinstance\u001B[39m(casted_key, \u001B[38;5;28mslice\u001B[39m) \u001B[38;5;129;01mor\u001B[39;00m (\n\u001B[0;32m   3793\u001B[0m         \u001B[38;5;28misinstance\u001B[39m(casted_key, abc\u001B[38;5;241m.\u001B[39mIterable)\n\u001B[0;32m   3794\u001B[0m         \u001B[38;5;129;01mand\u001B[39;00m \u001B[38;5;28many\u001B[39m(\u001B[38;5;28misinstance\u001B[39m(x, \u001B[38;5;28mslice\u001B[39m) \u001B[38;5;28;01mfor\u001B[39;00m x \u001B[38;5;129;01min\u001B[39;00m casted_key)\n\u001B[0;32m   3795\u001B[0m     ):\n\u001B[0;32m   3796\u001B[0m         \u001B[38;5;28;01mraise\u001B[39;00m InvalidIndexError(key)\n\u001B[1;32m-> 3797\u001B[0m     \u001B[38;5;28;01mraise\u001B[39;00m \u001B[38;5;167;01mKeyError\u001B[39;00m(key) \u001B[38;5;28;01mfrom\u001B[39;00m \u001B[38;5;21;01merr\u001B[39;00m\n\u001B[0;32m   3798\u001B[0m \u001B[38;5;28;01mexcept\u001B[39;00m \u001B[38;5;167;01mTypeError\u001B[39;00m:\n\u001B[0;32m   3799\u001B[0m     \u001B[38;5;66;03m# If we have a listlike key, _check_indexing_error will raise\u001B[39;00m\n\u001B[0;32m   3800\u001B[0m     \u001B[38;5;66;03m#  InvalidIndexError. Otherwise we fall through and re-raise\u001B[39;00m\n\u001B[0;32m   3801\u001B[0m     \u001B[38;5;66;03m#  the TypeError.\u001B[39;00m\n\u001B[0;32m   3802\u001B[0m     \u001B[38;5;28mself\u001B[39m\u001B[38;5;241m.\u001B[39m_check_indexing_error(key)\n",
      "\u001B[1;31mKeyError\u001B[0m: 'Close'"
     ]
    }
   ],
   "source": [
    "x_y_sets = boot.prepare_data()\n",
    "x_y_sets"
   ],
   "metadata": {
    "collapsed": false,
    "ExecuteTime": {
     "end_time": "2024-01-25T17:18:47.071040400Z",
     "start_time": "2024-01-25T17:18:43.847531500Z"
    }
   },
   "id": "d542a1420d503136",
   "execution_count": 4
  },
  {
   "cell_type": "code",
   "outputs": [],
   "source": [
    "x_y_sets"
   ],
   "metadata": {
    "collapsed": false,
    "ExecuteTime": {
     "end_time": "2024-01-25T17:01:54.926779900Z",
     "start_time": "2024-01-25T17:01:54.919778Z"
    }
   },
   "id": "bc5c501a2145b24a",
   "execution_count": 7
  },
  {
   "cell_type": "code",
   "outputs": [],
   "source": [],
   "metadata": {
    "collapsed": false
   },
   "id": "875994bf6389089c"
  },
  {
   "cell_type": "code",
   "outputs": [],
   "source": [],
   "metadata": {
    "collapsed": false
   },
   "id": "d078beeaaf66b6fc"
  },
  {
   "cell_type": "code",
   "outputs": [],
   "source": [],
   "metadata": {
    "collapsed": false
   },
   "id": "cb42a6741db87b89"
  },
  {
   "cell_type": "code",
   "outputs": [],
   "source": [],
   "metadata": {
    "collapsed": false
   },
   "id": "ad43123e38ae909e"
  }
 ],
 "metadata": {
  "kernelspec": {
   "display_name": "Python 3",
   "language": "python",
   "name": "python3"
  },
  "language_info": {
   "codemirror_mode": {
    "name": "ipython",
    "version": 2
   },
   "file_extension": ".py",
   "mimetype": "text/x-python",
   "name": "python",
   "nbconvert_exporter": "python",
   "pygments_lexer": "ipython2",
   "version": "2.7.6"
  }
 },
 "nbformat": 4,
 "nbformat_minor": 5
}
